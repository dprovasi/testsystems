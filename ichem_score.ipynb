{
 "cells": [
  {
   "cell_type": "code",
   "execution_count": 14,
   "id": "4c2f15c0-b059-4f25-95ac-4bda1608117a",
   "metadata": {},
   "outputs": [],
   "source": [
    "from openeye import oechem, oeshape, oequacpac, oeomega, oegrid\n",
    "from IPython.display import Image\n",
    "from openeye import oedepict\n",
    "import time"
   ]
  },
  {
   "cell_type": "code",
   "execution_count": 15,
   "id": "ed72095b-4854-4bef-b71d-22f54a95b42b",
   "metadata": {},
   "outputs": [],
   "source": [
    "def ChangeAtomCav(cav):\n",
    "    \"\"\"Replace Atom cavity Type and Isotope\"\"\"\n",
    "    for atom in cav.GetAtoms():\n",
    "        coords = oechem.OEFloatArray(3)\n",
    "        cav.GetCoords(atom, coords)\n",
    "        # Hydrophobic cavity points\n",
    "        if atom.GetName() == 'CA':\n",
    "            atom.SetType('C.3')\n",
    "            atom.SetAtomicNum(6)\n",
    "            atom.SetIsotope(13)\n",
    "            atom.SetImplicitHCount(0)\n",
    "        # Aromatic cavity points\n",
    "        elif atom.GetName() == 'CZ':\n",
    "            atom.SetType('C.ar')\n",
    "            atom.SetAtomicNum(6)\n",
    "            atom.SetIsotope(15)\n",
    "            atom.SetImplicitHCount(0)\n",
    "        # Hydrogen-bond donor cavity points\n",
    "        elif atom.GetName() == 'N':\n",
    "            atom.SetType('N.am')\n",
    "            atom.SetAtomicNum(7)\n",
    "            atom.SetIsotope(14)\n",
    "            atom.SetImplicitHCount(0)\n",
    "        # Hydrogen-bond acceptor cavity points\n",
    "        elif atom.GetName() == 'O':\n",
    "            atom.SetType('O.2')\n",
    "            atom.SetAtomicNum(8)\n",
    "            atom.SetIsotope(14)\n",
    "            atom.SetImplicitHCount(0)\n",
    "        # Positively ionizable cavity point\n",
    "        elif atom.GetName() == 'NZ':\n",
    "            atom.SetType('N.4')\n",
    "            atom.SetAtomicNum(7)\n",
    "            atom.SetIsotope(15)\n",
    "            atom.SetImplicitHCount(0)\n",
    "        # Hydrogen-bond acceptor/donor cavity points\n",
    "        elif atom.GetName() == 'OG':\n",
    "            atom.SetType('O.3')\n",
    "            atom.SetAtomicNum(8)\n",
    "            atom.SetIsotope(15)\n",
    "            atom.SetImplicitHCount(0)\n",
    "        # Negatively ionizable cavity points\n",
    "        elif atom.GetName() == 'OD1':\n",
    "            atom.SetType('O.co2')\n",
    "            atom.SetAtomicNum(8)\n",
    "            atom.SetIsotope(17)\n",
    "            atom.SetImplicitHCount(0)\n",
    "        # Metal cavity points\n",
    "        elif atom.GetName() == 'Zn':\n",
    "            atom.SetType('Zn')\n",
    "            atom.SetAtomicNum(30)\n",
    "            atom.SetIsotope(54)\n",
    "            atom.SetImplicitHCount(0)\n",
    "        # Dummy cavity points\n",
    "        elif atom.GetName() == 'DU':\n",
    "            atom.SetType('H')\n",
    "            atom.SetIsotope(2)\n",
    "            atom.SetAtomicNum(1)\n",
    "            atom.SetImplicitHCount(0)\n",
    "    return(cav)"
   ]
  },
  {
   "cell_type": "code",
   "execution_count": 16,
   "id": "b42f45d3-dfa4-46c3-a907-94784454c0b7",
   "metadata": {},
   "outputs": [
    {
     "data": {
      "text/plain": [
       "True"
      ]
     },
     "execution_count": 16,
     "metadata": {},
     "output_type": "execute_result"
    }
   ],
   "source": [
    "# ICHEM alignment and scoring settings\n",
    "cff = oeshape.OEColorForceField()\n",
    "cff.Init(\"CavLig14.cff\", False)\n",
    "\n",
    "refcav = oechem.OEGraphMol()\n",
    "reffs = oechem.oemolistream(\"without_water_ligand_hydrogen_hydrogen.mol2\")\n",
    "oechem.OEReadMolecule(reffs, refcav)\n",
    "refmol = ChangeAtomCav(refcav)\n",
    "prep = oeshape.OEOverlapPrep()\n",
    "prep.SetColorForceField(cff)\n",
    "prep.Prep(refmol)\n",
    "\n",
    "colopt = oeshape.OEColorOptions()\n",
    "colopt.SetColorForceField(cff)\n",
    "shopt = oeshape.OEShapeOptions()\n",
    "shopt.SetCarbonRadius(1.7)\n",
    "options = oeshape.OEOverlayOptions()\n",
    "options.SetMaxOptSteps(0)\n",
    "#options.SetStarts(oeshape.OESubrocsStarts())\n",
    "options.SetStarts(oeshape.OEInertialStarts())\n",
    "#options.SetOverlapFunc(oeshape.OEOverlapFunc(oeshape.OEExactShapeFunc(shopt), oeshape.OEExactColorFunc(colopt)))\n",
    "options.SetOverlapFunc(oeshape.OEOverlapFunc(oeshape.OEGridShapeFunc(shopt), oeshape.OEGridColorFunc(colopt)))\n",
    "overlay = oeshape.OEOverlay(options)\n",
    "overlay.SetupRef(refmol)"
   ]
  },
  {
   "cell_type": "code",
   "execution_count": 17,
   "id": "9df17867-5f2b-48a7-8598-c2ef5a72ec0c",
   "metadata": {},
   "outputs": [],
   "source": [
    "# OMEGA settings\n",
    "oechem.OEThrow.SetLevel(10000)\n",
    "omega_options = oeomega.OEOmegaOptions()\n",
    "omega_options.SetStrictStereo(False)\n",
    "omega_options.SetEnergyWindow(10)\n",
    "#omega_options.SetMaxConfs(200)\n",
    "omega_options.SetMaxConfs(100)\n",
    "omega = oeomega.OEOmega(omega_options)"
   ]
  },
  {
   "cell_type": "code",
   "execution_count": 18,
   "id": "6b104bbd-dd4b-480b-bc37-1a34ae19144d",
   "metadata": {},
   "outputs": [],
   "source": [
    "def ichem_score(oemol, omega=omega, ichem_overlay=overlay):\n",
    "    best_conf = oechem.OEMol()\n",
    "    best_score = 0.0\n",
    "    stereo = False\n",
    "    oequacpac.OEGetReasonableProtomer(oemol)\n",
    "    enantiomers = list(oeomega.OEFlipper(oemol.GetActive(), 3, False, True)) \n",
    "    for k, enantiomer in enumerate(enantiomers):\n",
    "        enantiomer = oechem.OEMol(enantiomer)\n",
    "        ret_code = omega.Build(enantiomer)\n",
    "        if ret_code == oeomega.OEOmegaReturnCode_Success:\n",
    "            if k == 0:\n",
    "                oemol = oechem.OEMol(enantiomer.SCMol())\n",
    "                oemol.DeleteConfs()\n",
    "            stereo = True\n",
    "            for x in enantiomer.GetConfs():\n",
    "                oemol.NewConf(x)\n",
    "    if stereo:\n",
    "        prep = oeshape.OEOverlapPrep()\n",
    "        prep.Prep(oemol)\n",
    "        score = oeshape.OEBestOverlayScore()\n",
    "        ichem_overlay.BestOverlay(score, oemol, oeshape.OEHighestTanimotoCombo())\n",
    "        outmol = oechem.OEGraphMol(oemol.GetConf(oechem.OEHasConfIdx(score.GetFitConfIdx())))\n",
    "        score.Transform(outmol)\n",
    "        oeshape.OERemoveColorAtoms(outmol)\n",
    "        if oechem.OEHasImplicitHydrogens(outmol):\n",
    "            oechem.OEAddExplicitHydrogens(outmol)\n",
    "        best_conf = oechem.OEMol(outmol)\n",
    "        best_score = score.GetTanimotoCombo()\n",
    "    return stereo, best_conf, best_score"
   ]
  },
  {
   "cell_type": "code",
   "execution_count": 19,
   "id": "0c080943-9135-445a-b362-b8afaec18591",
   "metadata": {},
   "outputs": [
    {
     "name": "stdout",
     "output_type": "stream",
     "text": [
      "Score: 0.45124074816703796\n"
     ]
    }
   ],
   "source": [
    "# Output file\n",
    "outfs = oechem.oemolostream(\"ichem_best.sdf\")\n",
    "\n",
    "# Input SMILES\n",
    "smiles = \"c1c(O)ccc(c12)C[C@@H]([NH2+]C2)C(=O)N[C@@H](C(C)C)C[N@H+](CC3)C[C@H](C)[C@]3(C)c4cc(O)ccc4\"\n",
    "\n",
    "# Calculate ICHEM score and save corresponding 3D conformer\n",
    "fitfs = oechem.OEMol()\n",
    "if oechem.OESmilesToMol(fitfs, smiles):\n",
    "    stereo_, best_conf_, best_score_ = ichem_score(fitfs)\n",
    "    oechem.OEWriteMolecule(outfs, best_conf_)\n",
    "    print(f'Score: {best_score_}')"
   ]
  }
 ],
 "metadata": {
  "kernelspec": {
   "display_name": "Python 3 (ipykernel)",
   "language": "python",
   "name": "python3"
  },
  "language_info": {
   "codemirror_mode": {
    "name": "ipython",
    "version": 3
   },
   "file_extension": ".py",
   "mimetype": "text/x-python",
   "name": "python",
   "nbconvert_exporter": "python",
   "pygments_lexer": "ipython3",
   "version": "3.7.12"
  }
 },
 "nbformat": 4,
 "nbformat_minor": 5
}
