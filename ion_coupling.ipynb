{
 "cells": [
  {
   "cell_type": "markdown",
   "metadata": {},
   "source": [
    "## Kinetic model with finite ion concentration"
   ]
  },
  {
   "cell_type": "code",
   "execution_count": 449,
   "metadata": {},
   "outputs": [
    {
     "data": {
      "text/html": [
       "\n",
       "    <div class=\"bk-root\">\n",
       "        <a href=\"https://bokeh.pydata.org\" target=\"_blank\" class=\"bk-logo bk-logo-small bk-logo-notebook\"></a>\n",
       "        <span id=\"3728c524-a678-4512-b8f1-37552b79cfde\">Loading BokehJS ...</span>\n",
       "    </div>"
      ]
     },
     "metadata": {},
     "output_type": "display_data"
    },
    {
     "data": {
      "application/javascript": [
       "\n",
       "(function(root) {\n",
       "  function now() {\n",
       "    return new Date();\n",
       "  }\n",
       "\n",
       "  var force = true;\n",
       "\n",
       "  if (typeof (root._bokeh_onload_callbacks) === \"undefined\" || force === true) {\n",
       "    root._bokeh_onload_callbacks = [];\n",
       "    root._bokeh_is_loading = undefined;\n",
       "  }\n",
       "\n",
       "  var JS_MIME_TYPE = 'application/javascript';\n",
       "  var HTML_MIME_TYPE = 'text/html';\n",
       "  var EXEC_MIME_TYPE = 'application/vnd.bokehjs_exec.v0+json';\n",
       "  var CLASS_NAME = 'output_bokeh rendered_html';\n",
       "\n",
       "  /**\n",
       "   * Render data to the DOM node\n",
       "   */\n",
       "  function render(props, node) {\n",
       "    var script = document.createElement(\"script\");\n",
       "    node.appendChild(script);\n",
       "  }\n",
       "\n",
       "  /**\n",
       "   * Handle when an output is cleared or removed\n",
       "   */\n",
       "  function handleClearOutput(event, handle) {\n",
       "    var cell = handle.cell;\n",
       "\n",
       "    var id = cell.output_area._bokeh_element_id;\n",
       "    var server_id = cell.output_area._bokeh_server_id;\n",
       "    // Clean up Bokeh references\n",
       "    if (id !== undefined) {\n",
       "      Bokeh.index[id].model.document.clear();\n",
       "      delete Bokeh.index[id];\n",
       "    }\n",
       "\n",
       "    if (server_id !== undefined) {\n",
       "      // Clean up Bokeh references\n",
       "      var cmd = \"from bokeh.io.state import curstate; print(curstate().uuid_to_server['\" + server_id + \"'].get_sessions()[0].document.roots[0]._id)\";\n",
       "      cell.notebook.kernel.execute(cmd, {\n",
       "        iopub: {\n",
       "          output: function(msg) {\n",
       "            var element_id = msg.content.text.trim();\n",
       "            Bokeh.index[element_id].model.document.clear();\n",
       "            delete Bokeh.index[element_id];\n",
       "          }\n",
       "        }\n",
       "      });\n",
       "      // Destroy server and session\n",
       "      var cmd = \"import bokeh.io.notebook as ion; ion.destroy_server('\" + server_id + \"')\";\n",
       "      cell.notebook.kernel.execute(cmd);\n",
       "    }\n",
       "  }\n",
       "\n",
       "  /**\n",
       "   * Handle when a new output is added\n",
       "   */\n",
       "  function handleAddOutput(event, handle) {\n",
       "    var output_area = handle.output_area;\n",
       "    var output = handle.output;\n",
       "\n",
       "    // limit handleAddOutput to display_data with EXEC_MIME_TYPE content only\n",
       "    if ((output.output_type != \"display_data\") || (!output.data.hasOwnProperty(EXEC_MIME_TYPE))) {\n",
       "      return\n",
       "    }\n",
       "\n",
       "    var toinsert = output_area.element.find(\".\" + CLASS_NAME.split(' ')[0]);\n",
       "\n",
       "    if (output.metadata[EXEC_MIME_TYPE][\"id\"] !== undefined) {\n",
       "      toinsert[0].firstChild.textContent = output.data[JS_MIME_TYPE];\n",
       "      // store reference to embed id on output_area\n",
       "      output_area._bokeh_element_id = output.metadata[EXEC_MIME_TYPE][\"id\"];\n",
       "    }\n",
       "    if (output.metadata[EXEC_MIME_TYPE][\"server_id\"] !== undefined) {\n",
       "      var bk_div = document.createElement(\"div\");\n",
       "      bk_div.innerHTML = output.data[HTML_MIME_TYPE];\n",
       "      var script_attrs = bk_div.children[0].attributes;\n",
       "      for (var i = 0; i < script_attrs.length; i++) {\n",
       "        toinsert[0].firstChild.setAttribute(script_attrs[i].name, script_attrs[i].value);\n",
       "      }\n",
       "      // store reference to server id on output_area\n",
       "      output_area._bokeh_server_id = output.metadata[EXEC_MIME_TYPE][\"server_id\"];\n",
       "    }\n",
       "  }\n",
       "\n",
       "  function register_renderer(events, OutputArea) {\n",
       "\n",
       "    function append_mime(data, metadata, element) {\n",
       "      // create a DOM node to render to\n",
       "      var toinsert = this.create_output_subarea(\n",
       "        metadata,\n",
       "        CLASS_NAME,\n",
       "        EXEC_MIME_TYPE\n",
       "      );\n",
       "      this.keyboard_manager.register_events(toinsert);\n",
       "      // Render to node\n",
       "      var props = {data: data, metadata: metadata[EXEC_MIME_TYPE]};\n",
       "      render(props, toinsert[0]);\n",
       "      element.append(toinsert);\n",
       "      return toinsert\n",
       "    }\n",
       "\n",
       "    /* Handle when an output is cleared or removed */\n",
       "    events.on('clear_output.CodeCell', handleClearOutput);\n",
       "    events.on('delete.Cell', handleClearOutput);\n",
       "\n",
       "    /* Handle when a new output is added */\n",
       "    events.on('output_added.OutputArea', handleAddOutput);\n",
       "\n",
       "    /**\n",
       "     * Register the mime type and append_mime function with output_area\n",
       "     */\n",
       "    OutputArea.prototype.register_mime_type(EXEC_MIME_TYPE, append_mime, {\n",
       "      /* Is output safe? */\n",
       "      safe: true,\n",
       "      /* Index of renderer in `output_area.display_order` */\n",
       "      index: 0\n",
       "    });\n",
       "  }\n",
       "\n",
       "  // register the mime type if in Jupyter Notebook environment and previously unregistered\n",
       "  if (root.Jupyter !== undefined) {\n",
       "    var events = require('base/js/events');\n",
       "    var OutputArea = require('notebook/js/outputarea').OutputArea;\n",
       "\n",
       "    if (OutputArea.prototype.mime_types().indexOf(EXEC_MIME_TYPE) == -1) {\n",
       "      register_renderer(events, OutputArea);\n",
       "    }\n",
       "  }\n",
       "\n",
       "  \n",
       "  if (typeof (root._bokeh_timeout) === \"undefined\" || force === true) {\n",
       "    root._bokeh_timeout = Date.now() + 5000;\n",
       "    root._bokeh_failed_load = false;\n",
       "  }\n",
       "\n",
       "  var NB_LOAD_WARNING = {'data': {'text/html':\n",
       "     \"<div style='background-color: #fdd'>\\n\"+\n",
       "     \"<p>\\n\"+\n",
       "     \"BokehJS does not appear to have successfully loaded. If loading BokehJS from CDN, this \\n\"+\n",
       "     \"may be due to a slow or bad network connection. Possible fixes:\\n\"+\n",
       "     \"</p>\\n\"+\n",
       "     \"<ul>\\n\"+\n",
       "     \"<li>re-rerun `output_notebook()` to attempt to load from CDN again, or</li>\\n\"+\n",
       "     \"<li>use INLINE resources instead, as so:</li>\\n\"+\n",
       "     \"</ul>\\n\"+\n",
       "     \"<code>\\n\"+\n",
       "     \"from bokeh.resources import INLINE\\n\"+\n",
       "     \"output_notebook(resources=INLINE)\\n\"+\n",
       "     \"</code>\\n\"+\n",
       "     \"</div>\"}};\n",
       "\n",
       "  function display_loaded() {\n",
       "    var el = document.getElementById(\"3728c524-a678-4512-b8f1-37552b79cfde\");\n",
       "    if (el != null) {\n",
       "      el.textContent = \"BokehJS is loading...\";\n",
       "    }\n",
       "    if (root.Bokeh !== undefined) {\n",
       "      if (el != null) {\n",
       "        el.textContent = \"BokehJS \" + root.Bokeh.version + \" successfully loaded.\";\n",
       "      }\n",
       "    } else if (Date.now() < root._bokeh_timeout) {\n",
       "      setTimeout(display_loaded, 100)\n",
       "    }\n",
       "  }\n",
       "\n",
       "\n",
       "  function run_callbacks() {\n",
       "    try {\n",
       "      root._bokeh_onload_callbacks.forEach(function(callback) { callback() });\n",
       "    }\n",
       "    finally {\n",
       "      delete root._bokeh_onload_callbacks\n",
       "    }\n",
       "    console.info(\"Bokeh: all callbacks have finished\");\n",
       "  }\n",
       "\n",
       "  function load_libs(js_urls, callback) {\n",
       "    root._bokeh_onload_callbacks.push(callback);\n",
       "    if (root._bokeh_is_loading > 0) {\n",
       "      console.log(\"Bokeh: BokehJS is being loaded, scheduling callback at\", now());\n",
       "      return null;\n",
       "    }\n",
       "    if (js_urls == null || js_urls.length === 0) {\n",
       "      run_callbacks();\n",
       "      return null;\n",
       "    }\n",
       "    console.log(\"Bokeh: BokehJS not loaded, scheduling load and callback at\", now());\n",
       "    root._bokeh_is_loading = js_urls.length;\n",
       "    for (var i = 0; i < js_urls.length; i++) {\n",
       "      var url = js_urls[i];\n",
       "      var s = document.createElement('script');\n",
       "      s.src = url;\n",
       "      s.async = false;\n",
       "      s.onreadystatechange = s.onload = function() {\n",
       "        root._bokeh_is_loading--;\n",
       "        if (root._bokeh_is_loading === 0) {\n",
       "          console.log(\"Bokeh: all BokehJS libraries loaded\");\n",
       "          run_callbacks()\n",
       "        }\n",
       "      };\n",
       "      s.onerror = function() {\n",
       "        console.warn(\"failed to load library \" + url);\n",
       "      };\n",
       "      console.log(\"Bokeh: injecting script tag for BokehJS library: \", url);\n",
       "      document.getElementsByTagName(\"head\")[0].appendChild(s);\n",
       "    }\n",
       "  };var element = document.getElementById(\"3728c524-a678-4512-b8f1-37552b79cfde\");\n",
       "  if (element == null) {\n",
       "    console.log(\"Bokeh: ERROR: autoload.js configured with elementid '3728c524-a678-4512-b8f1-37552b79cfde' but no matching script tag was found. \")\n",
       "    return false;\n",
       "  }\n",
       "\n",
       "  var js_urls = [\"https://cdn.pydata.org/bokeh/release/bokeh-0.12.13.min.js\", \"https://cdn.pydata.org/bokeh/release/bokeh-widgets-0.12.13.min.js\", \"https://cdn.pydata.org/bokeh/release/bokeh-tables-0.12.13.min.js\", \"https://cdn.pydata.org/bokeh/release/bokeh-gl-0.12.13.min.js\"];\n",
       "\n",
       "  var inline_js = [\n",
       "    function(Bokeh) {\n",
       "      Bokeh.set_log_level(\"info\");\n",
       "    },\n",
       "    \n",
       "    function(Bokeh) {\n",
       "      \n",
       "    },\n",
       "    function(Bokeh) {\n",
       "      console.log(\"Bokeh: injecting CSS: https://cdn.pydata.org/bokeh/release/bokeh-0.12.13.min.css\");\n",
       "      Bokeh.embed.inject_css(\"https://cdn.pydata.org/bokeh/release/bokeh-0.12.13.min.css\");\n",
       "      console.log(\"Bokeh: injecting CSS: https://cdn.pydata.org/bokeh/release/bokeh-widgets-0.12.13.min.css\");\n",
       "      Bokeh.embed.inject_css(\"https://cdn.pydata.org/bokeh/release/bokeh-widgets-0.12.13.min.css\");\n",
       "      console.log(\"Bokeh: injecting CSS: https://cdn.pydata.org/bokeh/release/bokeh-tables-0.12.13.min.css\");\n",
       "      Bokeh.embed.inject_css(\"https://cdn.pydata.org/bokeh/release/bokeh-tables-0.12.13.min.css\");\n",
       "    }\n",
       "  ];\n",
       "\n",
       "  function run_inline_js() {\n",
       "    \n",
       "    if ((root.Bokeh !== undefined) || (force === true)) {\n",
       "      for (var i = 0; i < inline_js.length; i++) {\n",
       "        inline_js[i].call(root, root.Bokeh);\n",
       "      }if (force === true) {\n",
       "        display_loaded();\n",
       "      }} else if (Date.now() < root._bokeh_timeout) {\n",
       "      setTimeout(run_inline_js, 100);\n",
       "    } else if (!root._bokeh_failed_load) {\n",
       "      console.log(\"Bokeh: BokehJS failed to load within specified timeout.\");\n",
       "      root._bokeh_failed_load = true;\n",
       "    } else if (force !== true) {\n",
       "      var cell = $(document.getElementById(\"3728c524-a678-4512-b8f1-37552b79cfde\")).parents('.cell').data().cell;\n",
       "      cell.output_area.append_execute_result(NB_LOAD_WARNING)\n",
       "    }\n",
       "\n",
       "  }\n",
       "\n",
       "  if (root._bokeh_is_loading === 0) {\n",
       "    console.log(\"Bokeh: BokehJS loaded, going straight to plotting\");\n",
       "    run_inline_js();\n",
       "  } else {\n",
       "    load_libs(js_urls, function() {\n",
       "      console.log(\"Bokeh: BokehJS plotting callback run at\", now());\n",
       "      run_inline_js();\n",
       "    });\n",
       "  }\n",
       "}(window));"
      ],
      "application/vnd.bokehjs_load.v0+json": "\n(function(root) {\n  function now() {\n    return new Date();\n  }\n\n  var force = true;\n\n  if (typeof (root._bokeh_onload_callbacks) === \"undefined\" || force === true) {\n    root._bokeh_onload_callbacks = [];\n    root._bokeh_is_loading = undefined;\n  }\n\n  \n\n  \n  if (typeof (root._bokeh_timeout) === \"undefined\" || force === true) {\n    root._bokeh_timeout = Date.now() + 5000;\n    root._bokeh_failed_load = false;\n  }\n\n  var NB_LOAD_WARNING = {'data': {'text/html':\n     \"<div style='background-color: #fdd'>\\n\"+\n     \"<p>\\n\"+\n     \"BokehJS does not appear to have successfully loaded. If loading BokehJS from CDN, this \\n\"+\n     \"may be due to a slow or bad network connection. Possible fixes:\\n\"+\n     \"</p>\\n\"+\n     \"<ul>\\n\"+\n     \"<li>re-rerun `output_notebook()` to attempt to load from CDN again, or</li>\\n\"+\n     \"<li>use INLINE resources instead, as so:</li>\\n\"+\n     \"</ul>\\n\"+\n     \"<code>\\n\"+\n     \"from bokeh.resources import INLINE\\n\"+\n     \"output_notebook(resources=INLINE)\\n\"+\n     \"</code>\\n\"+\n     \"</div>\"}};\n\n  function display_loaded() {\n    var el = document.getElementById(\"3728c524-a678-4512-b8f1-37552b79cfde\");\n    if (el != null) {\n      el.textContent = \"BokehJS is loading...\";\n    }\n    if (root.Bokeh !== undefined) {\n      if (el != null) {\n        el.textContent = \"BokehJS \" + root.Bokeh.version + \" successfully loaded.\";\n      }\n    } else if (Date.now() < root._bokeh_timeout) {\n      setTimeout(display_loaded, 100)\n    }\n  }\n\n\n  function run_callbacks() {\n    try {\n      root._bokeh_onload_callbacks.forEach(function(callback) { callback() });\n    }\n    finally {\n      delete root._bokeh_onload_callbacks\n    }\n    console.info(\"Bokeh: all callbacks have finished\");\n  }\n\n  function load_libs(js_urls, callback) {\n    root._bokeh_onload_callbacks.push(callback);\n    if (root._bokeh_is_loading > 0) {\n      console.log(\"Bokeh: BokehJS is being loaded, scheduling callback at\", now());\n      return null;\n    }\n    if (js_urls == null || js_urls.length === 0) {\n      run_callbacks();\n      return null;\n    }\n    console.log(\"Bokeh: BokehJS not loaded, scheduling load and callback at\", now());\n    root._bokeh_is_loading = js_urls.length;\n    for (var i = 0; i < js_urls.length; i++) {\n      var url = js_urls[i];\n      var s = document.createElement('script');\n      s.src = url;\n      s.async = false;\n      s.onreadystatechange = s.onload = function() {\n        root._bokeh_is_loading--;\n        if (root._bokeh_is_loading === 0) {\n          console.log(\"Bokeh: all BokehJS libraries loaded\");\n          run_callbacks()\n        }\n      };\n      s.onerror = function() {\n        console.warn(\"failed to load library \" + url);\n      };\n      console.log(\"Bokeh: injecting script tag for BokehJS library: \", url);\n      document.getElementsByTagName(\"head\")[0].appendChild(s);\n    }\n  };var element = document.getElementById(\"3728c524-a678-4512-b8f1-37552b79cfde\");\n  if (element == null) {\n    console.log(\"Bokeh: ERROR: autoload.js configured with elementid '3728c524-a678-4512-b8f1-37552b79cfde' but no matching script tag was found. \")\n    return false;\n  }\n\n  var js_urls = [\"https://cdn.pydata.org/bokeh/release/bokeh-0.12.13.min.js\", \"https://cdn.pydata.org/bokeh/release/bokeh-widgets-0.12.13.min.js\", \"https://cdn.pydata.org/bokeh/release/bokeh-tables-0.12.13.min.js\", \"https://cdn.pydata.org/bokeh/release/bokeh-gl-0.12.13.min.js\"];\n\n  var inline_js = [\n    function(Bokeh) {\n      Bokeh.set_log_level(\"info\");\n    },\n    \n    function(Bokeh) {\n      \n    },\n    function(Bokeh) {\n      console.log(\"Bokeh: injecting CSS: https://cdn.pydata.org/bokeh/release/bokeh-0.12.13.min.css\");\n      Bokeh.embed.inject_css(\"https://cdn.pydata.org/bokeh/release/bokeh-0.12.13.min.css\");\n      console.log(\"Bokeh: injecting CSS: https://cdn.pydata.org/bokeh/release/bokeh-widgets-0.12.13.min.css\");\n      Bokeh.embed.inject_css(\"https://cdn.pydata.org/bokeh/release/bokeh-widgets-0.12.13.min.css\");\n      console.log(\"Bokeh: injecting CSS: https://cdn.pydata.org/bokeh/release/bokeh-tables-0.12.13.min.css\");\n      Bokeh.embed.inject_css(\"https://cdn.pydata.org/bokeh/release/bokeh-tables-0.12.13.min.css\");\n    }\n  ];\n\n  function run_inline_js() {\n    \n    if ((root.Bokeh !== undefined) || (force === true)) {\n      for (var i = 0; i < inline_js.length; i++) {\n        inline_js[i].call(root, root.Bokeh);\n      }if (force === true) {\n        display_loaded();\n      }} else if (Date.now() < root._bokeh_timeout) {\n      setTimeout(run_inline_js, 100);\n    } else if (!root._bokeh_failed_load) {\n      console.log(\"Bokeh: BokehJS failed to load within specified timeout.\");\n      root._bokeh_failed_load = true;\n    } else if (force !== true) {\n      var cell = $(document.getElementById(\"3728c524-a678-4512-b8f1-37552b79cfde\")).parents('.cell').data().cell;\n      cell.output_area.append_execute_result(NB_LOAD_WARNING)\n    }\n\n  }\n\n  if (root._bokeh_is_loading === 0) {\n    console.log(\"Bokeh: BokehJS loaded, going straight to plotting\");\n    run_inline_js();\n  } else {\n    load_libs(js_urls, function() {\n      console.log(\"Bokeh: BokehJS plotting callback run at\", now());\n      run_inline_js();\n    });\n  }\n}(window));"
     },
     "metadata": {},
     "output_type": "display_data"
    }
   ],
   "source": [
    "import numpy as np\n",
    "import pandas as pd\n",
    "\n",
    "import bokeh\n",
    "from bokeh.plotting import figure, output_file, show\n",
    "from bokeh.io import output_notebook\n",
    "from bokeh.models import ColumnDataSource\n",
    "output_notebook()"
   ]
  },
  {
   "cell_type": "markdown",
   "metadata": {},
   "source": [
    "## Encounter formation\n",
    "### 1st-order rate for encounter complex formation"
   ]
  },
  {
   "cell_type": "markdown",
   "metadata": {},
   "source": [
    "The (outer) encounter complex is represented by the reference ion into a cylinder or radius $r\\simeq 1.5~{\\rm nm}$ and with $z>z_{\\rm Out}$. The first-order  (Smouchowski 3d) on-rate this encounter complex is $k_{+1}^{\\rm Out} = 4 \\pi D r$. At inifinite dilution and at $25^\\circ$ the self-diffusion coefficient of ${\\rm Na}^+$ is \n",
    "$$D = 13\\times10^{-6} ~{\\rm cm}^2/s = 13\\times10^{2}~{\\rm nm}^2/\\mu s$$\n",
    "from Li and Gregory (1974) Geochimica and Cosmochimica Acta 38:703\n",
    "\n",
    "We should calculate the diffusion from the simulations as well, and check for modern values of $D$.\n"
   ]
  },
  {
   "cell_type": "code",
   "execution_count": 54,
   "metadata": {},
   "outputs": [],
   "source": [
    "r = 1.5 # in nm\n",
    "D = 13e+2 # in nm^2/us\n",
    "kp1_firstorder = 6.28*D*r # in nm^3/us"
   ]
  },
  {
   "cell_type": "code",
   "execution_count": 55,
   "metadata": {},
   "outputs": [],
   "source": [
    "# calculate the number concentration of ions for physio extracellular concentration\n",
    "mol2con= lambda mol: mol*0.62 # in nm^{-3}\n",
    "nc = mol2con(150/1000.) "
   ]
  },
  {
   "cell_type": "code",
   "execution_count": 20,
   "metadata": {},
   "outputs": [
    {
     "data": {
      "text/plain": [
       "38.307258"
      ]
     },
     "execution_count": 20,
     "metadata": {},
     "output_type": "execute_result"
    }
   ],
   "source": [
    "# we should have approx this many ions\n",
    "vol = 7.9*7.9*(10.6-4) # in nm^3\n",
    "vol*nc"
   ]
  },
  {
   "cell_type": "markdown",
   "metadata": {},
   "source": [
    "### 0th-order rate for complex formation"
   ]
  },
  {
   "cell_type": "markdown",
   "metadata": {},
   "source": [
    "The zeroth-order rate for the formation of the encounter complex is then\n",
    "$c_{\\rm EC} k_{+1}^{\\rm Out} $ and time scale of encounter complex formation is $$\\tau_{\\rm EC} \\sim \\frac{1}{c k_{+1}^{\\rm Out}} $$"
   ]
  },
  {
   "cell_type": "code",
   "execution_count": 18,
   "metadata": {},
   "outputs": [
    {
     "data": {
      "text/plain": [
       "1138.878"
      ]
     },
     "execution_count": 18,
     "metadata": {},
     "output_type": "execute_result"
    }
   ],
   "source": [
    "kp1_firstorder*nc # in 1/us"
   ]
  },
  {
   "cell_type": "code",
   "execution_count": 454,
   "metadata": {},
   "outputs": [
    {
     "data": {
      "text/html": [
       "\n",
       "<div class=\"bk-root\">\n",
       "    <div class=\"bk-plotdiv\" id=\"94eed1fd-fa36-405a-b9b6-7c9042f885eb\"></div>\n",
       "</div>"
      ]
     },
     "metadata": {},
     "output_type": "display_data"
    },
    {
     "data": {
      "application/javascript": [
       "(function(root) {\n",
       "  function embed_document(root) {\n",
       "    \n",
       "  var docs_json = {\"cf24b468-3312-4da6-9c79-8503deadad49\":{\"roots\":{\"references\":[{\"attributes\":{\"below\":[{\"id\":\"a7241534-ac90-48d7-b972-a5c5d5fea545\",\"type\":\"LinearAxis\"}],\"left\":[{\"id\":\"2e188db3-9f77-4024-a9a1-a6fd1aa65658\",\"type\":\"LinearAxis\"}],\"plot_height\":300,\"plot_width\":300,\"renderers\":[{\"id\":\"a7241534-ac90-48d7-b972-a5c5d5fea545\",\"type\":\"LinearAxis\"},{\"id\":\"e419143c-5779-4662-b56d-0e1e2c061513\",\"type\":\"Grid\"},{\"id\":\"2e188db3-9f77-4024-a9a1-a6fd1aa65658\",\"type\":\"LinearAxis\"},{\"id\":\"10a3733e-ebb5-4e16-bce3-83aca7210126\",\"type\":\"Grid\"},{\"id\":\"bf674acd-5bdb-45b0-8a54-a9007f405600\",\"type\":\"BoxAnnotation\"},{\"id\":\"05558a09-39f0-40e6-a01c-f3304d6fe875\",\"type\":\"GlyphRenderer\"}],\"title\":{\"id\":\"33034ba8-0d39-4cf5-a624-fd27b1a5a15a\",\"type\":\"Title\"},\"toolbar\":{\"id\":\"ef878a0e-266d-4c0d-babd-9c79fc747796\",\"type\":\"Toolbar\"},\"x_range\":{\"id\":\"1ccaf2ce-bf25-4ef1-b35a-89471bf16ae8\",\"type\":\"DataRange1d\"},\"x_scale\":{\"id\":\"bf3a349a-f5db-4f6a-952a-ac916edbb185\",\"type\":\"LinearScale\"},\"y_range\":{\"id\":\"e9b2118a-c720-4076-b296-88dfd7f2281f\",\"type\":\"DataRange1d\"},\"y_scale\":{\"id\":\"18c9ce0b-8e85-4956-8f64-8db4d33a4744\",\"type\":\"LinearScale\"}},\"id\":\"6f3eaa87-57ca-4d46-b3e9-0c48a1a5c94d\",\"subtype\":\"Figure\",\"type\":\"Plot\"},{\"attributes\":{\"overlay\":{\"id\":\"bf674acd-5bdb-45b0-8a54-a9007f405600\",\"type\":\"BoxAnnotation\"}},\"id\":\"791fdfc3-6b17-44be-bd9a-87775f102d2d\",\"type\":\"BoxZoomTool\"},{\"attributes\":{},\"id\":\"f6467234-fada-4a6c-9262-a5d4f46e74d2\",\"type\":\"BasicTickFormatter\"},{\"attributes\":{\"callback\":null},\"id\":\"e9b2118a-c720-4076-b296-88dfd7f2281f\",\"type\":\"DataRange1d\"},{\"attributes\":{},\"id\":\"73c6b013-8d6d-4100-ab5b-8ea569b8df8e\",\"type\":\"BasicTicker\"},{\"attributes\":{},\"id\":\"d3d3d0ec-93dd-42da-b256-f6a96e438730\",\"type\":\"WheelZoomTool\"},{\"attributes\":{},\"id\":\"31266fac-e3ef-462f-bba2-8fd030d81567\",\"type\":\"CrosshairTool\"},{\"attributes\":{\"active_drag\":\"auto\",\"active_inspect\":\"auto\",\"active_scroll\":\"auto\",\"active_tap\":\"auto\",\"tools\":[{\"id\":\"42d9d25b-e504-43bf-abef-fe7f490e9c2c\",\"type\":\"PanTool\"},{\"id\":\"d3d3d0ec-93dd-42da-b256-f6a96e438730\",\"type\":\"WheelZoomTool\"},{\"id\":\"791fdfc3-6b17-44be-bd9a-87775f102d2d\",\"type\":\"BoxZoomTool\"},{\"id\":\"7df3f1e4-252e-44d9-955b-a5eaa9b2ba85\",\"type\":\"ResetTool\"},{\"id\":\"31266fac-e3ef-462f-bba2-8fd030d81567\",\"type\":\"CrosshairTool\"}]},\"id\":\"ef878a0e-266d-4c0d-babd-9c79fc747796\",\"type\":\"Toolbar\"},{\"attributes\":{\"axis_label\":\"time (us)\",\"formatter\":{\"id\":\"e2fe37c0-fa31-413c-a977-8894894f8a02\",\"type\":\"BasicTickFormatter\"},\"plot\":{\"id\":\"6f3eaa87-57ca-4d46-b3e9-0c48a1a5c94d\",\"subtype\":\"Figure\",\"type\":\"Plot\"},\"ticker\":{\"id\":\"a1f8cf55-02ce-4dbb-859e-ddea51af48aa\",\"type\":\"BasicTicker\"}},\"id\":\"2e188db3-9f77-4024-a9a1-a6fd1aa65658\",\"type\":\"LinearAxis\"},{\"attributes\":{\"dimension\":1,\"plot\":{\"id\":\"6f3eaa87-57ca-4d46-b3e9-0c48a1a5c94d\",\"subtype\":\"Figure\",\"type\":\"Plot\"},\"ticker\":{\"id\":\"a1f8cf55-02ce-4dbb-859e-ddea51af48aa\",\"type\":\"BasicTicker\"}},\"id\":\"10a3733e-ebb5-4e16-bce3-83aca7210126\",\"type\":\"Grid\"},{\"attributes\":{\"callback\":null},\"id\":\"1ccaf2ce-bf25-4ef1-b35a-89471bf16ae8\",\"type\":\"DataRange1d\"},{\"attributes\":{\"plot\":{\"id\":\"6f3eaa87-57ca-4d46-b3e9-0c48a1a5c94d\",\"subtype\":\"Figure\",\"type\":\"Plot\"},\"ticker\":{\"id\":\"73c6b013-8d6d-4100-ab5b-8ea569b8df8e\",\"type\":\"BasicTicker\"}},\"id\":\"e419143c-5779-4662-b56d-0e1e2c061513\",\"type\":\"Grid\"},{\"attributes\":{},\"id\":\"42d9d25b-e504-43bf-abef-fe7f490e9c2c\",\"type\":\"PanTool\"},{\"attributes\":{\"source\":{\"id\":\"b1c74903-c43e-4471-818c-88a8d9185552\",\"type\":\"ColumnDataSource\"}},\"id\":\"4005824d-a367-4c13-8a31-38f14f7e334b\",\"type\":\"CDSView\"},{\"attributes\":{\"line_color\":\"#1f77b4\",\"line_width\":2,\"x\":{\"field\":\"x\"},\"y\":{\"field\":\"y\"}},\"id\":\"ab42fb49-8027-4bd3-a8e9-e87c83482146\",\"type\":\"Line\"},{\"attributes\":{},\"id\":\"18c9ce0b-8e85-4956-8f64-8db4d33a4744\",\"type\":\"LinearScale\"},{\"attributes\":{},\"id\":\"e2fe37c0-fa31-413c-a977-8894894f8a02\",\"type\":\"BasicTickFormatter\"},{\"attributes\":{\"bottom_units\":\"screen\",\"fill_alpha\":{\"value\":0.5},\"fill_color\":{\"value\":\"lightgrey\"},\"left_units\":\"screen\",\"level\":\"overlay\",\"line_alpha\":{\"value\":1.0},\"line_color\":{\"value\":\"black\"},\"line_dash\":[4,4],\"line_width\":{\"value\":2},\"plot\":null,\"render_mode\":\"css\",\"right_units\":\"screen\",\"top_units\":\"screen\"},\"id\":\"bf674acd-5bdb-45b0-8a54-a9007f405600\",\"type\":\"BoxAnnotation\"},{\"attributes\":{\"axis_label\":\"ion concentration (mM)\",\"formatter\":{\"id\":\"f6467234-fada-4a6c-9262-a5d4f46e74d2\",\"type\":\"BasicTickFormatter\"},\"plot\":{\"id\":\"6f3eaa87-57ca-4d46-b3e9-0c48a1a5c94d\",\"subtype\":\"Figure\",\"type\":\"Plot\"},\"ticker\":{\"id\":\"73c6b013-8d6d-4100-ab5b-8ea569b8df8e\",\"type\":\"BasicTicker\"}},\"id\":\"a7241534-ac90-48d7-b972-a5c5d5fea545\",\"type\":\"LinearAxis\"},{\"attributes\":{\"callback\":null,\"column_names\":[\"y\",\"x\"],\"data\":{\"x\":{\"__ndarray__\":\"AAAAAAAAJEDwcgpeTsErQPByCl5OwTFAaKwPjfWhNUDg5RS8nII5QFkfGutDYz1AaKwPjfWhQEAkSZIkSZJCQODlFLycgkRAnYKXU/ByRkBZHxrrQ2NIQBW8nIKXU0pA0VgfGutDTECN9aGxPjROQCRJkiRJElBAgpdT8HIKUUDg5RS8nAJSQD801ofG+lJAnYKXU/DyU0D70FgfGutUQFkfGutD41VAt23btm3bVkAVvJyCl9NXQHMKXk7By1hA0VgfGuvDWUAvp+DlFLxaQI31obE+tFtA60NjfWisXEBJkiRJkqRdQKfg5RS8nF5ABS+n4OWUX0CyPjTWh0ZgQODlFLycwmBAEI31obE+YUA/NNaHxrphQG7btm3bNmJAnYKXU/CyYkDMKXg5BS9jQPvQWB8aq2NAKng5BS8nZEBZHxrrQ6NkQIjG+tBYH2VAt23btm2bZUDmFLycghdmQBW8nIKXk2ZARGN9aKwPZ0BzCl5OwYtnQKKxPjTWB2hA0VgfGuuDaEAAAAAAAABpQA==\",\"dtype\":\"float64\",\"shape\":[50]},\"y\":{\"__ndarray__\":\"GBpfllL5ij8ZHlvs5G+DPz2/scxoYn4/rc8FiyrweD8S2VbexSV1PzQOVqZ0W3I/L6AWlqo3cD8vVytTgAxtP6i4x2SMTWo/qvZ5wgMIaD/bsmdA8R5mP3w/SGznfWQ/pigUnxMWYz8Q+T5/cdxhP9FOXSqlyGA/rJT5UnOoXz/dyGvNO/RdP6KqMpaTbFw/k7oluPsKWz+yIYl/KcpZP0aADTfCpVg/1jaTQyiaVz9x3USsVKRWP/LXsai5wVU/Xa6I1CvwVD+XkApZ0C1UPyDtN9UOeVM/RDDTIYbQUj8gSbJJAzNSP49fSDl6n1E/o4cIx/8UUT84C77MxJJQP7uYmBoSGFA/qKwuMopITz905bfwmW1OP60hHaVQnk0/4HLjWMbZTD/TqPuGKh9MP4LMSDjBbUs/fRzciuDESj+6h1uS7iNKP8MTQINfikk/NpkrHbT3SD8nUqVKeGtIP1C+Nu5B5Uc/qtI71q9kRz8z3NLRaOlGP03YPuIac0Y/E2PMhHoBRj96ruURQpRFPw==\",\"dtype\":\"float64\",\"shape\":[50]}}},\"id\":\"b1c74903-c43e-4471-818c-88a8d9185552\",\"type\":\"ColumnDataSource\"},{\"attributes\":{},\"id\":\"a1f8cf55-02ce-4dbb-859e-ddea51af48aa\",\"type\":\"BasicTicker\"},{\"attributes\":{\"plot\":null,\"text\":\"encounter cpx formation\"},\"id\":\"33034ba8-0d39-4cf5-a624-fd27b1a5a15a\",\"type\":\"Title\"},{\"attributes\":{\"line_alpha\":0.1,\"line_color\":\"#1f77b4\",\"line_width\":2,\"x\":{\"field\":\"x\"},\"y\":{\"field\":\"y\"}},\"id\":\"d8a57607-b737-4cb4-9576-f9abbd175875\",\"type\":\"Line\"},{\"attributes\":{},\"id\":\"bf3a349a-f5db-4f6a-952a-ac916edbb185\",\"type\":\"LinearScale\"},{\"attributes\":{},\"id\":\"7df3f1e4-252e-44d9-955b-a5eaa9b2ba85\",\"type\":\"ResetTool\"},{\"attributes\":{\"data_source\":{\"id\":\"b1c74903-c43e-4471-818c-88a8d9185552\",\"type\":\"ColumnDataSource\"},\"glyph\":{\"id\":\"ab42fb49-8027-4bd3-a8e9-e87c83482146\",\"type\":\"Line\"},\"hover_glyph\":null,\"muted_glyph\":null,\"nonselection_glyph\":{\"id\":\"d8a57607-b737-4cb4-9576-f9abbd175875\",\"type\":\"Line\"},\"selection_glyph\":null,\"view\":{\"id\":\"4005824d-a367-4c13-8a31-38f14f7e334b\",\"type\":\"CDSView\"}},\"id\":\"05558a09-39f0-40e6-a01c-f3304d6fe875\",\"type\":\"GlyphRenderer\"}],\"root_ids\":[\"6f3eaa87-57ca-4d46-b3e9-0c48a1a5c94d\"]},\"title\":\"Bokeh Application\",\"version\":\"0.12.13\"}};\n",
       "  var render_items = [{\"docid\":\"cf24b468-3312-4da6-9c79-8503deadad49\",\"elementid\":\"94eed1fd-fa36-405a-b9b6-7c9042f885eb\",\"modelid\":\"6f3eaa87-57ca-4d46-b3e9-0c48a1a5c94d\"}];\n",
       "  root.Bokeh.embed.embed_items_notebook(docs_json, render_items);\n",
       "\n",
       "  }\n",
       "  if (root.Bokeh !== undefined) {\n",
       "    embed_document(root);\n",
       "  } else {\n",
       "    var attempts = 0;\n",
       "    var timer = setInterval(function(root) {\n",
       "      if (root.Bokeh !== undefined) {\n",
       "        embed_document(root);\n",
       "        clearInterval(timer);\n",
       "      }\n",
       "      attempts++;\n",
       "      if (attempts > 100) {\n",
       "        console.log(\"Bokeh: ERROR: Unable to run BokehJS code because BokehJS library is missing\")\n",
       "        clearInterval(timer);\n",
       "      }\n",
       "    }, 10, root)\n",
       "  }\n",
       "})(window);"
      ],
      "application/vnd.bokehjs_exec.v0+json": ""
     },
     "metadata": {
      "application/vnd.bokehjs_exec.v0+json": {
       "id": "6f3eaa87-57ca-4d46-b3e9-0c48a1a5c94d"
      }
     },
     "output_type": "display_data"
    }
   ],
   "source": [
    "#def fun_k1p(mmol):\n",
    "#    return kp1_firstorder*mol2con(mmol/1000.)\n",
    "\n",
    "p = figure(plot_width=300, plot_height=300, tools=\"pan,wheel_zoom,box_zoom,reset,crosshair\")\n",
    "p.line(mmol,1./(kp1_firstorder*mol2con(mmol/1000.)), line_width=2)\n",
    "p.xaxis.axis_label = 'ion concentration (mM)'\n",
    "p.yaxis.axis_label = 'time (us)'\n",
    "p.title.text='encounter cpx formation'\n",
    "show(p)\n"
   ]
  },
  {
   "cell_type": "markdown",
   "metadata": {},
   "source": [
    "### encounter complex dissociation"
   ]
  },
  {
   "cell_type": "markdown",
   "metadata": {},
   "source": [
    "We model the unbinding from the encounter complex with a capture probability \n",
    "$$\\gamma = \\frac{k_{01}}{k_{01} + k_{-1}}$$\n",
    "where $k_{01}$ is the rate to go from the encounter complex to the entry state in the bimolecular model \n",
    "($\\gamma$ should be calculated from the simulations) and express the unbinding from the encounter complex as\n",
    "$$ \n",
    "k_{-1} = k_{01} \\frac{1-\\gamma}{\\gamma}\n",
    "$$\n"
   ]
  },
  {
   "cell_type": "code",
   "execution_count": null,
   "metadata": {},
   "outputs": [],
   "source": []
  },
  {
   "cell_type": "markdown",
   "metadata": {},
   "source": [
    "## Synthetic bimolecular model mimicking the real matrix"
   ]
  },
  {
   "cell_type": "code",
   "execution_count": 255,
   "metadata": {},
   "outputs": [
    {
     "data": {
      "text/html": [
       "\n",
       "<div class=\"bk-root\">\n",
       "    <div class=\"bk-plotdiv\" id=\"b85314c4-5d10-4655-9750-bce714f2338d\"></div>\n",
       "</div>"
      ]
     },
     "metadata": {},
     "output_type": "display_data"
    },
    {
     "data": {
      "application/javascript": [
       "(function(root) {\n",
       "  function embed_document(root) {\n",
       "    \n",
       "  var docs_json = {\"95a9351f-c119-4e29-9d0f-ce6b0595c2bf\":{\"roots\":{\"references\":[{\"attributes\":{\"line_alpha\":0.1,\"line_color\":\"#1f77b4\",\"x\":{\"field\":\"x\"},\"y\":{\"field\":\"y\"}},\"id\":\"eebe5cac-fa1c-420d-b231-a8ccbbcdc831\",\"type\":\"Line\"},{\"attributes\":{\"source\":{\"id\":\"196dd1c4-31a9-48e0-9595-e2afeb969b1f\",\"type\":\"ColumnDataSource\"}},\"id\":\"7139593e-cb61-4a11-b9e5-6ba5ea9859af\",\"type\":\"CDSView\"},{\"attributes\":{\"dimension\":1,\"plot\":{\"id\":\"bcbd8199-253d-40f6-854a-548a7d9bd2c1\",\"subtype\":\"Figure\",\"type\":\"Plot\"},\"ticker\":{\"id\":\"df241336-a8c4-4d39-ab01-c3351f7d860a\",\"type\":\"BasicTicker\"}},\"id\":\"a6d77704-eac4-4645-9fb4-b2bb08b4f2a1\",\"type\":\"Grid\"},{\"attributes\":{},\"id\":\"690946b9-311c-4007-8f3b-cf0556680b6b\",\"type\":\"PanTool\"},{\"attributes\":{},\"id\":\"baf88222-5664-42db-b60a-d33bd77897c5\",\"type\":\"WheelZoomTool\"},{\"attributes\":{\"active_drag\":\"auto\",\"active_inspect\":\"auto\",\"active_scroll\":\"auto\",\"active_tap\":\"auto\",\"tools\":[{\"id\":\"690946b9-311c-4007-8f3b-cf0556680b6b\",\"type\":\"PanTool\"},{\"id\":\"baf88222-5664-42db-b60a-d33bd77897c5\",\"type\":\"WheelZoomTool\"},{\"id\":\"154b3042-e410-46ee-b22e-fb9c13e4092c\",\"type\":\"BoxZoomTool\"},{\"id\":\"e2d79278-c09d-4f95-9f3f-4a90c4789d06\",\"type\":\"ResetTool\"},{\"id\":\"9f5ec024-33d6-4958-80e5-7372a9f6a43e\",\"type\":\"CrosshairTool\"}]},\"id\":\"085d817f-7c5f-4efb-a24c-bc7498b21f20\",\"type\":\"Toolbar\"},{\"attributes\":{\"overlay\":{\"id\":\"785c5909-e08c-47b4-9729-cf2d854b26be\",\"type\":\"BoxAnnotation\"}},\"id\":\"154b3042-e410-46ee-b22e-fb9c13e4092c\",\"type\":\"BoxZoomTool\"},{\"attributes\":{\"callback\":null,\"column_names\":[\"y\",\"x\"],\"data\":{\"x\":{\"__ndarray__\":\"AAAAAAAARMDMKXg5BS9DwJhT8HIKXkLAY31orA+NQcAvp+DlFLxAwPahsT401j/AjfWhsT40PsAkSZIkSZI8wLycgpdT8DrAVPByCl5OOcDrQ2N9aKw3wIKXU/ByCjbAGutDY31oNMCyPjTWh8YywEmSJEmSJDHAwMspeDkFL8DwcgpeTsErwCAa60NjfSjATsHLKXg5JcB8aKwPjfUhwFgfGutDYx3AuG3btm3bFsAQvJyCl1MQwOAUvJyClwPAgMb60Fgf6r+AxvrQWB/qP+AUvJyClwNAGLycgpdTEEC4bdu2bdsWQFgfGutDYx1AgGisD431IUBQwcspeDklQCAa60NjfShA8HIKXk7BK0DAyyl4OQUvQEqSJEmSJDFAsj401ofGMkAa60NjfWg0QISXU/ByCjZA7ENjfWisN0BU8HIKXk45QLycgpdT8DpAJEmSJEmSPECM9aGxPjQ+QPihsT401j9AMKfg5RS8QEBkfWisD41BQJhT8HIKXkJAzCl4OQUvQ0AAAAAAAABEQA==\",\"dtype\":\"float64\",\"shape\":[50]},\"y\":{\"__ndarray__\":\"o3OvJFJZ8D/N+w4WxA7xP+03uuiW1PE/SJadmxqt8j9YgEGXE5vzP8qMmZ/YofQ/AfXEdnrF9T90p98I+Qr3P+a3rs6LePg/dAmh9AUW+j8Uvz1uY+37P9VYq62TC/4/Y9mgvNFAAEB1fDbEPrMBQE67MbfQbANAi2jFTL2DBUD9Iet1SBgIQOjfDv32WgtAzbwKX7eXD0DUisXtb6USQJXr8kb3pBZA21Eqc/qHHEAtiOTb2sQiQO2BiADVFilAS3eMS72kKUANy7PpzL70P33D3/iyFBXA0L3gNZPDFsAHNIVAUwgUwLCB1Tz2NxHAIZONS5jRDcAb/Bm7wCYKwNZscJ6BOQfAPp25hhPbBMCAiKYajOgCwDZuw4ShSAHAF7O1I/TR/788FtQ+Nnj9vzEdws3tb/u/dZC+Ot6p+b/zeMKWThr4v3rcmBQZuPa/iDCqKQJ89b9Et+c3QGD0v/3HPYckYPO/PaRBb9t38r/B4tngPKTxv6j2t6mo4vC/ONA6Ousw8L83+4VYURrvvw==\",\"dtype\":\"float64\",\"shape\":[50]}}},\"id\":\"a33642fc-b7c7-449c-93ac-fdbe7a0660f1\",\"type\":\"ColumnDataSource\"},{\"attributes\":{\"callback\":null},\"id\":\"5df40bf2-8517-4de8-8e2c-acecbc8755b3\",\"type\":\"DataRange1d\"},{\"attributes\":{\"plot\":null,\"text\":\"\"},\"id\":\"7e646e7d-3458-4311-ae9f-367f9268fe38\",\"type\":\"Title\"},{\"attributes\":{\"plot\":{\"id\":\"bcbd8199-253d-40f6-854a-548a7d9bd2c1\",\"subtype\":\"Figure\",\"type\":\"Plot\"},\"ticker\":{\"id\":\"9faa0c9e-1738-40b9-ac0c-6e0961b01319\",\"type\":\"BasicTicker\"}},\"id\":\"a0a71f86-3fbe-4bef-9851-3b6f7e294c29\",\"type\":\"Grid\"},{\"attributes\":{\"data_source\":{\"id\":\"a33642fc-b7c7-449c-93ac-fdbe7a0660f1\",\"type\":\"ColumnDataSource\"},\"glyph\":{\"id\":\"e4a14d35-c7d4-4aa9-b640-ea7ec7177b3f\",\"type\":\"Line\"},\"hover_glyph\":null,\"muted_glyph\":null,\"nonselection_glyph\":{\"id\":\"11cf8f58-a2f9-40d8-a411-863106451da9\",\"type\":\"Line\"},\"selection_glyph\":null,\"view\":{\"id\":\"f22432f6-2157-4eef-86a9-f40adc3f0431\",\"type\":\"CDSView\"}},\"id\":\"119e147e-1d13-47df-a8e3-f675a78aea5a\",\"type\":\"GlyphRenderer\"},{\"attributes\":{\"line_color\":\"#1f77b4\",\"x\":{\"field\":\"x\"},\"y\":{\"field\":\"y\"}},\"id\":\"f70c03af-7904-4aed-827c-20a26066edac\",\"type\":\"Line\"},{\"attributes\":{\"callback\":null},\"id\":\"a86981e2-11d5-404e-95b6-85f39f4644d6\",\"type\":\"DataRange1d\"},{\"attributes\":{\"callback\":null,\"column_names\":[\"y\",\"x\"],\"data\":{\"x\":{\"__ndarray__\":\"AAAAAAAARMDMKXg5BS9DwJhT8HIKXkLAY31orA+NQcAvp+DlFLxAwPahsT401j/AjfWhsT40PsAkSZIkSZI8wLycgpdT8DrAVPByCl5OOcDrQ2N9aKw3wIKXU/ByCjbAGutDY31oNMCyPjTWh8YywEmSJEmSJDHAwMspeDkFL8DwcgpeTsErwCAa60NjfSjATsHLKXg5JcB8aKwPjfUhwFgfGutDYx3AuG3btm3bFsAQvJyCl1MQwOAUvJyClwPAgMb60Fgf6r+AxvrQWB/qP+AUvJyClwNAGLycgpdTEEC4bdu2bdsWQFgfGutDYx1AgGisD431IUBQwcspeDklQCAa60NjfShA8HIKXk7BK0DAyyl4OQUvQEqSJEmSJDFAsj401ofGMkAa60NjfWg0QISXU/ByCjZA7ENjfWisN0BU8HIKXk45QLycgpdT8DpAJEmSJEmSPECM9aGxPjQ+QPihsT401j9AMKfg5RS8QEBkfWisD41BQJhT8HIKXkJAzCl4OQUvQ0AAAAAAAABEQA==\",\"dtype\":\"float64\",\"shape\":[50]},\"y\":{\"__ndarray__\":\"T2cp8WlQ8D9LyYsHJgXxP0XYzpUsyvE/9fDQ0cmh8j88B6GJvY7zP1PLJt5YlPQ/UA3LnaW29T+4toERm/r2P6JrV+JlZvg/tn4Km8sB+j8p4qThttb7P8FkEhQB8v0/vUVcXU0yAECvh1RGpaIBQHOGG3ixWQNAXnmJjIxtBUAjHH6/Xf4HQApvrdqXPAtAl8bhX0x0D0BiRqcFXJESQN7yYNh8kBZAGvDxBwd8HEBBb0jimtUiQFgQ8PGohSlA/DZXnKmTKkB4qcnBBLvkP2g2hB7vmxfA1wm10NoOGMBZ7tKIlrsUwM7V9vyxoxHA4mZBb6deDsCG5Zl3R4kKwHdn86DMgQfAXe270i8SBcCmFWHX2RMDwMX7+iSAawHAUXqwYKAFAMA8xdTjFqj9vzfw/x6CmPu/7KjNOa/M+b/Dc78Ufzj4vwduJ66E0va/nWDDsFGT9b9/muqB93T0v/Aw3/qrcvO/XN6mxIaI8r8TLk/9T7PxvzGy0C1b8PC/eqPyJWs98L9Z9nC4ODHvvw==\",\"dtype\":\"float64\",\"shape\":[50]}}},\"id\":\"196dd1c4-31a9-48e0-9595-e2afeb969b1f\",\"type\":\"ColumnDataSource\"},{\"attributes\":{\"line_color\":\"#1f77b4\",\"x\":{\"field\":\"x\"},\"y\":{\"field\":\"y\"}},\"id\":\"14baed93-c854-46ad-98ad-288296131c6e\",\"type\":\"Line\"},{\"attributes\":{},\"id\":\"9f5ec024-33d6-4958-80e5-7372a9f6a43e\",\"type\":\"CrosshairTool\"},{\"attributes\":{\"axis_label\":\"EC formation time (us)\",\"formatter\":{\"id\":\"c0c6438a-e062-4659-abc0-a95869f7fca9\",\"type\":\"BasicTickFormatter\"},\"plot\":{\"id\":\"bcbd8199-253d-40f6-854a-548a7d9bd2c1\",\"subtype\":\"Figure\",\"type\":\"Plot\"},\"ticker\":{\"id\":\"df241336-a8c4-4d39-ab01-c3351f7d860a\",\"type\":\"BasicTicker\"}},\"id\":\"40e20bce-9699-46b0-8820-f68dbf732459\",\"type\":\"LinearAxis\"},{\"attributes\":{\"source\":{\"id\":\"a33642fc-b7c7-449c-93ac-fdbe7a0660f1\",\"type\":\"ColumnDataSource\"}},\"id\":\"f22432f6-2157-4eef-86a9-f40adc3f0431\",\"type\":\"CDSView\"},{\"attributes\":{\"below\":[{\"id\":\"c76929a1-bb1f-4cb2-9d03-af5836908cf0\",\"type\":\"LinearAxis\"}],\"left\":[{\"id\":\"40e20bce-9699-46b0-8820-f68dbf732459\",\"type\":\"LinearAxis\"}],\"plot_height\":200,\"plot_width\":400,\"renderers\":[{\"id\":\"c76929a1-bb1f-4cb2-9d03-af5836908cf0\",\"type\":\"LinearAxis\"},{\"id\":\"a0a71f86-3fbe-4bef-9851-3b6f7e294c29\",\"type\":\"Grid\"},{\"id\":\"40e20bce-9699-46b0-8820-f68dbf732459\",\"type\":\"LinearAxis\"},{\"id\":\"a6d77704-eac4-4645-9fb4-b2bb08b4f2a1\",\"type\":\"Grid\"},{\"id\":\"785c5909-e08c-47b4-9729-cf2d854b26be\",\"type\":\"BoxAnnotation\"},{\"id\":\"119e147e-1d13-47df-a8e3-f675a78aea5a\",\"type\":\"GlyphRenderer\"},{\"id\":\"ed206281-0821-4d5b-9035-621257011176\",\"type\":\"GlyphRenderer\"},{\"id\":\"5c8138d5-a674-467f-8aea-79166cb099e1\",\"type\":\"GlyphRenderer\"}],\"title\":{\"id\":\"7e646e7d-3458-4311-ae9f-367f9268fe38\",\"type\":\"Title\"},\"toolbar\":{\"id\":\"085d817f-7c5f-4efb-a24c-bc7498b21f20\",\"type\":\"Toolbar\"},\"x_range\":{\"id\":\"a86981e2-11d5-404e-95b6-85f39f4644d6\",\"type\":\"DataRange1d\"},\"x_scale\":{\"id\":\"78e25b32-4b8e-49b7-8f70-a9d2ffbff563\",\"type\":\"LinearScale\"},\"y_range\":{\"id\":\"5df40bf2-8517-4de8-8e2c-acecbc8755b3\",\"type\":\"DataRange1d\"},\"y_scale\":{\"id\":\"fb33f4d7-424a-45ef-8e97-8da7cbe8ab68\",\"type\":\"LinearScale\"}},\"id\":\"bcbd8199-253d-40f6-854a-548a7d9bd2c1\",\"subtype\":\"Figure\",\"type\":\"Plot\"},{\"attributes\":{},\"id\":\"c0c6438a-e062-4659-abc0-a95869f7fca9\",\"type\":\"BasicTickFormatter\"},{\"attributes\":{},\"id\":\"fb33f4d7-424a-45ef-8e97-8da7cbe8ab68\",\"type\":\"LinearScale\"},{\"attributes\":{\"line_alpha\":0.1,\"line_color\":\"#1f77b4\",\"x\":{\"field\":\"x\"},\"y\":{\"field\":\"y\"}},\"id\":\"7e3825e4-6dd8-4f98-962d-fb432f9cfa64\",\"type\":\"Line\"},{\"attributes\":{\"axis_label\":\"ion concentration (mM)\",\"formatter\":{\"id\":\"77a858bf-d46f-43d4-9980-7c058961eeba\",\"type\":\"BasicTickFormatter\"},\"plot\":{\"id\":\"bcbd8199-253d-40f6-854a-548a7d9bd2c1\",\"subtype\":\"Figure\",\"type\":\"Plot\"},\"ticker\":{\"id\":\"9faa0c9e-1738-40b9-ac0c-6e0961b01319\",\"type\":\"BasicTicker\"}},\"id\":\"c76929a1-bb1f-4cb2-9d03-af5836908cf0\",\"type\":\"LinearAxis\"},{\"attributes\":{},\"id\":\"78e25b32-4b8e-49b7-8f70-a9d2ffbff563\",\"type\":\"LinearScale\"},{\"attributes\":{},\"id\":\"e2d79278-c09d-4f95-9f3f-4a90c4789d06\",\"type\":\"ResetTool\"},{\"attributes\":{},\"id\":\"9faa0c9e-1738-40b9-ac0c-6e0961b01319\",\"type\":\"BasicTicker\"},{\"attributes\":{\"bottom_units\":\"screen\",\"fill_alpha\":{\"value\":0.5},\"fill_color\":{\"value\":\"lightgrey\"},\"left_units\":\"screen\",\"level\":\"overlay\",\"line_alpha\":{\"value\":1.0},\"line_color\":{\"value\":\"black\"},\"line_dash\":[4,4],\"line_width\":{\"value\":2},\"plot\":null,\"render_mode\":\"css\",\"right_units\":\"screen\",\"top_units\":\"screen\"},\"id\":\"785c5909-e08c-47b4-9729-cf2d854b26be\",\"type\":\"BoxAnnotation\"},{\"attributes\":{\"callback\":null,\"column_names\":[\"y\",\"x\"],\"data\":{\"x\":{\"__ndarray__\":\"AAAAAAAARMDMKXg5BS9DwJhT8HIKXkLAY31orA+NQcAvp+DlFLxAwPahsT401j/AjfWhsT40PsAkSZIkSZI8wLycgpdT8DrAVPByCl5OOcDrQ2N9aKw3wIKXU/ByCjbAGutDY31oNMCyPjTWh8YywEmSJEmSJDHAwMspeDkFL8DwcgpeTsErwCAa60NjfSjATsHLKXg5JcB8aKwPjfUhwFgfGutDYx3AuG3btm3bFsAQvJyCl1MQwOAUvJyClwPAgMb60Fgf6r+AxvrQWB/qP+AUvJyClwNAGLycgpdTEEC4bdu2bdsWQFgfGutDYx1AgGisD431IUBQwcspeDklQCAa60NjfShA8HIKXk7BK0DAyyl4OQUvQEqSJEmSJDFAsj401ofGMkAa60NjfWg0QISXU/ByCjZA7ENjfWisN0BU8HIKXk45QLycgpdT8DpAJEmSJEmSPECM9aGxPjQ+QPihsT401j9AMKfg5RS8QEBkfWisD41BQJhT8HIKXkJAzCl4OQUvQ0AAAAAAAABEQA==\",\"dtype\":\"float64\",\"shape\":[50]},\"y\":{\"__ndarray__\":\"YhxUwwqL8D8KZl80u0TxP1GyGYtdD/I/HqESuVzt8j/5Ca2lnuHzP04fKSCk7/Q/malqQrMb9j8ODP1yEGv3P853sDhM5Pg/eLsLPa+P+j9xJOjy0nf8PzQbN719qv4/NjkP2POcAEAWnLr1Uh8CQLKSPMZT7QNA3ciDygEfBkDzmvrmfdcIQOGU8NDzSwxAi7I0uB9oEEDofl3Kf3cTQKMTR7qQzBdA+EARTAtBHkAIrBxWiiYkQDzca2YleitAdKLL+g0NLkB0A1xHRr0RQGzvxjiBaQrA4x6Ot+KjEsAQd28sVawRwEh8Iw4mdQ/ACdZaJb3JC8B76Zmypa8IwKc9cPXdHgbA9IiuOtL+A8BJT5iXQDgCwL6M2otsuADAEZNVWsPh/r8j3OSPJa38v09bXtgJwvq/oUe5wU8T+b8vn64cs5b3v6KYy+IVRPa/pvuHWfsU9b9w3mqfJgT0v9Mq+pdSDfO/dG9VFfws8r/U8sg3OWDxv7bE6XSapPC/dZYafSXw778JsCDyybHuvw==\",\"dtype\":\"float64\",\"shape\":[50]}}},\"id\":\"81f36d7e-b039-4fce-b772-8f00e4016d2a\",\"type\":\"ColumnDataSource\"},{\"attributes\":{\"source\":{\"id\":\"81f36d7e-b039-4fce-b772-8f00e4016d2a\",\"type\":\"ColumnDataSource\"}},\"id\":\"b4019f31-3edd-40f6-9f76-f35ae42974de\",\"type\":\"CDSView\"},{\"attributes\":{},\"id\":\"77a858bf-d46f-43d4-9980-7c058961eeba\",\"type\":\"BasicTickFormatter\"},{\"attributes\":{\"line_color\":\"#1f77b4\",\"line_width\":2,\"x\":{\"field\":\"x\"},\"y\":{\"field\":\"y\"}},\"id\":\"e4a14d35-c7d4-4aa9-b640-ea7ec7177b3f\",\"type\":\"Line\"},{\"attributes\":{\"data_source\":{\"id\":\"196dd1c4-31a9-48e0-9595-e2afeb969b1f\",\"type\":\"ColumnDataSource\"},\"glyph\":{\"id\":\"f70c03af-7904-4aed-827c-20a26066edac\",\"type\":\"Line\"},\"hover_glyph\":null,\"muted_glyph\":null,\"nonselection_glyph\":{\"id\":\"7e3825e4-6dd8-4f98-962d-fb432f9cfa64\",\"type\":\"Line\"},\"selection_glyph\":null,\"view\":{\"id\":\"7139593e-cb61-4a11-b9e5-6ba5ea9859af\",\"type\":\"CDSView\"}},\"id\":\"5c8138d5-a674-467f-8aea-79166cb099e1\",\"type\":\"GlyphRenderer\"},{\"attributes\":{},\"id\":\"df241336-a8c4-4d39-ab01-c3351f7d860a\",\"type\":\"BasicTicker\"},{\"attributes\":{\"data_source\":{\"id\":\"81f36d7e-b039-4fce-b772-8f00e4016d2a\",\"type\":\"ColumnDataSource\"},\"glyph\":{\"id\":\"14baed93-c854-46ad-98ad-288296131c6e\",\"type\":\"Line\"},\"hover_glyph\":null,\"muted_glyph\":null,\"nonselection_glyph\":{\"id\":\"eebe5cac-fa1c-420d-b231-a8ccbbcdc831\",\"type\":\"Line\"},\"selection_glyph\":null,\"view\":{\"id\":\"b4019f31-3edd-40f6-9f76-f35ae42974de\",\"type\":\"CDSView\"}},\"id\":\"ed206281-0821-4d5b-9035-621257011176\",\"type\":\"GlyphRenderer\"},{\"attributes\":{\"line_alpha\":0.1,\"line_color\":\"#1f77b4\",\"line_width\":2,\"x\":{\"field\":\"x\"},\"y\":{\"field\":\"y\"}},\"id\":\"11cf8f58-a2f9-40d8-a411-863106451da9\",\"type\":\"Line\"}],\"root_ids\":[\"bcbd8199-253d-40f6-854a-548a7d9bd2c1\"]},\"title\":\"Bokeh Application\",\"version\":\"0.12.13\"}};\n",
       "  var render_items = [{\"docid\":\"95a9351f-c119-4e29-9d0f-ce6b0595c2bf\",\"elementid\":\"b85314c4-5d10-4655-9750-bce714f2338d\",\"modelid\":\"bcbd8199-253d-40f6-854a-548a7d9bd2c1\"}];\n",
       "  root.Bokeh.embed.embed_items_notebook(docs_json, render_items);\n",
       "\n",
       "  }\n",
       "  if (root.Bokeh !== undefined) {\n",
       "    embed_document(root);\n",
       "  } else {\n",
       "    var attempts = 0;\n",
       "    var timer = setInterval(function(root) {\n",
       "      if (root.Bokeh !== undefined) {\n",
       "        embed_document(root);\n",
       "        clearInterval(timer);\n",
       "      }\n",
       "      attempts++;\n",
       "      if (attempts > 100) {\n",
       "        console.log(\"Bokeh: ERROR: Unable to run BokehJS code because BokehJS library is missing\")\n",
       "        clearInterval(timer);\n",
       "      }\n",
       "    }, 10, root)\n",
       "  }\n",
       "})(window);"
      ],
      "application/vnd.bokehjs_exec.v0+json": ""
     },
     "metadata": {
      "application/vnd.bokehjs_exec.v0+json": {
       "id": "bcbd8199-253d-40f6-854a-548a7d9bd2c1"
      }
     },
     "output_type": "display_data"
    }
   ],
   "source": [
    "zs = np.linspace(-40,40,50)\n",
    "fess = -40*(zs-1)/(zs**2+5)\n",
    "p = figure(plot_width=400, plot_height=200, tools=\"pan,wheel_zoom,box_zoom,reset,crosshair\")\n",
    "p.line(zs,fess, line_width=2)\n",
    "p.line(zs,-40*(zs-1.5)/(zs**2+5.5), line_width=1)\n",
    "p.line(zs,-40*(zs-0.9)/(zs**2+4.5), line_width=1)\n",
    "\n",
    "p.xaxis.axis_label = 'ion concentration (mM)'\n",
    "p.yaxis.axis_label = 'EC formation time (us)'\n",
    "show(p)"
   ]
  },
  {
   "cell_type": "code",
   "execution_count": 240,
   "metadata": {},
   "outputs": [],
   "source": [
    "from scipy import linalg\n",
    "import pyemma \n",
    "from pyemma import msm\n",
    "import msmtools"
   ]
  },
  {
   "cell_type": "code",
   "execution_count": 241,
   "metadata": {},
   "outputs": [],
   "source": [
    "#ratematrix in 1/us\n",
    "# we use D in nm^2/us\n",
    "dz = (zs[1]-zs[0])*0.1 # in nm\n",
    "\n",
    "fwd = np.diagflat(np.exp(0.5*fess[:-1])*np.exp(-0.5*fess[1:]),k=1)\n",
    "bkw = np.diagflat(np.exp(0.5*fess[1:])*np.exp(-0.5*fess[:-1]),k=-1)\n",
    "K0 = D/dz**2*(fwd + bkw) \n",
    "K = K0 - np.diagflat(K0.sum(axis=1),k=0)"
   ]
  },
  {
   "cell_type": "code",
   "execution_count": 242,
   "metadata": {},
   "outputs": [],
   "source": [
    "## transition matrix at tau = 1 ns\n",
    "tau = 1./1000 # in us\n",
    "T_micro = scipy.linalg.expm(K*tau)\n",
    "msm_micro = pyemma.msm.markov_model(T_micro)"
   ]
  },
  {
   "cell_type": "code",
   "execution_count": 348,
   "metadata": {},
   "outputs": [],
   "source": [
    "## define macrostates\n",
    "intracell = np.where(zs<-30)[0]\n",
    "extracell = np.where(zs>30)[0]\n",
    "bound = np.where((fess-fess.min())<1)[0]"
   ]
  },
  {
   "cell_type": "code",
   "execution_count": 349,
   "metadata": {},
   "outputs": [
    {
     "data": {
      "text/plain": [
       "0.0028938505434246485"
      ]
     },
     "execution_count": 349,
     "metadata": {},
     "output_type": "execute_result"
    }
   ],
   "source": [
    "tau*msm_micro.mfpt(extracell,bound)"
   ]
  },
  {
   "cell_type": "code",
   "execution_count": 350,
   "metadata": {},
   "outputs": [
    {
     "data": {
      "text/plain": [
       "0.069839609495908853"
      ]
     },
     "execution_count": 350,
     "metadata": {},
     "output_type": "execute_result"
    }
   ],
   "source": [
    "tau*msm_micro.mfpt(bound,extracell)"
   ]
  },
  {
   "cell_type": "code",
   "execution_count": 351,
   "metadata": {},
   "outputs": [
    {
     "data": {
      "text/plain": [
       "7058.0860861816"
      ]
     },
     "execution_count": 351,
     "metadata": {},
     "output_type": "execute_result"
    }
   ],
   "source": [
    "tau*msm_micro.mfpt(bound, intracell)"
   ]
  },
  {
   "cell_type": "markdown",
   "metadata": {},
   "source": [
    "### Coupled model"
   ]
  },
  {
   "cell_type": "code",
   "execution_count": 352,
   "metadata": {},
   "outputs": [],
   "source": [
    "def coupled_ratematrix(K0, k1p_out, k1p_in, gamma):\n",
    "    \"\"\"\n",
    "    couples rate matrix with reservoirs inside and outside\n",
    "    \"\"\"\n",
    "    E0 = scipy.linalg.block_diag([0.], K0, [0.])\n",
    "    E0[0,1] = k1p_out\n",
    "    E0[1,0] = (1-gamma)/gamma* E0[1,2]\n",
    "    E0[-1,-2] = k1p_in\n",
    "    E0[-2,-1] = (1-gamma)/gamma* E0[-2,-3]\n",
    "    E = E0 - np.diagflat(E0.sum(axis=1),k=0)\n",
    "    return E"
   ]
  },
  {
   "cell_type": "code",
   "execution_count": 388,
   "metadata": {},
   "outputs": [],
   "source": [
    "E = coupled_ratematrix(\n",
    "    K0, \n",
    "    kp1_firstorder*mol2con(10/1000.), \n",
    "    kp1_firstorder*mol2con(150/1000.), \n",
    "    gamma = 0.7)\n",
    "\n",
    "T_coupled = scipy.linalg.expm(E*tau)\n",
    "msm_coupled = pyemma.msm.markov_model(T_coupled)"
   ]
  },
  {
   "cell_type": "code",
   "execution_count": 389,
   "metadata": {},
   "outputs": [],
   "source": [
    "## define macrostates\n",
    "intracell_coupled = 0\n",
    "extracell_coupled = -1\n",
    "bound_coupled = bound+1"
   ]
  },
  {
   "cell_type": "code",
   "execution_count": 399,
   "metadata": {},
   "outputs": [
    {
     "data": {
      "text/plain": [
       "[0.0080775437409698891,\n",
       " 0.10711464761982506,\n",
       " 7449.9923419093066,\n",
       " 796.25916903247207]"
      ]
     },
     "execution_count": 399,
     "metadata": {},
     "output_type": "execute_result"
    }
   ],
   "source": [
    "## times for this concentrations\n",
    "[tau*msm_coupled.mfpt(extracell_coupled,bound_coupled),\n",
    " tau*msm_coupled.mfpt(bound_coupled,extracell_coupled),\n",
    " tau*msm_coupled.mfpt(bound_coupled,intracell_coupled),\n",
    " tau*msm_coupled.mfpt(intracell_coupled,bound_coupled)]"
   ]
  },
  {
   "cell_type": "code",
   "execution_count": 444,
   "metadata": {},
   "outputs": [],
   "source": [
    "def rates_coupled(conc_out, conc_in):\n",
    "    \"\"\"\n",
    "    returns corrected rates and thermo for given inner and extra concentrations\n",
    "    \"\"\"\n",
    "    E = coupled_ratematrix(\n",
    "    K0, \n",
    "    kp1_firstorder*mol2con(conc_in/1000.), \n",
    "    kp1_firstorder*mol2con(conc_out/1000.), \n",
    "    gamma = 0.7)\n",
    "    T_coupled = scipy.linalg.expm(E*tau)\n",
    "    msm_coupled = pyemma.msm.markov_model(T_coupled)\n",
    "    bound_fraction = msm_coupled.pi[bound_coupled].sum()\n",
    "    rates = np.array([\n",
    "        conc_out, conc_in,\n",
    "        tau*msm_coupled.mfpt(extracell_coupled,bound_coupled),\n",
    "        tau*msm_coupled.mfpt(bound_coupled,extracell_coupled),\n",
    "        tau*msm_coupled.mfpt(bound_coupled,intracell_coupled),\n",
    "        tau*msm_coupled.mfpt(intracell_coupled,bound_coupled),\n",
    "        bound_fraction\n",
    "    ])\n",
    "    return rates"
   ]
  },
  {
   "cell_type": "code",
   "execution_count": 445,
   "metadata": {},
   "outputs": [
    {
     "data": {
      "text/html": [
       "<div>\n",
       "<style scoped>\n",
       "    .dataframe tbody tr th:only-of-type {\n",
       "        vertical-align: middle;\n",
       "    }\n",
       "\n",
       "    .dataframe tbody tr th {\n",
       "        vertical-align: top;\n",
       "    }\n",
       "\n",
       "    .dataframe thead th {\n",
       "        text-align: right;\n",
       "    }\n",
       "</style>\n",
       "<table border=\"1\" class=\"dataframe\">\n",
       "  <thead>\n",
       "    <tr style=\"text-align: right;\">\n",
       "      <th></th>\n",
       "      <th>conc_out</th>\n",
       "      <th>conc_in</th>\n",
       "      <th>bind</th>\n",
       "      <th>unbind</th>\n",
       "      <th>egress</th>\n",
       "      <th>reflux</th>\n",
       "      <th>bound</th>\n",
       "    </tr>\n",
       "  </thead>\n",
       "  <tbody>\n",
       "    <tr>\n",
       "      <th>0</th>\n",
       "      <td>0.100000</td>\n",
       "      <td>10.0</td>\n",
       "      <td>7.384892</td>\n",
       "      <td>0.096007</td>\n",
       "      <td>594736.280803</td>\n",
       "      <td>796.325406</td>\n",
       "      <td>0.008511</td>\n",
       "    </tr>\n",
       "    <tr>\n",
       "      <th>1</th>\n",
       "      <td>0.162378</td>\n",
       "      <td>10.0</td>\n",
       "      <td>4.549185</td>\n",
       "      <td>0.096011</td>\n",
       "      <td>368896.887036</td>\n",
       "      <td>796.299944</td>\n",
       "      <td>0.013708</td>\n",
       "    </tr>\n",
       "    <tr>\n",
       "      <th>2</th>\n",
       "      <td>0.263665</td>\n",
       "      <td>10.0</td>\n",
       "      <td>2.802820</td>\n",
       "      <td>0.096018</td>\n",
       "      <td>229956.740079</td>\n",
       "      <td>796.284263</td>\n",
       "      <td>0.021968</td>\n",
       "    </tr>\n",
       "    <tr>\n",
       "      <th>3</th>\n",
       "      <td>0.428133</td>\n",
       "      <td>10.0</td>\n",
       "      <td>1.727324</td>\n",
       "      <td>0.096029</td>\n",
       "      <td>144326.257378</td>\n",
       "      <td>796.274606</td>\n",
       "      <td>0.034929</td>\n",
       "    </tr>\n",
       "    <tr>\n",
       "      <th>4</th>\n",
       "      <td>0.695193</td>\n",
       "      <td>10.0</td>\n",
       "      <td>1.064982</td>\n",
       "      <td>0.096047</td>\n",
       "      <td>91592.395525</td>\n",
       "      <td>796.268659</td>\n",
       "      <td>0.054864</td>\n",
       "    </tr>\n",
       "    <tr>\n",
       "      <th>5</th>\n",
       "      <td>1.128838</td>\n",
       "      <td>10.0</td>\n",
       "      <td>0.657080</td>\n",
       "      <td>0.096076</td>\n",
       "      <td>59120.636948</td>\n",
       "      <td>796.264996</td>\n",
       "      <td>0.084601</td>\n",
       "    </tr>\n",
       "    <tr>\n",
       "      <th>6</th>\n",
       "      <td>1.832981</td>\n",
       "      <td>10.0</td>\n",
       "      <td>0.405874</td>\n",
       "      <td>0.096123</td>\n",
       "      <td>39120.768819</td>\n",
       "      <td>796.262741</td>\n",
       "      <td>0.126989</td>\n",
       "    </tr>\n",
       "    <tr>\n",
       "      <th>7</th>\n",
       "      <td>2.976351</td>\n",
       "      <td>10.0</td>\n",
       "      <td>0.251170</td>\n",
       "      <td>0.096201</td>\n",
       "      <td>26803.480018</td>\n",
       "      <td>796.261352</td>\n",
       "      <td>0.183660</td>\n",
       "    </tr>\n",
       "    <tr>\n",
       "      <th>8</th>\n",
       "      <td>4.832930</td>\n",
       "      <td>10.0</td>\n",
       "      <td>0.155895</td>\n",
       "      <td>0.096326</td>\n",
       "      <td>19218.347656</td>\n",
       "      <td>796.260496</td>\n",
       "      <td>0.253264</td>\n",
       "    </tr>\n",
       "    <tr>\n",
       "      <th>9</th>\n",
       "      <td>7.847600</td>\n",
       "      <td>10.0</td>\n",
       "      <td>0.097220</td>\n",
       "      <td>0.096530</td>\n",
       "      <td>14546.987715</td>\n",
       "      <td>796.259969</td>\n",
       "      <td>0.330371</td>\n",
       "    </tr>\n",
       "    <tr>\n",
       "      <th>10</th>\n",
       "      <td>12.742750</td>\n",
       "      <td>10.0</td>\n",
       "      <td>0.061086</td>\n",
       "      <td>0.096864</td>\n",
       "      <td>11670.188194</td>\n",
       "      <td>796.259645</td>\n",
       "      <td>0.406610</td>\n",
       "    </tr>\n",
       "    <tr>\n",
       "      <th>11</th>\n",
       "      <td>20.691381</td>\n",
       "      <td>10.0</td>\n",
       "      <td>0.038832</td>\n",
       "      <td>0.097411</td>\n",
       "      <td>9898.492924</td>\n",
       "      <td>796.259445</td>\n",
       "      <td>0.473969</td>\n",
       "    </tr>\n",
       "    <tr>\n",
       "      <th>12</th>\n",
       "      <td>33.598183</td>\n",
       "      <td>10.0</td>\n",
       "      <td>0.025127</td>\n",
       "      <td>0.098312</td>\n",
       "      <td>8807.385628</td>\n",
       "      <td>796.259322</td>\n",
       "      <td>0.527819</td>\n",
       "    </tr>\n",
       "    <tr>\n",
       "      <th>13</th>\n",
       "      <td>54.555948</td>\n",
       "      <td>10.0</td>\n",
       "      <td>0.016687</td>\n",
       "      <td>0.099808</td>\n",
       "      <td>8135.424183</td>\n",
       "      <td>796.259246</td>\n",
       "      <td>0.567527</td>\n",
       "    </tr>\n",
       "    <tr>\n",
       "      <th>14</th>\n",
       "      <td>88.586679</td>\n",
       "      <td>10.0</td>\n",
       "      <td>0.011489</td>\n",
       "      <td>0.102322</td>\n",
       "      <td>7721.612378</td>\n",
       "      <td>796.259200</td>\n",
       "      <td>0.595099</td>\n",
       "    </tr>\n",
       "    <tr>\n",
       "      <th>15</th>\n",
       "      <td>143.844989</td>\n",
       "      <td>10.0</td>\n",
       "      <td>0.008288</td>\n",
       "      <td>0.106620</td>\n",
       "      <td>7466.757697</td>\n",
       "      <td>796.259171</td>\n",
       "      <td>0.613454</td>\n",
       "    </tr>\n",
       "    <tr>\n",
       "      <th>16</th>\n",
       "      <td>233.572147</td>\n",
       "      <td>10.0</td>\n",
       "      <td>0.006317</td>\n",
       "      <td>0.114122</td>\n",
       "      <td>7309.808901</td>\n",
       "      <td>796.259153</td>\n",
       "      <td>0.625331</td>\n",
       "    </tr>\n",
       "    <tr>\n",
       "      <th>17</th>\n",
       "      <td>379.269019</td>\n",
       "      <td>10.0</td>\n",
       "      <td>0.005102</td>\n",
       "      <td>0.127503</td>\n",
       "      <td>7213.152204</td>\n",
       "      <td>796.259142</td>\n",
       "      <td>0.632878</td>\n",
       "    </tr>\n",
       "    <tr>\n",
       "      <th>18</th>\n",
       "      <td>615.848211</td>\n",
       "      <td>10.0</td>\n",
       "      <td>0.004353</td>\n",
       "      <td>0.151714</td>\n",
       "      <td>7153.626535</td>\n",
       "      <td>796.259136</td>\n",
       "      <td>0.637616</td>\n",
       "    </tr>\n",
       "    <tr>\n",
       "      <th>19</th>\n",
       "      <td>1000.000000</td>\n",
       "      <td>10.0</td>\n",
       "      <td>0.003892</td>\n",
       "      <td>0.195344</td>\n",
       "      <td>7116.967875</td>\n",
       "      <td>796.259131</td>\n",
       "      <td>0.640570</td>\n",
       "    </tr>\n",
       "  </tbody>\n",
       "</table>\n",
       "</div>"
      ],
      "text/plain": [
       "       conc_out  conc_in      bind    unbind         egress      reflux  \\\n",
       "0      0.100000     10.0  7.384892  0.096007  594736.280803  796.325406   \n",
       "1      0.162378     10.0  4.549185  0.096011  368896.887036  796.299944   \n",
       "2      0.263665     10.0  2.802820  0.096018  229956.740079  796.284263   \n",
       "3      0.428133     10.0  1.727324  0.096029  144326.257378  796.274606   \n",
       "4      0.695193     10.0  1.064982  0.096047   91592.395525  796.268659   \n",
       "5      1.128838     10.0  0.657080  0.096076   59120.636948  796.264996   \n",
       "6      1.832981     10.0  0.405874  0.096123   39120.768819  796.262741   \n",
       "7      2.976351     10.0  0.251170  0.096201   26803.480018  796.261352   \n",
       "8      4.832930     10.0  0.155895  0.096326   19218.347656  796.260496   \n",
       "9      7.847600     10.0  0.097220  0.096530   14546.987715  796.259969   \n",
       "10    12.742750     10.0  0.061086  0.096864   11670.188194  796.259645   \n",
       "11    20.691381     10.0  0.038832  0.097411    9898.492924  796.259445   \n",
       "12    33.598183     10.0  0.025127  0.098312    8807.385628  796.259322   \n",
       "13    54.555948     10.0  0.016687  0.099808    8135.424183  796.259246   \n",
       "14    88.586679     10.0  0.011489  0.102322    7721.612378  796.259200   \n",
       "15   143.844989     10.0  0.008288  0.106620    7466.757697  796.259171   \n",
       "16   233.572147     10.0  0.006317  0.114122    7309.808901  796.259153   \n",
       "17   379.269019     10.0  0.005102  0.127503    7213.152204  796.259142   \n",
       "18   615.848211     10.0  0.004353  0.151714    7153.626535  796.259136   \n",
       "19  1000.000000     10.0  0.003892  0.195344    7116.967875  796.259131   \n",
       "\n",
       "       bound  \n",
       "0   0.008511  \n",
       "1   0.013708  \n",
       "2   0.021968  \n",
       "3   0.034929  \n",
       "4   0.054864  \n",
       "5   0.084601  \n",
       "6   0.126989  \n",
       "7   0.183660  \n",
       "8   0.253264  \n",
       "9   0.330371  \n",
       "10  0.406610  \n",
       "11  0.473969  \n",
       "12  0.527819  \n",
       "13  0.567527  \n",
       "14  0.595099  \n",
       "15  0.613454  \n",
       "16  0.625331  \n",
       "17  0.632878  \n",
       "18  0.637616  \n",
       "19  0.640570  "
      ]
     },
     "execution_count": 445,
     "metadata": {},
     "output_type": "execute_result"
    }
   ],
   "source": [
    "concs_out = 10**np.linspace(-1,3,20)\n",
    "data = pd.DataFrame([rates_coupled(conc_out,10) for conc_out in concs_out],\n",
    "            columns=['conc_out', 'conc_in','bind', 'unbind', 'egress', 'reflux', 'bound'])\n",
    "source = ColumnDataSource(data)\n",
    "\n",
    "data"
   ]
  },
  {
   "cell_type": "code",
   "execution_count": 455,
   "metadata": {},
   "outputs": [
    {
     "data": {
      "text/html": [
       "\n",
       "<div class=\"bk-root\">\n",
       "    <div class=\"bk-plotdiv\" id=\"d34719a5-c6d0-4b50-b201-56c4836de78f\"></div>\n",
       "</div>"
      ]
     },
     "metadata": {},
     "output_type": "display_data"
    },
    {
     "data": {
      "application/javascript": [
       "(function(root) {\n",
       "  function embed_document(root) {\n",
       "    \n",
       "  var docs_json = {\"e5a29998-14fa-424c-bbbb-cd4e6699b03d\":{\"roots\":{\"references\":[{\"attributes\":{\"plot\":null,\"text\":\"ion occupation\"},\"id\":\"fffd4c01-f255-49d8-96c9-8828c09dab96\",\"type\":\"Title\"},{\"attributes\":{\"line_color\":\"#1f77b4\",\"line_width\":2,\"x\":{\"field\":\"conc_out\"},\"y\":{\"field\":\"bound\"}},\"id\":\"93f3f8ae-3d8c-4c9d-9f04-9f159907320b\",\"type\":\"Line\"},{\"attributes\":{},\"id\":\"b1246434-ddcb-47f3-acee-b297da22d1bd\",\"type\":\"LinearScale\"},{\"attributes\":{\"num_minor_ticks\":10},\"id\":\"6746ab24-af49-4d16-b519-db420a320ea4\",\"type\":\"LogTicker\"},{\"attributes\":{\"overlay\":{\"id\":\"c49bbfad-177b-4311-acbf-da60e7928929\",\"type\":\"BoxAnnotation\"}},\"id\":\"2acccad8-3412-437b-9de4-ce7921ed48aa\",\"type\":\"BoxZoomTool\"},{\"attributes\":{\"callback\":null},\"id\":\"700ec457-e04f-44b8-872d-e4bba986584f\",\"type\":\"DataRange1d\"},{\"attributes\":{\"active_drag\":\"auto\",\"active_inspect\":\"auto\",\"active_scroll\":\"auto\",\"active_tap\":\"auto\",\"tools\":[{\"id\":\"e2656fcd-afd3-4690-a066-8d92f700f80d\",\"type\":\"PanTool\"},{\"id\":\"b6dac9ef-04c9-426f-a34c-393d65eada4a\",\"type\":\"WheelZoomTool\"},{\"id\":\"2acccad8-3412-437b-9de4-ce7921ed48aa\",\"type\":\"BoxZoomTool\"},{\"id\":\"441b898c-ce19-4480-92e5-9b72d0625d13\",\"type\":\"ResetTool\"},{\"id\":\"d46fe6ac-e5fe-4a47-9516-e463e01b8e69\",\"type\":\"CrosshairTool\"}]},\"id\":\"c736d3a6-33ec-4c1e-9990-67c07b170b0f\",\"type\":\"Toolbar\"},{\"attributes\":{\"callback\":null,\"column_names\":[\"index\",\"unbind\",\"bind\",\"reflux\",\"bound\",\"egress\",\"conc_in\",\"conc_out\"],\"data\":{\"bind\":{\"__ndarray__\":\"oqI4ISGKHUDM616YXTISQPr6/P4sbAZA1vQe9h6j+z+yuZblKgrxP+GxotfMBuU/RwGo+df52T9PCyiJKRPQP5QdVs5d9MM/Akjcl23juD9+VF2Em0avP3ET99LL4aM/P8+9fPa6mT+55V8vcRaRP7li3hK1h4c/fF9gJV75gD/PhC2ZW995P92xDz7V5XQ/dk9pHe/UcT8vZQFAReFvPw==\",\"dtype\":\"float64\",\"shape\":[20]},\"bound\":{\"__ndarray__\":\"fnXvoXVugT+G4wK46RKMP3Go1ACsfpY/b5R92TDioT+I+bKQLhesP1O2zKtrqLU/wRnqUS9BwD83vY8MKILHP+RmF8l4NdA/gVDLis0k1T92k7Vh5gXaP8ulTAyEVd4/VSLbr+Pj4D/+BWheLyniPyoN4N4NC+M/MsPcZ2mh4z+TL2GYtgLkP6fu0JmIQOQ/1lvJflpn5D81ewgfjX/kPw==\",\"dtype\":\"float64\",\"shape\":[20]},\"conc_in\":{\"__ndarray__\":\"AAAAAAAAJEAAAAAAAAAkQAAAAAAAACRAAAAAAAAAJEAAAAAAAAAkQAAAAAAAACRAAAAAAAAAJEAAAAAAAAAkQAAAAAAAACRAAAAAAAAAJEAAAAAAAAAkQAAAAAAAACRAAAAAAAAAJEAAAAAAAAAkQAAAAAAAACRAAAAAAAAAJEAAAAAAAAAkQAAAAAAAACRAAAAAAAAAJEAAAAAAAAAkQA==\",\"dtype\":\"float64\",\"shape\":[20]},\"conc_out\":{\"__ndarray__\":\"mpmZmZmZuT+FgoqnysjEP3KAhorj39A/9Sbl9Yhm2z/W6n/2BD/mP11XNFK4D/I/GJbzlONT/T/0qzlYkc8HQIQPGqrrVBNAOMc6LfFjH0DUHZK1SXwpQFL2NFX+sDRAQXWMQZHMQEA4vEJMKUdLQEGYPyaMJVZALCEDJgr7YUDe1ggHTzJtQACY8eZNtHdAgCXiIsk+g0AAAAAAAECPQA==\",\"dtype\":\"float64\",\"shape\":[20]},\"egress\":{\"__ndarray__\":\"AmXFj2AmIkFNClOMA4QWQcJnruslEgxBpxQcDzKeAUHYFRJUhlz2QPch4WEU3uxAnlcrmhga40BW6Z243izaQMC8/j+WxNJAD4B0bX5pzEAAe74WGMvGQMlVIBg/VcNAbf5FXLEzwUC+0UGXbMe/QMvPy8ScKb5A23hs+MEqvUDSJRwUz428QCIv1fYmLbxAAV2YZKDxu0CN1K/G98y7QA==\",\"dtype\":\"float64\",\"shape\":[20]},\"index\":[0,1,2,3,4,5,6,7,8,9,10,11,12,13,14,15,16,17,18,19],\"reflux\":{\"__ndarray__\":\"snBqbpriiEAU0f9IZuKIQJf9yCtG4ohAbNnDZDLiiEC0krY2JuKIQNltd7Ye4ohALtTiFxriiEBckpg/F+KIQP1wFH8V4ohAbKvcahTiiECk88DAE+KIQAQr/lcT4ohAd955FxPiiEA4Vr7vEuKIQAk4RtcS4ohACXo0yBLiiEAos+y+EuKIQNaXNbkS4ohAZo+wtRLiiEDer4WzEuKIQA==\",\"dtype\":\"float64\",\"shape\":[20]},\"unbind\":{\"__ndarray__\":\"QXYvD+eTuD+NzU1jLZS4P8U3cpmflLg/3oLRFlmVuD+7rZlghpa4P5igxdlvmLg/ClcRTYubuD98KwypmKC4P6u0klTRqLg/76gIzDa2uD8vWKLiFsy4Py3al3ru77g/+IM1e/gquT8JBiC7A425Py7V8+vNMbo/7bEKfnVLuz/iGRm4FDe9P76R/4YFUsA/6ENtm1prwz9vUqBlDAHJPw==\",\"dtype\":\"float64\",\"shape\":[20]}}},\"id\":\"4c09e9cd-ac43-4528-b86e-eb3420c8261d\",\"type\":\"ColumnDataSource\"},{\"attributes\":{\"source\":{\"id\":\"4c09e9cd-ac43-4528-b86e-eb3420c8261d\",\"type\":\"ColumnDataSource\"}},\"id\":\"097026be-b10d-4de4-b1e4-223c2cbe80d6\",\"type\":\"CDSView\"},{\"attributes\":{\"line_alpha\":0.1,\"line_color\":\"#1f77b4\",\"line_width\":2,\"x\":{\"field\":\"conc_out\"},\"y\":{\"field\":\"bound\"}},\"id\":\"5fce98fc-f82b-400c-8fbb-188cffe240da\",\"type\":\"Line\"},{\"attributes\":{\"data_source\":{\"id\":\"4c09e9cd-ac43-4528-b86e-eb3420c8261d\",\"type\":\"ColumnDataSource\"},\"glyph\":{\"id\":\"93f3f8ae-3d8c-4c9d-9f04-9f159907320b\",\"type\":\"Line\"},\"hover_glyph\":null,\"muted_glyph\":null,\"nonselection_glyph\":{\"id\":\"5fce98fc-f82b-400c-8fbb-188cffe240da\",\"type\":\"Line\"},\"selection_glyph\":null,\"view\":{\"id\":\"097026be-b10d-4de4-b1e4-223c2cbe80d6\",\"type\":\"CDSView\"}},\"id\":\"0f414e92-ddd4-4b2b-b22d-bcbc087be9b8\",\"type\":\"GlyphRenderer\"},{\"attributes\":{},\"id\":\"9c069429-6f23-4c21-87ac-f04e7a40f595\",\"type\":\"BasicTickFormatter\"},{\"attributes\":{},\"id\":\"d46fe6ac-e5fe-4a47-9516-e463e01b8e69\",\"type\":\"CrosshairTool\"},{\"attributes\":{},\"id\":\"8b25ea97-6d67-47a6-8569-2978169a50b9\",\"type\":\"LogScale\"},{\"attributes\":{\"axis_label\":\"occupation of bound state\",\"formatter\":{\"id\":\"9c069429-6f23-4c21-87ac-f04e7a40f595\",\"type\":\"BasicTickFormatter\"},\"plot\":{\"id\":\"f5fa2bcb-efc7-4165-9772-21cb318d2ae1\",\"subtype\":\"Figure\",\"type\":\"Plot\"},\"ticker\":{\"id\":\"4f969f29-ef0b-45ce-8ab1-ee95c8bff4a3\",\"type\":\"BasicTicker\"}},\"id\":\"ea710d25-f88e-41cb-9a79-a16be9eb135c\",\"type\":\"LinearAxis\"},{\"attributes\":{\"dimension\":1,\"plot\":{\"id\":\"f5fa2bcb-efc7-4165-9772-21cb318d2ae1\",\"subtype\":\"Figure\",\"type\":\"Plot\"},\"ticker\":{\"id\":\"4f969f29-ef0b-45ce-8ab1-ee95c8bff4a3\",\"type\":\"BasicTicker\"}},\"id\":\"69bb9991-865e-437e-9def-3fdd59ab0f5a\",\"type\":\"Grid\"},{\"attributes\":{},\"id\":\"e2656fcd-afd3-4690-a066-8d92f700f80d\",\"type\":\"PanTool\"},{\"attributes\":{\"callback\":null},\"id\":\"c72f5dbc-0d63-476c-9168-8e03f07a3171\",\"type\":\"DataRange1d\"},{\"attributes\":{\"plot\":{\"id\":\"f5fa2bcb-efc7-4165-9772-21cb318d2ae1\",\"subtype\":\"Figure\",\"type\":\"Plot\"},\"ticker\":{\"id\":\"6746ab24-af49-4d16-b519-db420a320ea4\",\"type\":\"LogTicker\"}},\"id\":\"ab80d06b-eb8e-45a2-895c-75c828389c64\",\"type\":\"Grid\"},{\"attributes\":{\"ticker\":null},\"id\":\"081f6133-33a8-4e90-99ae-ed0f2857626c\",\"type\":\"LogTickFormatter\"},{\"attributes\":{\"below\":[{\"id\":\"04a41454-2d96-4390-b268-91287f4bdc0e\",\"type\":\"LogAxis\"}],\"left\":[{\"id\":\"ea710d25-f88e-41cb-9a79-a16be9eb135c\",\"type\":\"LinearAxis\"}],\"plot_height\":300,\"plot_width\":400,\"renderers\":[{\"id\":\"04a41454-2d96-4390-b268-91287f4bdc0e\",\"type\":\"LogAxis\"},{\"id\":\"ab80d06b-eb8e-45a2-895c-75c828389c64\",\"type\":\"Grid\"},{\"id\":\"ea710d25-f88e-41cb-9a79-a16be9eb135c\",\"type\":\"LinearAxis\"},{\"id\":\"69bb9991-865e-437e-9def-3fdd59ab0f5a\",\"type\":\"Grid\"},{\"id\":\"c49bbfad-177b-4311-acbf-da60e7928929\",\"type\":\"BoxAnnotation\"},{\"id\":\"0f414e92-ddd4-4b2b-b22d-bcbc087be9b8\",\"type\":\"GlyphRenderer\"}],\"title\":{\"id\":\"fffd4c01-f255-49d8-96c9-8828c09dab96\",\"type\":\"Title\"},\"toolbar\":{\"id\":\"c736d3a6-33ec-4c1e-9990-67c07b170b0f\",\"type\":\"Toolbar\"},\"x_range\":{\"id\":\"c72f5dbc-0d63-476c-9168-8e03f07a3171\",\"type\":\"DataRange1d\"},\"x_scale\":{\"id\":\"8b25ea97-6d67-47a6-8569-2978169a50b9\",\"type\":\"LogScale\"},\"y_range\":{\"id\":\"700ec457-e04f-44b8-872d-e4bba986584f\",\"type\":\"DataRange1d\"},\"y_scale\":{\"id\":\"b1246434-ddcb-47f3-acee-b297da22d1bd\",\"type\":\"LinearScale\"}},\"id\":\"f5fa2bcb-efc7-4165-9772-21cb318d2ae1\",\"subtype\":\"Figure\",\"type\":\"Plot\"},{\"attributes\":{},\"id\":\"4f969f29-ef0b-45ce-8ab1-ee95c8bff4a3\",\"type\":\"BasicTicker\"},{\"attributes\":{\"axis_label\":\"ion concentration (mM)\",\"formatter\":{\"id\":\"081f6133-33a8-4e90-99ae-ed0f2857626c\",\"type\":\"LogTickFormatter\"},\"plot\":{\"id\":\"f5fa2bcb-efc7-4165-9772-21cb318d2ae1\",\"subtype\":\"Figure\",\"type\":\"Plot\"},\"ticker\":{\"id\":\"6746ab24-af49-4d16-b519-db420a320ea4\",\"type\":\"LogTicker\"}},\"id\":\"04a41454-2d96-4390-b268-91287f4bdc0e\",\"type\":\"LogAxis\"},{\"attributes\":{\"bottom_units\":\"screen\",\"fill_alpha\":{\"value\":0.5},\"fill_color\":{\"value\":\"lightgrey\"},\"left_units\":\"screen\",\"level\":\"overlay\",\"line_alpha\":{\"value\":1.0},\"line_color\":{\"value\":\"black\"},\"line_dash\":[4,4],\"line_width\":{\"value\":2},\"plot\":null,\"render_mode\":\"css\",\"right_units\":\"screen\",\"top_units\":\"screen\"},\"id\":\"c49bbfad-177b-4311-acbf-da60e7928929\",\"type\":\"BoxAnnotation\"},{\"attributes\":{},\"id\":\"441b898c-ce19-4480-92e5-9b72d0625d13\",\"type\":\"ResetTool\"},{\"attributes\":{},\"id\":\"b6dac9ef-04c9-426f-a34c-393d65eada4a\",\"type\":\"WheelZoomTool\"}],\"root_ids\":[\"f5fa2bcb-efc7-4165-9772-21cb318d2ae1\"]},\"title\":\"Bokeh Application\",\"version\":\"0.12.13\"}};\n",
       "  var render_items = [{\"docid\":\"e5a29998-14fa-424c-bbbb-cd4e6699b03d\",\"elementid\":\"d34719a5-c6d0-4b50-b201-56c4836de78f\",\"modelid\":\"f5fa2bcb-efc7-4165-9772-21cb318d2ae1\"}];\n",
       "  root.Bokeh.embed.embed_items_notebook(docs_json, render_items);\n",
       "\n",
       "  }\n",
       "  if (root.Bokeh !== undefined) {\n",
       "    embed_document(root);\n",
       "  } else {\n",
       "    var attempts = 0;\n",
       "    var timer = setInterval(function(root) {\n",
       "      if (root.Bokeh !== undefined) {\n",
       "        embed_document(root);\n",
       "        clearInterval(timer);\n",
       "      }\n",
       "      attempts++;\n",
       "      if (attempts > 100) {\n",
       "        console.log(\"Bokeh: ERROR: Unable to run BokehJS code because BokehJS library is missing\")\n",
       "        clearInterval(timer);\n",
       "      }\n",
       "    }, 10, root)\n",
       "  }\n",
       "})(window);"
      ],
      "application/vnd.bokehjs_exec.v0+json": ""
     },
     "metadata": {
      "application/vnd.bokehjs_exec.v0+json": {
       "id": "f5fa2bcb-efc7-4165-9772-21cb318d2ae1"
      }
     },
     "output_type": "display_data"
    }
   ],
   "source": [
    "p = figure(plot_width=400, \n",
    "           plot_height=300, \n",
    "           tools=\"pan,wheel_zoom,box_zoom,reset,crosshair\",\n",
    "           x_axis_type=\"log\"\n",
    "          )\n",
    "p.line('conc_out','bound', line_width=2, source=source)\n",
    "p.xaxis.axis_label = 'ion concentration (mM)'\n",
    "p.yaxis.axis_label = 'occupation of bound state'\n",
    "p.title.text='ion occupation'\n",
    "show(p)"
   ]
  },
  {
   "cell_type": "code",
   "execution_count": 458,
   "metadata": {},
   "outputs": [
    {
     "data": {
      "text/html": [
       "\n",
       "<div class=\"bk-root\">\n",
       "    <div class=\"bk-plotdiv\" id=\"23741793-cb5d-49fe-8661-a9b4a4e89724\"></div>\n",
       "</div>"
      ]
     },
     "metadata": {},
     "output_type": "display_data"
    },
    {
     "data": {
      "application/javascript": [
       "(function(root) {\n",
       "  function embed_document(root) {\n",
       "    \n",
       "  var docs_json = {\"e34fd6c0-03a0-4022-b0a5-d7adb288745f\":{\"roots\":{\"references\":[{\"attributes\":{\"callback\":null,\"column_names\":[\"x\",\"y\"],\"data\":{\"x\":{\"__ndarray__\":\"mpmZmZmZuT+FgoqnysjEP3KAhorj39A/9Sbl9Yhm2z/W6n/2BD/mP11XNFK4D/I/GJbzlONT/T/0qzlYkc8HQIQPGqrrVBNAOMc6LfFjH0DUHZK1SXwpQFL2NFX+sDRAQXWMQZHMQEA4vEJMKUdLQEGYPyaMJVZALCEDJgr7YUDe1ggHTzJtQACY8eZNtHdAgCXiIsk+g0AAAAAAAECPQA==\",\"dtype\":\"float64\",\"shape\":[20]},\"y\":{\"__ndarray__\":\"oqI4ISGKHUDM616YXTISQPr6/P4sbAZA1vQe9h6j+z+yuZblKgrxP+GxotfMBuU/RwGo+df52T9PCyiJKRPQP5QdVs5d9MM/Akjcl23juD9+VF2Em0avP3ET99LL4aM/P8+9fPa6mT+55V8vcRaRP7li3hK1h4c/fF9gJV75gD/PhC2ZW995P92xDz7V5XQ/dk9pHe/UcT8vZQFAReFvPw==\",\"dtype\":\"float64\",\"shape\":[20]}}},\"id\":\"d01bdaf5-9326-421c-805f-1ad935a535c7\",\"type\":\"ColumnDataSource\"},{\"attributes\":{\"dimension\":1,\"plot\":{\"id\":\"d97cb2a0-25be-430d-9545-4c25d12feb9b\",\"subtype\":\"Figure\",\"type\":\"Plot\"},\"ticker\":{\"id\":\"6cc8ea3a-a6cd-460f-b6b4-545bf0dad63e\",\"type\":\"LogTicker\"}},\"id\":\"58d71645-b9be-4431-ab0c-1ee77fa8219f\",\"type\":\"Grid\"},{\"attributes\":{\"plot\":{\"id\":\"d97cb2a0-25be-430d-9545-4c25d12feb9b\",\"subtype\":\"Figure\",\"type\":\"Plot\"},\"ticker\":{\"id\":\"894cfa08-1216-468c-9c28-8beecd3dba65\",\"type\":\"LogTicker\"}},\"id\":\"ba52caab-ba5a-483d-b3a6-23e8899f895f\",\"type\":\"Grid\"},{\"attributes\":{\"callback\":null,\"column_names\":[\"y\",\"x\"],\"data\":{\"x\":{\"__ndarray__\":\"mpmZmZmZuT+FgoqnysjEP3KAhorj39A/9Sbl9Yhm2z/W6n/2BD/mP11XNFK4D/I/GJbzlONT/T/0qzlYkc8HQIQPGqrrVBNAOMc6LfFjH0DUHZK1SXwpQFL2NFX+sDRAQXWMQZHMQEA4vEJMKUdLQEGYPyaMJVZALCEDJgr7YUDe1ggHTzJtQACY8eZNtHdAgCXiIsk+g0AAAAAAAECPQA==\",\"dtype\":\"float64\",\"shape\":[20]},\"y\":{\"__ndarray__\":\"QXYvD+eTuD+NzU1jLZS4P8U3cpmflLg/3oLRFlmVuD+7rZlghpa4P5igxdlvmLg/ClcRTYubuD98KwypmKC4P6u0klTRqLg/76gIzDa2uD8vWKLiFsy4Py3al3ru77g/+IM1e/gquT8JBiC7A425Py7V8+vNMbo/7bEKfnVLuz/iGRm4FDe9P76R/4YFUsA/6ENtm1prwz9vUqBlDAHJPw==\",\"dtype\":\"float64\",\"shape\":[20]}}},\"id\":\"b0c90019-19fe-4ba5-acfe-73ff9af87a36\",\"type\":\"ColumnDataSource\"},{\"attributes\":{\"source\":{\"id\":\"b0c90019-19fe-4ba5-acfe-73ff9af87a36\",\"type\":\"ColumnDataSource\"}},\"id\":\"e2544229-0e0b-47be-9733-0307bafb6662\",\"type\":\"CDSView\"},{\"attributes\":{\"label\":{\"value\":\"bind\"},\"renderers\":[{\"id\":\"8fc67fc5-9cef-47e7-a56a-b4527b13a486\",\"type\":\"GlyphRenderer\"}]},\"id\":\"cffe005b-b865-4c43-bc54-2efa1cb367b8\",\"type\":\"LegendItem\"},{\"attributes\":{},\"id\":\"67832e21-4e05-49a1-b961-5a4878452cb3\",\"type\":\"PanTool\"},{\"attributes\":{\"callback\":null},\"id\":\"9163c71f-d48b-4b07-9afe-8bec32d3d731\",\"type\":\"DataRange1d\"},{\"attributes\":{\"active_drag\":\"auto\",\"active_inspect\":\"auto\",\"active_scroll\":\"auto\",\"active_tap\":\"auto\",\"tools\":[{\"id\":\"67832e21-4e05-49a1-b961-5a4878452cb3\",\"type\":\"PanTool\"},{\"id\":\"2af54278-8248-4ce9-8fde-43680ee82d7e\",\"type\":\"WheelZoomTool\"},{\"id\":\"b6ff06c1-7eeb-44d8-8042-2087f4de82af\",\"type\":\"BoxZoomTool\"},{\"id\":\"e661429a-fe8f-41ef-b91f-df7973971017\",\"type\":\"ResetTool\"},{\"id\":\"937dd0fe-d15b-4031-a8d1-f75ab1c28179\",\"type\":\"CrosshairTool\"}]},\"id\":\"88922050-3bf2-4a7c-befd-09d5201ef053\",\"type\":\"Toolbar\"},{\"attributes\":{\"axis_label\":\"time (us)\",\"formatter\":{\"id\":\"503c80ee-564c-4114-8e4e-9074076b2f23\",\"type\":\"LogTickFormatter\"},\"plot\":{\"id\":\"d97cb2a0-25be-430d-9545-4c25d12feb9b\",\"subtype\":\"Figure\",\"type\":\"Plot\"},\"ticker\":{\"id\":\"6cc8ea3a-a6cd-460f-b6b4-545bf0dad63e\",\"type\":\"LogTicker\"}},\"id\":\"6700f74e-33a1-4593-b42f-fb3d863885ab\",\"type\":\"LogAxis\"},{\"attributes\":{\"ticker\":null},\"id\":\"e0c317fc-9b92-4226-96a3-ce7ab7aef553\",\"type\":\"LogTickFormatter\"},{\"attributes\":{\"label\":{\"value\":\"unbind\"},\"renderers\":[{\"id\":\"0b7fc5d1-4b08-4262-9164-bcaf9f83ffa6\",\"type\":\"GlyphRenderer\"}]},\"id\":\"5d64d94f-8217-46fd-aa97-305e91b9a7bc\",\"type\":\"LegendItem\"},{\"attributes\":{},\"id\":\"937dd0fe-d15b-4031-a8d1-f75ab1c28179\",\"type\":\"CrosshairTool\"},{\"attributes\":{\"data_source\":{\"id\":\"d01bdaf5-9326-421c-805f-1ad935a535c7\",\"type\":\"ColumnDataSource\"},\"glyph\":{\"id\":\"2528938e-8f0e-4b4e-80c5-1205f3c0ae87\",\"type\":\"Line\"},\"hover_glyph\":null,\"muted_glyph\":null,\"nonselection_glyph\":{\"id\":\"a3878a1d-d8c9-43ff-b46c-296ee97e45ce\",\"type\":\"Line\"},\"selection_glyph\":null,\"view\":{\"id\":\"52bc0558-c599-4fee-b6a1-6616e60f3250\",\"type\":\"CDSView\"}},\"id\":\"8fc67fc5-9cef-47e7-a56a-b4527b13a486\",\"type\":\"GlyphRenderer\"},{\"attributes\":{\"line_color\":\"red\",\"line_width\":2,\"x\":{\"field\":\"x\"},\"y\":{\"field\":\"y\"}},\"id\":\"2528938e-8f0e-4b4e-80c5-1205f3c0ae87\",\"type\":\"Line\"},{\"attributes\":{},\"id\":\"2af54278-8248-4ce9-8fde-43680ee82d7e\",\"type\":\"WheelZoomTool\"},{\"attributes\":{\"axis_label\":\"ion concentration (mM)\",\"formatter\":{\"id\":\"e0c317fc-9b92-4226-96a3-ce7ab7aef553\",\"type\":\"LogTickFormatter\"},\"plot\":{\"id\":\"d97cb2a0-25be-430d-9545-4c25d12feb9b\",\"subtype\":\"Figure\",\"type\":\"Plot\"},\"ticker\":{\"id\":\"894cfa08-1216-468c-9c28-8beecd3dba65\",\"type\":\"LogTicker\"}},\"id\":\"fbac5d1e-93e6-442d-8d9e-9fdc269e12ab\",\"type\":\"LogAxis\"},{\"attributes\":{\"num_minor_ticks\":10},\"id\":\"894cfa08-1216-468c-9c28-8beecd3dba65\",\"type\":\"LogTicker\"},{\"attributes\":{\"ticker\":null},\"id\":\"503c80ee-564c-4114-8e4e-9074076b2f23\",\"type\":\"LogTickFormatter\"},{\"attributes\":{\"below\":[{\"id\":\"fbac5d1e-93e6-442d-8d9e-9fdc269e12ab\",\"type\":\"LogAxis\"}],\"left\":[{\"id\":\"6700f74e-33a1-4593-b42f-fb3d863885ab\",\"type\":\"LogAxis\"}],\"plot_height\":300,\"plot_width\":400,\"renderers\":[{\"id\":\"fbac5d1e-93e6-442d-8d9e-9fdc269e12ab\",\"type\":\"LogAxis\"},{\"id\":\"ba52caab-ba5a-483d-b3a6-23e8899f895f\",\"type\":\"Grid\"},{\"id\":\"6700f74e-33a1-4593-b42f-fb3d863885ab\",\"type\":\"LogAxis\"},{\"id\":\"58d71645-b9be-4431-ab0c-1ee77fa8219f\",\"type\":\"Grid\"},{\"id\":\"97cb8454-dba3-414e-916f-e37e8968d7a0\",\"type\":\"BoxAnnotation\"},{\"id\":\"951a1702-5411-4997-8ec9-00b03c5efb1d\",\"type\":\"Legend\"},{\"id\":\"8fc67fc5-9cef-47e7-a56a-b4527b13a486\",\"type\":\"GlyphRenderer\"},{\"id\":\"0b7fc5d1-4b08-4262-9164-bcaf9f83ffa6\",\"type\":\"GlyphRenderer\"}],\"title\":{\"id\":\"e725653f-d22c-4400-ac16-3ef93713fc66\",\"type\":\"Title\"},\"toolbar\":{\"id\":\"88922050-3bf2-4a7c-befd-09d5201ef053\",\"type\":\"Toolbar\"},\"x_range\":{\"id\":\"9163c71f-d48b-4b07-9afe-8bec32d3d731\",\"type\":\"DataRange1d\"},\"x_scale\":{\"id\":\"17508733-570e-4b42-8555-219b608716d1\",\"type\":\"LogScale\"},\"y_range\":{\"id\":\"5d643990-02de-4897-add7-19e61ff3dc80\",\"type\":\"DataRange1d\"},\"y_scale\":{\"id\":\"90a781e0-b159-4226-b547-52c6040dd684\",\"type\":\"LogScale\"}},\"id\":\"d97cb2a0-25be-430d-9545-4c25d12feb9b\",\"subtype\":\"Figure\",\"type\":\"Plot\"},{\"attributes\":{\"callback\":null},\"id\":\"5d643990-02de-4897-add7-19e61ff3dc80\",\"type\":\"DataRange1d\"},{\"attributes\":{},\"id\":\"90a781e0-b159-4226-b547-52c6040dd684\",\"type\":\"LogScale\"},{\"attributes\":{\"plot\":null,\"text\":\"times bound/extracell (bind/unbind)\"},\"id\":\"e725653f-d22c-4400-ac16-3ef93713fc66\",\"type\":\"Title\"},{\"attributes\":{\"line_color\":\"#1f77b4\",\"line_width\":2,\"x\":{\"field\":\"x\"},\"y\":{\"field\":\"y\"}},\"id\":\"49060f67-f509-40c2-bc6d-6e419714898e\",\"type\":\"Line\"},{\"attributes\":{\"overlay\":{\"id\":\"97cb8454-dba3-414e-916f-e37e8968d7a0\",\"type\":\"BoxAnnotation\"}},\"id\":\"b6ff06c1-7eeb-44d8-8042-2087f4de82af\",\"type\":\"BoxZoomTool\"},{\"attributes\":{\"bottom_units\":\"screen\",\"fill_alpha\":{\"value\":0.5},\"fill_color\":{\"value\":\"lightgrey\"},\"left_units\":\"screen\",\"level\":\"overlay\",\"line_alpha\":{\"value\":1.0},\"line_color\":{\"value\":\"black\"},\"line_dash\":[4,4],\"line_width\":{\"value\":2},\"plot\":null,\"render_mode\":\"css\",\"right_units\":\"screen\",\"top_units\":\"screen\"},\"id\":\"97cb8454-dba3-414e-916f-e37e8968d7a0\",\"type\":\"BoxAnnotation\"},{\"attributes\":{\"line_alpha\":0.1,\"line_color\":\"#1f77b4\",\"line_width\":2,\"x\":{\"field\":\"x\"},\"y\":{\"field\":\"y\"}},\"id\":\"a3878a1d-d8c9-43ff-b46c-296ee97e45ce\",\"type\":\"Line\"},{\"attributes\":{\"source\":{\"id\":\"d01bdaf5-9326-421c-805f-1ad935a535c7\",\"type\":\"ColumnDataSource\"}},\"id\":\"52bc0558-c599-4fee-b6a1-6616e60f3250\",\"type\":\"CDSView\"},{\"attributes\":{\"items\":[{\"id\":\"cffe005b-b865-4c43-bc54-2efa1cb367b8\",\"type\":\"LegendItem\"},{\"id\":\"5d64d94f-8217-46fd-aa97-305e91b9a7bc\",\"type\":\"LegendItem\"}],\"plot\":{\"id\":\"d97cb2a0-25be-430d-9545-4c25d12feb9b\",\"subtype\":\"Figure\",\"type\":\"Plot\"}},\"id\":\"951a1702-5411-4997-8ec9-00b03c5efb1d\",\"type\":\"Legend\"},{\"attributes\":{\"data_source\":{\"id\":\"b0c90019-19fe-4ba5-acfe-73ff9af87a36\",\"type\":\"ColumnDataSource\"},\"glyph\":{\"id\":\"49060f67-f509-40c2-bc6d-6e419714898e\",\"type\":\"Line\"},\"hover_glyph\":null,\"muted_glyph\":null,\"nonselection_glyph\":{\"id\":\"990d97ab-0f43-4ca2-a7c1-c476f0c38511\",\"type\":\"Line\"},\"selection_glyph\":null,\"view\":{\"id\":\"e2544229-0e0b-47be-9733-0307bafb6662\",\"type\":\"CDSView\"}},\"id\":\"0b7fc5d1-4b08-4262-9164-bcaf9f83ffa6\",\"type\":\"GlyphRenderer\"},{\"attributes\":{\"num_minor_ticks\":10},\"id\":\"6cc8ea3a-a6cd-460f-b6b4-545bf0dad63e\",\"type\":\"LogTicker\"},{\"attributes\":{},\"id\":\"17508733-570e-4b42-8555-219b608716d1\",\"type\":\"LogScale\"},{\"attributes\":{},\"id\":\"e661429a-fe8f-41ef-b91f-df7973971017\",\"type\":\"ResetTool\"},{\"attributes\":{\"line_alpha\":0.1,\"line_color\":\"#1f77b4\",\"line_width\":2,\"x\":{\"field\":\"x\"},\"y\":{\"field\":\"y\"}},\"id\":\"990d97ab-0f43-4ca2-a7c1-c476f0c38511\",\"type\":\"Line\"}],\"root_ids\":[\"d97cb2a0-25be-430d-9545-4c25d12feb9b\"]},\"title\":\"Bokeh Application\",\"version\":\"0.12.13\"}};\n",
       "  var render_items = [{\"docid\":\"e34fd6c0-03a0-4022-b0a5-d7adb288745f\",\"elementid\":\"23741793-cb5d-49fe-8661-a9b4a4e89724\",\"modelid\":\"d97cb2a0-25be-430d-9545-4c25d12feb9b\"}];\n",
       "  root.Bokeh.embed.embed_items_notebook(docs_json, render_items);\n",
       "\n",
       "  }\n",
       "  if (root.Bokeh !== undefined) {\n",
       "    embed_document(root);\n",
       "  } else {\n",
       "    var attempts = 0;\n",
       "    var timer = setInterval(function(root) {\n",
       "      if (root.Bokeh !== undefined) {\n",
       "        embed_document(root);\n",
       "        clearInterval(timer);\n",
       "      }\n",
       "      attempts++;\n",
       "      if (attempts > 100) {\n",
       "        console.log(\"Bokeh: ERROR: Unable to run BokehJS code because BokehJS library is missing\")\n",
       "        clearInterval(timer);\n",
       "      }\n",
       "    }, 10, root)\n",
       "  }\n",
       "})(window);"
      ],
      "application/vnd.bokehjs_exec.v0+json": ""
     },
     "metadata": {
      "application/vnd.bokehjs_exec.v0+json": {
       "id": "d97cb2a0-25be-430d-9545-4c25d12feb9b"
      }
     },
     "output_type": "display_data"
    }
   ],
   "source": [
    "p = figure(plot_width=400, \n",
    "           plot_height=300, \n",
    "           tools=\"pan,wheel_zoom,box_zoom,reset,crosshair\",\n",
    "           x_axis_type=\"log\",\n",
    "           y_axis_type=\"log\"\n",
    "           \n",
    "          )\n",
    "p.line(data['conc_out'],data['bind'], line_width=2,  line_color='red',legend='bind')\n",
    "p.line(data['conc_out'],data['unbind'], line_width=2, legend='unbind')\n",
    "\n",
    "p.xaxis.axis_label = 'ion concentration (mM)'\n",
    "p.yaxis.axis_label = 'time (us)'\n",
    "p.title.text='times bound/extracell (bind/unbind)'\n",
    "\n",
    "show(p)"
   ]
  },
  {
   "cell_type": "code",
   "execution_count": 459,
   "metadata": {},
   "outputs": [
    {
     "data": {
      "text/html": [
       "\n",
       "<div class=\"bk-root\">\n",
       "    <div class=\"bk-plotdiv\" id=\"f1c80f36-3d4f-40f0-b4f1-7e3a6489f4ca\"></div>\n",
       "</div>"
      ]
     },
     "metadata": {},
     "output_type": "display_data"
    },
    {
     "data": {
      "application/javascript": [
       "(function(root) {\n",
       "  function embed_document(root) {\n",
       "    \n",
       "  var docs_json = {\"3456bd35-8c69-4575-9ef9-8acb850e7533\":{\"roots\":{\"references\":[{\"attributes\":{},\"id\":\"821c2c25-158f-4f71-97c9-f52d459647d4\",\"type\":\"LogScale\"},{\"attributes\":{\"overlay\":{\"id\":\"35b17d58-0191-426f-ad95-0d0364874634\",\"type\":\"BoxAnnotation\"}},\"id\":\"ce12c2f3-54e5-45f6-bc8b-464c53490d57\",\"type\":\"BoxZoomTool\"},{\"attributes\":{\"source\":{\"id\":\"8b8f951d-9e2f-40af-b8f0-7cd5a11526ce\",\"type\":\"ColumnDataSource\"}},\"id\":\"eb90e109-6740-4759-a079-8d997b44f171\",\"type\":\"CDSView\"},{\"attributes\":{\"callback\":null},\"id\":\"7a541089-60a3-4c66-b3b5-af447d3e7596\",\"type\":\"DataRange1d\"},{\"attributes\":{\"callback\":null,\"column_names\":[\"x\",\"y\"],\"data\":{\"x\":{\"__ndarray__\":\"mpmZmZmZuT+FgoqnysjEP3KAhorj39A/9Sbl9Yhm2z/W6n/2BD/mP11XNFK4D/I/GJbzlONT/T/0qzlYkc8HQIQPGqrrVBNAOMc6LfFjH0DUHZK1SXwpQFL2NFX+sDRAQXWMQZHMQEA4vEJMKUdLQEGYPyaMJVZALCEDJgr7YUDe1ggHTzJtQACY8eZNtHdAgCXiIsk+g0AAAAAAAECPQA==\",\"dtype\":\"float64\",\"shape\":[20]},\"y\":{\"__ndarray__\":\"AmXFj2AmIkFNClOMA4QWQcJnruslEgxBpxQcDzKeAUHYFRJUhlz2QPch4WEU3uxAnlcrmhga40BW6Z243izaQMC8/j+WxNJAD4B0bX5pzEAAe74WGMvGQMlVIBg/VcNAbf5FXLEzwUC+0UGXbMe/QMvPy8ScKb5A23hs+MEqvUDSJRwUz428QCIv1fYmLbxAAV2YZKDxu0CN1K/G98y7QA==\",\"dtype\":\"float64\",\"shape\":[20]}}},\"id\":\"8b8f951d-9e2f-40af-b8f0-7cd5a11526ce\",\"type\":\"ColumnDataSource\"},{\"attributes\":{\"line_alpha\":0.1,\"line_color\":\"#1f77b4\",\"line_width\":2,\"x\":{\"field\":\"x\"},\"y\":{\"field\":\"y\"}},\"id\":\"5f8f8e0e-1632-4394-a46d-0b032aae1304\",\"type\":\"Line\"},{\"attributes\":{\"label\":{\"value\":\"egress\"},\"renderers\":[{\"id\":\"83030297-7070-470f-b847-eb75305852eb\",\"type\":\"GlyphRenderer\"}]},\"id\":\"9d5d585c-f8c7-4197-bbd8-717d069c827d\",\"type\":\"LegendItem\"},{\"attributes\":{\"below\":[{\"id\":\"8ce8e99b-2393-45a7-b9a2-c15b9cf42447\",\"type\":\"LogAxis\"}],\"left\":[{\"id\":\"22c1a749-eda3-4647-8feb-7c6544a91798\",\"type\":\"LogAxis\"}],\"plot_height\":300,\"plot_width\":400,\"renderers\":[{\"id\":\"8ce8e99b-2393-45a7-b9a2-c15b9cf42447\",\"type\":\"LogAxis\"},{\"id\":\"a6b32607-d05b-44f3-afec-65c385b2cd15\",\"type\":\"Grid\"},{\"id\":\"22c1a749-eda3-4647-8feb-7c6544a91798\",\"type\":\"LogAxis\"},{\"id\":\"9f6b0bb3-c88c-4b41-ae0c-6f2699727e3b\",\"type\":\"Grid\"},{\"id\":\"35b17d58-0191-426f-ad95-0d0364874634\",\"type\":\"BoxAnnotation\"},{\"id\":\"85524fc9-5c7c-4b47-a0cf-c8e372186ad9\",\"type\":\"Legend\"},{\"id\":\"83030297-7070-470f-b847-eb75305852eb\",\"type\":\"GlyphRenderer\"}],\"title\":{\"id\":\"cb2166c6-3ff0-414c-b34c-93ba9a6d98aa\",\"type\":\"Title\"},\"toolbar\":{\"id\":\"1bb3c45d-57c1-4ab2-9275-72f2cf74d7c6\",\"type\":\"Toolbar\"},\"x_range\":{\"id\":\"7a541089-60a3-4c66-b3b5-af447d3e7596\",\"type\":\"DataRange1d\"},\"x_scale\":{\"id\":\"1f13cebb-f532-41a6-b47b-88778ea01b60\",\"type\":\"LogScale\"},\"y_range\":{\"id\":\"5464867c-ce7d-463a-9f7e-37fa5835590f\",\"type\":\"DataRange1d\"},\"y_scale\":{\"id\":\"821c2c25-158f-4f71-97c9-f52d459647d4\",\"type\":\"LogScale\"}},\"id\":\"8eaf55cb-dcc0-47a7-b221-9943d5c05df1\",\"subtype\":\"Figure\",\"type\":\"Plot\"},{\"attributes\":{\"dimension\":1,\"plot\":{\"id\":\"8eaf55cb-dcc0-47a7-b221-9943d5c05df1\",\"subtype\":\"Figure\",\"type\":\"Plot\"},\"ticker\":{\"id\":\"c19573a7-5463-45ef-a9f6-36bc8f0c97ed\",\"type\":\"LogTicker\"}},\"id\":\"9f6b0bb3-c88c-4b41-ae0c-6f2699727e3b\",\"type\":\"Grid\"},{\"attributes\":{\"axis_label\":\"time (us)\",\"formatter\":{\"id\":\"d4323f6e-4d8e-4db3-b7bb-b9a626ad6e99\",\"type\":\"LogTickFormatter\"},\"plot\":{\"id\":\"8eaf55cb-dcc0-47a7-b221-9943d5c05df1\",\"subtype\":\"Figure\",\"type\":\"Plot\"},\"ticker\":{\"id\":\"c19573a7-5463-45ef-a9f6-36bc8f0c97ed\",\"type\":\"LogTicker\"}},\"id\":\"22c1a749-eda3-4647-8feb-7c6544a91798\",\"type\":\"LogAxis\"},{\"attributes\":{\"ticker\":null},\"id\":\"2d6e728f-9580-4074-a484-5980009c65fd\",\"type\":\"LogTickFormatter\"},{\"attributes\":{\"plot\":{\"id\":\"8eaf55cb-dcc0-47a7-b221-9943d5c05df1\",\"subtype\":\"Figure\",\"type\":\"Plot\"},\"ticker\":{\"id\":\"71875ee4-1de3-4380-9494-053261c1b7e5\",\"type\":\"LogTicker\"}},\"id\":\"a6b32607-d05b-44f3-afec-65c385b2cd15\",\"type\":\"Grid\"},{\"attributes\":{\"items\":[{\"id\":\"9d5d585c-f8c7-4197-bbd8-717d069c827d\",\"type\":\"LegendItem\"}],\"plot\":{\"id\":\"8eaf55cb-dcc0-47a7-b221-9943d5c05df1\",\"subtype\":\"Figure\",\"type\":\"Plot\"}},\"id\":\"85524fc9-5c7c-4b47-a0cf-c8e372186ad9\",\"type\":\"Legend\"},{\"attributes\":{\"active_drag\":\"auto\",\"active_inspect\":\"auto\",\"active_scroll\":\"auto\",\"active_tap\":\"auto\",\"tools\":[{\"id\":\"6c6c7717-33c5-446d-8a3f-49d8394b1fb2\",\"type\":\"PanTool\"},{\"id\":\"1faff0cc-9889-4bee-a42a-dbf3bf5fc7fb\",\"type\":\"WheelZoomTool\"},{\"id\":\"ce12c2f3-54e5-45f6-bc8b-464c53490d57\",\"type\":\"BoxZoomTool\"},{\"id\":\"2e913c3c-a96c-4d8b-99a3-dcf16645108d\",\"type\":\"ResetTool\"},{\"id\":\"7e1abac4-3a34-4ee4-ba3c-8d38226d9627\",\"type\":\"CrosshairTool\"}]},\"id\":\"1bb3c45d-57c1-4ab2-9275-72f2cf74d7c6\",\"type\":\"Toolbar\"},{\"attributes\":{\"ticker\":null},\"id\":\"d4323f6e-4d8e-4db3-b7bb-b9a626ad6e99\",\"type\":\"LogTickFormatter\"},{\"attributes\":{\"num_minor_ticks\":10},\"id\":\"c19573a7-5463-45ef-a9f6-36bc8f0c97ed\",\"type\":\"LogTicker\"},{\"attributes\":{\"data_source\":{\"id\":\"8b8f951d-9e2f-40af-b8f0-7cd5a11526ce\",\"type\":\"ColumnDataSource\"},\"glyph\":{\"id\":\"80bbc5c1-4202-442c-99d0-6a015588c78c\",\"type\":\"Line\"},\"hover_glyph\":null,\"muted_glyph\":null,\"nonselection_glyph\":{\"id\":\"5f8f8e0e-1632-4394-a46d-0b032aae1304\",\"type\":\"Line\"},\"selection_glyph\":null,\"view\":{\"id\":\"eb90e109-6740-4759-a079-8d997b44f171\",\"type\":\"CDSView\"}},\"id\":\"83030297-7070-470f-b847-eb75305852eb\",\"type\":\"GlyphRenderer\"},{\"attributes\":{\"bottom_units\":\"screen\",\"fill_alpha\":{\"value\":0.5},\"fill_color\":{\"value\":\"lightgrey\"},\"left_units\":\"screen\",\"level\":\"overlay\",\"line_alpha\":{\"value\":1.0},\"line_color\":{\"value\":\"black\"},\"line_dash\":[4,4],\"line_width\":{\"value\":2},\"plot\":null,\"render_mode\":\"css\",\"right_units\":\"screen\",\"top_units\":\"screen\"},\"id\":\"35b17d58-0191-426f-ad95-0d0364874634\",\"type\":\"BoxAnnotation\"},{\"attributes\":{\"plot\":null,\"text\":\"\"},\"id\":\"cb2166c6-3ff0-414c-b34c-93ba9a6d98aa\",\"type\":\"Title\"},{\"attributes\":{},\"id\":\"1f13cebb-f532-41a6-b47b-88778ea01b60\",\"type\":\"LogScale\"},{\"attributes\":{\"line_color\":\"red\",\"line_width\":2,\"x\":{\"field\":\"x\"},\"y\":{\"field\":\"y\"}},\"id\":\"80bbc5c1-4202-442c-99d0-6a015588c78c\",\"type\":\"Line\"},{\"attributes\":{},\"id\":\"1faff0cc-9889-4bee-a42a-dbf3bf5fc7fb\",\"type\":\"WheelZoomTool\"},{\"attributes\":{},\"id\":\"7e1abac4-3a34-4ee4-ba3c-8d38226d9627\",\"type\":\"CrosshairTool\"},{\"attributes\":{\"axis_label\":\"ion concentration (mM)\",\"formatter\":{\"id\":\"2d6e728f-9580-4074-a484-5980009c65fd\",\"type\":\"LogTickFormatter\"},\"plot\":{\"id\":\"8eaf55cb-dcc0-47a7-b221-9943d5c05df1\",\"subtype\":\"Figure\",\"type\":\"Plot\"},\"ticker\":{\"id\":\"71875ee4-1de3-4380-9494-053261c1b7e5\",\"type\":\"LogTicker\"}},\"id\":\"8ce8e99b-2393-45a7-b9a2-c15b9cf42447\",\"type\":\"LogAxis\"},{\"attributes\":{\"callback\":null},\"id\":\"5464867c-ce7d-463a-9f7e-37fa5835590f\",\"type\":\"DataRange1d\"},{\"attributes\":{},\"id\":\"2e913c3c-a96c-4d8b-99a3-dcf16645108d\",\"type\":\"ResetTool\"},{\"attributes\":{},\"id\":\"6c6c7717-33c5-446d-8a3f-49d8394b1fb2\",\"type\":\"PanTool\"},{\"attributes\":{\"num_minor_ticks\":10},\"id\":\"71875ee4-1de3-4380-9494-053261c1b7e5\",\"type\":\"LogTicker\"}],\"root_ids\":[\"8eaf55cb-dcc0-47a7-b221-9943d5c05df1\"]},\"title\":\"Bokeh Application\",\"version\":\"0.12.13\"}};\n",
       "  var render_items = [{\"docid\":\"3456bd35-8c69-4575-9ef9-8acb850e7533\",\"elementid\":\"f1c80f36-3d4f-40f0-b4f1-7e3a6489f4ca\",\"modelid\":\"8eaf55cb-dcc0-47a7-b221-9943d5c05df1\"}];\n",
       "  root.Bokeh.embed.embed_items_notebook(docs_json, render_items);\n",
       "\n",
       "  }\n",
       "  if (root.Bokeh !== undefined) {\n",
       "    embed_document(root);\n",
       "  } else {\n",
       "    var attempts = 0;\n",
       "    var timer = setInterval(function(root) {\n",
       "      if (root.Bokeh !== undefined) {\n",
       "        embed_document(root);\n",
       "        clearInterval(timer);\n",
       "      }\n",
       "      attempts++;\n",
       "      if (attempts > 100) {\n",
       "        console.log(\"Bokeh: ERROR: Unable to run BokehJS code because BokehJS library is missing\")\n",
       "        clearInterval(timer);\n",
       "      }\n",
       "    }, 10, root)\n",
       "  }\n",
       "})(window);"
      ],
      "application/vnd.bokehjs_exec.v0+json": ""
     },
     "metadata": {
      "application/vnd.bokehjs_exec.v0+json": {
       "id": "8eaf55cb-dcc0-47a7-b221-9943d5c05df1"
      }
     },
     "output_type": "display_data"
    }
   ],
   "source": [
    "p = figure(plot_width=400, \n",
    "           plot_height=300, \n",
    "           tools=\"pan,wheel_zoom,box_zoom,reset,crosshair\",\n",
    "           x_axis_type=\"log\",\n",
    "           y_axis_type=\"log\"\n",
    "           \n",
    "          )\n",
    "p.line(data['conc_out'],data['egress'], line_width=2, line_color='red',legend='egress')\n",
    "#p.line('conc_out','reflux', line_width=2, source=source)\n",
    "\n",
    "p.xaxis.axis_label = 'ion concentration (mM)'\n",
    "p.yaxis.axis_label = 'time (us)'\n",
    "show(p)"
   ]
  },
  {
   "cell_type": "code",
   "execution_count": null,
   "metadata": {},
   "outputs": [],
   "source": []
  },
  {
   "cell_type": "code",
   "execution_count": null,
   "metadata": {},
   "outputs": [],
   "source": []
  },
  {
   "cell_type": "code",
   "execution_count": null,
   "metadata": {},
   "outputs": [],
   "source": []
  },
  {
   "cell_type": "code",
   "execution_count": null,
   "metadata": {},
   "outputs": [],
   "source": []
  },
  {
   "cell_type": "code",
   "execution_count": null,
   "metadata": {},
   "outputs": [],
   "source": []
  }
 ],
 "metadata": {
  "kernelspec": {
   "display_name": "Python 2",
   "language": "python",
   "name": "python2"
  },
  "language_info": {
   "codemirror_mode": {
    "name": "ipython",
    "version": 2
   },
   "file_extension": ".py",
   "mimetype": "text/x-python",
   "name": "python",
   "nbconvert_exporter": "python",
   "pygments_lexer": "ipython2",
   "version": "2.7.12"
  }
 },
 "nbformat": 4,
 "nbformat_minor": 2
}
