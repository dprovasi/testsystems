{
 "cells": [
  {
   "cell_type": "code",
   "execution_count": 310,
   "metadata": {},
   "outputs": [],
   "source": [
    "import mdtraj as md\n",
    "import numpy as np\n",
    "import pandas as pd\n",
    "import matplotlib.pyplot as plt\n",
    "import pickle\n",
    "import pyemma\n",
    "\n",
    "import pyemma.plots as mplt"
   ]
  },
  {
   "cell_type": "code",
   "execution_count": 4,
   "metadata": {},
   "outputs": [
    {
     "name": "stdout",
     "output_type": "stream",
     "text": [
      "pyemma is 2.4\n",
      "pickle is 4.0\n"
     ]
    }
   ],
   "source": [
    "print(\"pyemma is %s\"% pyemma.__version__)\n",
    "print(\"pickle is %s\"% pickle.format_version)"
   ]
  },
  {
   "cell_type": "code",
   "execution_count": 159,
   "metadata": {},
   "outputs": [],
   "source": [
    "## load topology\n",
    "basedir = '/sc/orga/projects/filizm02a/work/alex'\n",
    "top = md.load(basedir+u'/production/centered1_no_wat.gro')\n",
    "\n",
    "resseq = np.array([res.resSeq for res in top.topology.residues])\n",
    "dd1 = resseq[1:]-resseq[:-1]!=1\n",
    "\n",
    "chainA_res = np.arange(0,452)\n",
    "chainB_res = np.arange(452,827)\n",
    "chainH_res = np.arange(827, 943)\n",
    "chainL_res = np.arange(943, 1049)\n",
    "ions_res = np.arange(1053,1056)\n",
    "integrin = np.concatenate( ( chainA_res , chainB_res,  ions_res) ) \n",
    "antibody = np.concatenate( ( chainH_res, chainL_res))\n"
   ]
  },
  {
   "cell_type": "code",
   "execution_count": 160,
   "metadata": {},
   "outputs": [
    {
     "data": {
      "text/plain": [
       "['MG', 'CAL', 'CAL']"
      ]
     },
     "execution_count": 160,
     "metadata": {},
     "output_type": "execute_result"
    }
   ],
   "source": [
    "[top.topology.residue(i).name for i in ions_res ]\n",
    "#[ atom.index for atom in top.topology.residue(1).atoms]"
   ]
  },
  {
   "cell_type": "code",
   "execution_count": 179,
   "metadata": {},
   "outputs": [
    {
     "name": "stdout",
     "output_type": "stream",
     "text": [
      "(184260, 2)\n"
     ]
    }
   ],
   "source": [
    "## calc mindist for all residues only on a few frames\n",
    "\n",
    "pairs = np.array([[i,j] for i in antibody for j in integrin])\n",
    "print(pairs.shape)\n",
    "\n",
    "feat0 = pyemma.coordinates.featurizer(top) \n",
    "feat0.add_residue_mindist(residue_pairs=pairs)\n",
    "inp = pyemma.coordinates.source( basedir+u'/production/prod1_no_wat_cluster.xtc' , feat0)\n",
    "dist0 =inp.get_output(stride=10000)[0]"
   ]
  },
  {
   "cell_type": "code",
   "execution_count": 181,
   "metadata": {},
   "outputs": [
    {
     "data": {
      "text/plain": [
       "'RES_DIST (closest-heavy) ILE126 - MG2001'"
      ]
     },
     "execution_count": 181,
     "metadata": {},
     "output_type": "execute_result"
    }
   ],
   "source": [
    "yy=feat0.describe()\n",
    "yy[-3]"
   ]
  },
  {
   "cell_type": "code",
   "execution_count": 184,
   "metadata": {},
   "outputs": [
    {
     "name": "stdout",
     "output_type": "stream",
     "text": [
      "Keeping 300 pairs that are within 0.80 nm of the interface\n"
     ]
    }
   ],
   "source": [
    "cutoff = 0.8\n",
    "keep_pairs = (dist0[0]<cutoff)\n",
    "final_pairs = pairs[keep_pairs,:]\n",
    "print(f'Keeping {keep_pairs.sum()} pairs that are within {cutoff:.2f} nm of the interface')"
   ]
  },
  {
   "cell_type": "code",
   "execution_count": 183,
   "metadata": {},
   "outputs": [
    {
     "data": {
      "application/vnd.jupyter.widget-view+json": {
       "model_id": "9da390ebec3b4de787c7248fd6bf6b74",
       "version_major": 2,
       "version_minor": 0
      },
      "text/plain": [
       "A Jupyter Widget"
      ]
     },
     "metadata": {},
     "output_type": "display_data"
    }
   ],
   "source": [
    "# now recalc distances for all trajs for this set of pairs\n",
    "feat = pyemma.coordinates.featurizer(top) \n",
    "feat.add_residue_mindist(residue_pairs=final_pairs)\n",
    "inp = pyemma.coordinates.source( \n",
    "    [ basedir+u'/production/prod1_no_wat_cluster.xtc',\n",
    "      basedir+u'/production2/prod2_no_wat_cluster.xtc'], feat)\n",
    "dist1 =inp.get_output(stride=10)"
   ]
  },
  {
   "cell_type": "code",
   "execution_count": 326,
   "metadata": {},
   "outputs": [
    {
     "data": {
      "text/plain": [
       "300"
      ]
     },
     "execution_count": 326,
     "metadata": {},
     "output_type": "execute_result"
    }
   ],
   "source": [
    "len(feat.describe())"
   ]
  },
  {
   "cell_type": "code",
   "execution_count": 198,
   "metadata": {},
   "outputs": [],
   "source": [
    "index = pd.MultiIndex.from_tuples(\n",
    "    [(lab.split(' ')[2],lab.split(' ')[4]) for lab in feat.describe()], \n",
    "    names=['lab_ab', 'lab_int'])\n",
    "\n",
    "\n",
    "#labels_antibody = pd.DataFrame([name.split(' ')[2] for name in feat.describe()])\n",
    "#labels_integrin = pd.DataFrame([name.split(' ')[4] for name in feat.describe()])\n"
   ]
  },
  {
   "cell_type": "code",
   "execution_count": 358,
   "metadata": {},
   "outputs": [],
   "source": [
    "cutcontact=.4\n",
    "data1 = pd.DataFrame(dist1[0], columns=index)<cutcontact\n",
    "data2 = pd.DataFrame(dist1[1], columns=index)<cutcontact\n",
    "\n",
    "data1['traj'] = 'traj1'\n",
    "data2['traj'] = 'traj2'\n",
    "dconcat = pd.concat([data1,data2], axis=0) #, keys=['trj1','trj2'],names=['traj'])"
   ]
  },
  {
   "cell_type": "code",
   "execution_count": 359,
   "metadata": {},
   "outputs": [],
   "source": [
    "contact_ave = pd.DataFrame((dconcat<.3).mean())"
   ]
  },
  {
   "cell_type": "code",
   "execution_count": 361,
   "metadata": {},
   "outputs": [
    {
     "name": "stderr",
     "output_type": "stream",
     "text": [
      "/sc/orga/projects/filizm02a/general/software/anaconda/anaconda3_August2018/anaconda3/lib/python3.6/site-packages/pandas/core/generic.py:3111: PerformanceWarning: dropping on a non-lexsorted multi-index without a level parameter may impact performance.\n",
      "  obj = obj._drop_axis(labels, axis, level=level, errors=errors)\n"
     ]
    },
    {
     "data": {
      "text/html": [
       "<div>\n",
       "<style scoped>\n",
       "    .dataframe tbody tr th:only-of-type {\n",
       "        vertical-align: middle;\n",
       "    }\n",
       "\n",
       "    .dataframe tbody tr th {\n",
       "        vertical-align: top;\n",
       "    }\n",
       "\n",
       "    .dataframe thead th {\n",
       "        text-align: right;\n",
       "    }\n",
       "</style>\n",
       "<table border=\"1\" class=\"dataframe\">\n",
       "  <thead>\n",
       "    <tr style=\"text-align: right;\">\n",
       "      <th></th>\n",
       "      <th>traj</th>\n",
       "      <th>traj1</th>\n",
       "      <th>traj2</th>\n",
       "    </tr>\n",
       "    <tr>\n",
       "      <th>lab_ab</th>\n",
       "      <th>lab_int</th>\n",
       "      <th></th>\n",
       "      <th></th>\n",
       "    </tr>\n",
       "  </thead>\n",
       "  <tbody>\n",
       "    <tr>\n",
       "      <th rowspan=\"2\" valign=\"top\">THR35</th>\n",
       "      <th>GLU174</th>\n",
       "      <td>0.000000</td>\n",
       "      <td>0.000000</td>\n",
       "    </tr>\n",
       "    <tr>\n",
       "      <th>THR183</th>\n",
       "      <td>0.000000</td>\n",
       "      <td>0.000000</td>\n",
       "    </tr>\n",
       "    <tr>\n",
       "      <th rowspan=\"5\" valign=\"top\">ASN36</th>\n",
       "      <th>GLU174</th>\n",
       "      <td>0.014493</td>\n",
       "      <td>0.003484</td>\n",
       "    </tr>\n",
       "    <tr>\n",
       "      <th>ASN175</th>\n",
       "      <td>0.000000</td>\n",
       "      <td>0.000000</td>\n",
       "    </tr>\n",
       "    <tr>\n",
       "      <th>THR182</th>\n",
       "      <td>0.000000</td>\n",
       "      <td>0.000000</td>\n",
       "    </tr>\n",
       "    <tr>\n",
       "      <th>THR183</th>\n",
       "      <td>0.978920</td>\n",
       "      <td>0.984901</td>\n",
       "    </tr>\n",
       "    <tr>\n",
       "      <th>CYS184</th>\n",
       "      <td>0.000000</td>\n",
       "      <td>0.000000</td>\n",
       "    </tr>\n",
       "    <tr>\n",
       "      <th rowspan=\"4\" valign=\"top\">TYR37</th>\n",
       "      <th>ASN175</th>\n",
       "      <td>0.000000</td>\n",
       "      <td>0.000000</td>\n",
       "    </tr>\n",
       "    <tr>\n",
       "      <th>LYS181</th>\n",
       "      <td>0.000000</td>\n",
       "      <td>0.000000</td>\n",
       "    </tr>\n",
       "    <tr>\n",
       "      <th>THR182</th>\n",
       "      <td>0.000000</td>\n",
       "      <td>0.000000</td>\n",
       "    </tr>\n",
       "    <tr>\n",
       "      <th>THR183</th>\n",
       "      <td>0.753623</td>\n",
       "      <td>0.696864</td>\n",
       "    </tr>\n",
       "    <tr>\n",
       "      <th rowspan=\"12\" valign=\"top\">TRP38</th>\n",
       "      <th>GLU171</th>\n",
       "      <td>0.000000</td>\n",
       "      <td>0.000000</td>\n",
       "    </tr>\n",
       "    <tr>\n",
       "      <th>ALA172</th>\n",
       "      <td>0.000000</td>\n",
       "      <td>0.000000</td>\n",
       "    </tr>\n",
       "    <tr>\n",
       "      <th>GLU174</th>\n",
       "      <td>0.000000</td>\n",
       "      <td>0.000000</td>\n",
       "    </tr>\n",
       "    <tr>\n",
       "      <th>ASN175</th>\n",
       "      <td>0.475626</td>\n",
       "      <td>0.501742</td>\n",
       "    </tr>\n",
       "    <tr>\n",
       "      <th>CYS177</th>\n",
       "      <td>0.000000</td>\n",
       "      <td>0.000000</td>\n",
       "    </tr>\n",
       "    <tr>\n",
       "      <th>TYR178</th>\n",
       "      <td>0.849802</td>\n",
       "      <td>0.642276</td>\n",
       "    </tr>\n",
       "    <tr>\n",
       "      <th>ASP179</th>\n",
       "      <td>0.000000</td>\n",
       "      <td>0.000000</td>\n",
       "    </tr>\n",
       "    <tr>\n",
       "      <th>MET180</th>\n",
       "      <td>0.000000</td>\n",
       "      <td>0.000000</td>\n",
       "    </tr>\n",
       "    <tr>\n",
       "      <th>LYS181</th>\n",
       "      <td>1.000000</td>\n",
       "      <td>0.998839</td>\n",
       "    </tr>\n",
       "    <tr>\n",
       "      <th>THR182</th>\n",
       "      <td>0.910408</td>\n",
       "      <td>0.910569</td>\n",
       "    </tr>\n",
       "    <tr>\n",
       "      <th>THR183</th>\n",
       "      <td>0.383399</td>\n",
       "      <td>0.486643</td>\n",
       "    </tr>\n",
       "    <tr>\n",
       "      <th>CYS184</th>\n",
       "      <td>0.000000</td>\n",
       "      <td>0.000000</td>\n",
       "    </tr>\n",
       "    <tr>\n",
       "      <th rowspan=\"3\" valign=\"top\">MET39</th>\n",
       "      <th>LYS181</th>\n",
       "      <td>0.000000</td>\n",
       "      <td>0.000000</td>\n",
       "    </tr>\n",
       "    <tr>\n",
       "      <th>THR182</th>\n",
       "      <td>0.000000</td>\n",
       "      <td>0.000000</td>\n",
       "    </tr>\n",
       "    <tr>\n",
       "      <th>THR183</th>\n",
       "      <td>0.000000</td>\n",
       "      <td>0.000000</td>\n",
       "    </tr>\n",
       "    <tr>\n",
       "      <th rowspan=\"4\" valign=\"top\">HIS40</th>\n",
       "      <th>CYS177</th>\n",
       "      <td>0.000000</td>\n",
       "      <td>0.000000</td>\n",
       "    </tr>\n",
       "    <tr>\n",
       "      <th>TYR178</th>\n",
       "      <td>0.000000</td>\n",
       "      <td>0.000000</td>\n",
       "    </tr>\n",
       "    <tr>\n",
       "      <th>MET180</th>\n",
       "      <td>0.000000</td>\n",
       "      <td>0.000000</td>\n",
       "    </tr>\n",
       "    <tr>\n",
       "      <th>LYS181</th>\n",
       "      <td>1.000000</td>\n",
       "      <td>1.000000</td>\n",
       "    </tr>\n",
       "    <tr>\n",
       "      <th>...</th>\n",
       "      <th>...</th>\n",
       "      <td>...</td>\n",
       "      <td>...</td>\n",
       "    </tr>\n",
       "    <tr>\n",
       "      <th>SER109</th>\n",
       "      <th>ARG214</th>\n",
       "      <td>0.000000</td>\n",
       "      <td>0.000000</td>\n",
       "    </tr>\n",
       "    <tr>\n",
       "      <th rowspan=\"13\" valign=\"top\">TRP114</th>\n",
       "      <th>ARG153</th>\n",
       "      <td>0.000000</td>\n",
       "      <td>0.000000</td>\n",
       "    </tr>\n",
       "    <tr>\n",
       "      <th>VAL156</th>\n",
       "      <td>0.006588</td>\n",
       "      <td>0.022067</td>\n",
       "    </tr>\n",
       "    <tr>\n",
       "      <th>GLU157</th>\n",
       "      <td>0.009223</td>\n",
       "      <td>0.002323</td>\n",
       "    </tr>\n",
       "    <tr>\n",
       "      <th>ASP159</th>\n",
       "      <td>0.000000</td>\n",
       "      <td>0.000000</td>\n",
       "    </tr>\n",
       "    <tr>\n",
       "      <th>PHE160</th>\n",
       "      <td>0.000000</td>\n",
       "      <td>0.000000</td>\n",
       "    </tr>\n",
       "    <tr>\n",
       "      <th>TYR122</th>\n",
       "      <td>0.000000</td>\n",
       "      <td>0.000000</td>\n",
       "    </tr>\n",
       "    <tr>\n",
       "      <th>CYS177</th>\n",
       "      <td>0.000000</td>\n",
       "      <td>0.000000</td>\n",
       "    </tr>\n",
       "    <tr>\n",
       "      <th>TYR178</th>\n",
       "      <td>0.000000</td>\n",
       "      <td>0.000000</td>\n",
       "    </tr>\n",
       "    <tr>\n",
       "      <th>ASP179</th>\n",
       "      <td>0.335968</td>\n",
       "      <td>0.484321</td>\n",
       "    </tr>\n",
       "    <tr>\n",
       "      <th>MET180</th>\n",
       "      <td>0.570487</td>\n",
       "      <td>0.555168</td>\n",
       "    </tr>\n",
       "    <tr>\n",
       "      <th>LYS181</th>\n",
       "      <td>0.969697</td>\n",
       "      <td>0.963995</td>\n",
       "    </tr>\n",
       "    <tr>\n",
       "      <th>THR182</th>\n",
       "      <td>0.000000</td>\n",
       "      <td>0.000000</td>\n",
       "    </tr>\n",
       "    <tr>\n",
       "      <th>ARG214</th>\n",
       "      <td>0.000000</td>\n",
       "      <td>0.000000</td>\n",
       "    </tr>\n",
       "    <tr>\n",
       "      <th rowspan=\"6\" valign=\"top\">PRO115</th>\n",
       "      <th>ARG153</th>\n",
       "      <td>0.000000</td>\n",
       "      <td>0.000000</td>\n",
       "    </tr>\n",
       "    <tr>\n",
       "      <th>VAL156</th>\n",
       "      <td>0.000000</td>\n",
       "      <td>0.000000</td>\n",
       "    </tr>\n",
       "    <tr>\n",
       "      <th>GLU157</th>\n",
       "      <td>0.001318</td>\n",
       "      <td>0.009292</td>\n",
       "    </tr>\n",
       "    <tr>\n",
       "      <th>ASP179</th>\n",
       "      <td>0.000000</td>\n",
       "      <td>0.000000</td>\n",
       "    </tr>\n",
       "    <tr>\n",
       "      <th>MET180</th>\n",
       "      <td>0.000000</td>\n",
       "      <td>0.000000</td>\n",
       "    </tr>\n",
       "    <tr>\n",
       "      <th>LYS181</th>\n",
       "      <td>0.000000</td>\n",
       "      <td>0.000000</td>\n",
       "    </tr>\n",
       "    <tr>\n",
       "      <th rowspan=\"9\" valign=\"top\">TYR116</th>\n",
       "      <th>TYR122</th>\n",
       "      <td>0.052701</td>\n",
       "      <td>0.012776</td>\n",
       "    </tr>\n",
       "    <tr>\n",
       "      <th>LYS125</th>\n",
       "      <td>0.000000</td>\n",
       "      <td>0.000000</td>\n",
       "    </tr>\n",
       "    <tr>\n",
       "      <th>CYS177</th>\n",
       "      <td>0.000000</td>\n",
       "      <td>0.000000</td>\n",
       "    </tr>\n",
       "    <tr>\n",
       "      <th>TYR178</th>\n",
       "      <td>0.000000</td>\n",
       "      <td>0.000000</td>\n",
       "    </tr>\n",
       "    <tr>\n",
       "      <th>ASP179</th>\n",
       "      <td>0.000000</td>\n",
       "      <td>0.000000</td>\n",
       "    </tr>\n",
       "    <tr>\n",
       "      <th>MET180</th>\n",
       "      <td>1.000000</td>\n",
       "      <td>1.000000</td>\n",
       "    </tr>\n",
       "    <tr>\n",
       "      <th>LYS181</th>\n",
       "      <td>0.001318</td>\n",
       "      <td>0.000000</td>\n",
       "    </tr>\n",
       "    <tr>\n",
       "      <th>THR182</th>\n",
       "      <td>0.830040</td>\n",
       "      <td>0.687573</td>\n",
       "    </tr>\n",
       "    <tr>\n",
       "      <th>THR183</th>\n",
       "      <td>0.000000</td>\n",
       "      <td>0.000000</td>\n",
       "    </tr>\n",
       "    <tr>\n",
       "      <th>THR117</th>\n",
       "      <th>GLU157</th>\n",
       "      <td>0.000000</td>\n",
       "      <td>0.000000</td>\n",
       "    </tr>\n",
       "  </tbody>\n",
       "</table>\n",
       "<p>300 rows × 2 columns</p>\n",
       "</div>"
      ],
      "text/plain": [
       "traj               traj1     traj2\n",
       "lab_ab lab_int                    \n",
       "THR35  GLU174   0.000000  0.000000\n",
       "       THR183   0.000000  0.000000\n",
       "ASN36  GLU174   0.014493  0.003484\n",
       "       ASN175   0.000000  0.000000\n",
       "       THR182   0.000000  0.000000\n",
       "       THR183   0.978920  0.984901\n",
       "       CYS184   0.000000  0.000000\n",
       "TYR37  ASN175   0.000000  0.000000\n",
       "       LYS181   0.000000  0.000000\n",
       "       THR182   0.000000  0.000000\n",
       "       THR183   0.753623  0.696864\n",
       "TRP38  GLU171   0.000000  0.000000\n",
       "       ALA172   0.000000  0.000000\n",
       "       GLU174   0.000000  0.000000\n",
       "       ASN175   0.475626  0.501742\n",
       "       CYS177   0.000000  0.000000\n",
       "       TYR178   0.849802  0.642276\n",
       "       ASP179   0.000000  0.000000\n",
       "       MET180   0.000000  0.000000\n",
       "       LYS181   1.000000  0.998839\n",
       "       THR182   0.910408  0.910569\n",
       "       THR183   0.383399  0.486643\n",
       "       CYS184   0.000000  0.000000\n",
       "MET39  LYS181   0.000000  0.000000\n",
       "       THR182   0.000000  0.000000\n",
       "       THR183   0.000000  0.000000\n",
       "HIS40  CYS177   0.000000  0.000000\n",
       "       TYR178   0.000000  0.000000\n",
       "       MET180   0.000000  0.000000\n",
       "       LYS181   1.000000  1.000000\n",
       "...                  ...       ...\n",
       "SER109 ARG214   0.000000  0.000000\n",
       "TRP114 ARG153   0.000000  0.000000\n",
       "       VAL156   0.006588  0.022067\n",
       "       GLU157   0.009223  0.002323\n",
       "       ASP159   0.000000  0.000000\n",
       "       PHE160   0.000000  0.000000\n",
       "       TYR122   0.000000  0.000000\n",
       "       CYS177   0.000000  0.000000\n",
       "       TYR178   0.000000  0.000000\n",
       "       ASP179   0.335968  0.484321\n",
       "       MET180   0.570487  0.555168\n",
       "       LYS181   0.969697  0.963995\n",
       "       THR182   0.000000  0.000000\n",
       "       ARG214   0.000000  0.000000\n",
       "PRO115 ARG153   0.000000  0.000000\n",
       "       VAL156   0.000000  0.000000\n",
       "       GLU157   0.001318  0.009292\n",
       "       ASP179   0.000000  0.000000\n",
       "       MET180   0.000000  0.000000\n",
       "       LYS181   0.000000  0.000000\n",
       "TYR116 TYR122   0.052701  0.012776\n",
       "       LYS125   0.000000  0.000000\n",
       "       CYS177   0.000000  0.000000\n",
       "       TYR178   0.000000  0.000000\n",
       "       ASP179   0.000000  0.000000\n",
       "       MET180   1.000000  1.000000\n",
       "       LYS181   0.001318  0.000000\n",
       "       THR182   0.830040  0.687573\n",
       "       THR183   0.000000  0.000000\n",
       "THR117 GLU157   0.000000  0.000000\n",
       "\n",
       "[300 rows x 2 columns]"
      ]
     },
     "execution_count": 361,
     "metadata": {},
     "output_type": "execute_result"
    }
   ],
   "source": [
    "(dconcat).groupby('traj').mean().transpose()"
   ]
  },
  {
   "cell_type": "code",
   "execution_count": 367,
   "metadata": {},
   "outputs": [
    {
     "data": {
      "text/plain": [
       "lab_ab  lab_int\n",
       "ASN36   THR183     0.982099\n",
       "TYR37   THR183     0.723457\n",
       "TRP38   TYR178     0.739506\n",
       "        LYS181     0.999383\n",
       "        THR182     0.910494\n",
       "HIS40   LYS181     1.000000\n",
       "ASP64   TYR178     0.800000\n",
       "SER66   LYS181     0.908642\n",
       "TYR107  THR182     0.959259\n",
       "        THR183     0.998765\n",
       "TYR110  TRP129     0.709877\n",
       "TYR113  TYR122     0.867284\n",
       "        THR183     0.998765\n",
       "        CYS184     0.840123\n",
       "        VAL212     0.770370\n",
       "ARG27   ASP159     0.948765\n",
       "ASN37   ASP126     0.878395\n",
       "        MET335     0.872222\n",
       "ASN38   LYS125     0.915432\n",
       "TYR56   LYS125     0.975309\n",
       "        ASP126     0.867901\n",
       "GLN66   ASP126     0.753086\n",
       "        TRP129     0.737037\n",
       "ASN108  MET180     0.877160\n",
       "TRP114  LYS181     0.966667\n",
       "TYR116  MET180     1.000000\n",
       "        THR182     0.754321\n",
       "dtype: float64"
      ]
     },
     "execution_count": 367,
     "metadata": {},
     "output_type": "execute_result"
    }
   ],
   "source": [
    "high_freq = (dconcat).mean().transpose()>.7\n",
    "(dconcat).mean().transpose()[high_freq]"
   ]
  },
  {
   "cell_type": "code",
   "execution_count": null,
   "metadata": {},
   "outputs": [],
   "source": []
  },
  {
   "cell_type": "code",
   "execution_count": null,
   "metadata": {},
   "outputs": [],
   "source": []
  },
  {
   "cell_type": "code",
   "execution_count": 266,
   "metadata": {},
   "outputs": [
    {
     "data": {
      "text/plain": [
       "lab_ab\n",
       "SER36    0.003484\n",
       "ASN37    0.068525\n",
       "ASN38    0.000000\n",
       "TYR56    0.000000\n",
       "GLN66    0.000000\n",
       "dtype: float64"
      ]
     },
     "execution_count": 266,
     "metadata": {},
     "output_type": "execute_result"
    }
   ],
   "source": [
    "(data2.xs('CAL2002', level='lab_int', axis=1)<.4).mean()"
   ]
  },
  {
   "cell_type": "code",
   "execution_count": null,
   "metadata": {},
   "outputs": [],
   "source": []
  },
  {
   "cell_type": "code",
   "execution_count": null,
   "metadata": {},
   "outputs": [],
   "source": []
  },
  {
   "cell_type": "code",
   "execution_count": 329,
   "metadata": {},
   "outputs": [
    {
     "data": {
      "text/plain": [
       "1620"
      ]
     },
     "execution_count": 329,
     "metadata": {},
     "output_type": "execute_result"
    }
   ],
   "source": [
    "data1.shape[0] + data2.shape[0]"
   ]
  },
  {
   "cell_type": "code",
   "execution_count": 308,
   "metadata": {},
   "outputs": [],
   "source": [
    "pca_obj = pyemma.coordinates.pca(dist1, dim=2)\n",
    "pca1=pca_obj.get_output() "
   ]
  },
  {
   "cell_type": "code",
   "execution_count": 312,
   "metadata": {},
   "outputs": [
    {
     "data": {
      "application/vnd.jupyter.widget-view+json": {
       "model_id": "987a2212905d4fb29e133cebb4c121f9",
       "version_major": 2,
       "version_minor": 0
      },
      "text/plain": [
       "A Jupyter Widget"
      ]
     },
     "metadata": {},
     "output_type": "display_data"
    },
    {
     "data": {
      "application/vnd.jupyter.widget-view+json": {
       "model_id": "51655eb418a3486396acfab8e4665466",
       "version_major": 2,
       "version_minor": 0
      },
      "text/plain": [
       "A Jupyter Widget"
      ]
     },
     "metadata": {},
     "output_type": "display_data"
    },
    {
     "name": "stdout",
     "output_type": "stream",
     "text": [
      "19-11-18 17:51:22 pyemma.coordinates.clustering.kmeans.KmeansClustering[14] INFO     Cluster centers converged after 10 steps.\n"
     ]
    }
   ],
   "source": [
    "clustering = pyemma.coordinates.cluster_kmeans(pca1,k=100)"
   ]
  },
  {
   "cell_type": "code",
   "execution_count": 314,
   "metadata": {},
   "outputs": [
    {
     "data": {
      "application/vnd.jupyter.widget-view+json": {
       "model_id": "b8bec7093bf64a23b60063bbd79dc266",
       "version_major": 2,
       "version_minor": 0
      },
      "text/plain": [
       "A Jupyter Widget"
      ]
     },
     "metadata": {},
     "output_type": "display_data"
    },
    {
     "data": {
      "application/vnd.jupyter.widget-view+json": {
       "model_id": "06c917eb2dbb4841be27958224a0e9e5",
       "version_major": 2,
       "version_minor": 0
      },
      "text/plain": [
       "A Jupyter Widget"
      ]
     },
     "metadata": {},
     "output_type": "display_data"
    },
    {
     "data": {
      "application/vnd.jupyter.widget-view+json": {
       "model_id": "09eb4552351f4afea035d5394155d1a6",
       "version_major": 2,
       "version_minor": 0
      },
      "text/plain": [
       "A Jupyter Widget"
      ]
     },
     "metadata": {},
     "output_type": "display_data"
    },
    {
     "data": {
      "application/vnd.jupyter.widget-view+json": {
       "model_id": "f74be8a28be84a51a7c0f98e98145edb",
       "version_major": 2,
       "version_minor": 0
      },
      "text/plain": [
       "A Jupyter Widget"
      ]
     },
     "metadata": {},
     "output_type": "display_data"
    },
    {
     "data": {
      "application/vnd.jupyter.widget-view+json": {
       "model_id": "8f36249659c9463f9ad10075a97c82d1",
       "version_major": 2,
       "version_minor": 0
      },
      "text/plain": [
       "A Jupyter Widget"
      ]
     },
     "metadata": {},
     "output_type": "display_data"
    },
    {
     "data": {
      "application/vnd.jupyter.widget-view+json": {
       "model_id": "6112ced951064889bc819d3e4dae78b3",
       "version_major": 2,
       "version_minor": 0
      },
      "text/plain": [
       "A Jupyter Widget"
      ]
     },
     "metadata": {},
     "output_type": "display_data"
    }
   ],
   "source": [
    "dtrajs = clustering.dtrajs\n",
    "its = pyemma.msm.timescales_msm(dtrajs, lags=10, nits=10, errors='bayes', n_jobs=-1)"
   ]
  },
  {
   "cell_type": "code",
   "execution_count": 339,
   "metadata": {},
   "outputs": [
    {
     "data": {
      "image/png": "[encoded data removed]",
      "text/plain": [
       "<Figure size 432x288 with 1 Axes>"
      ]
     },
     "metadata": {},
     "output_type": "display_data"
    }
   ],
   "source": [
    "#plt.plot(pca1[0][:,0],pca1[0][:,1])\n",
    "\n",
    "cc_x = clustering.clustercenters[:,0]\n",
    "cc_y = clustering.clustercenters[:,1]\n",
    "\n",
    "M = pyemma.msm.estimate_markov_model(dtrajs, 10)\n",
    "n_sets = 4\n",
    "M.pcca(n_sets)\n",
    "pcca_dist = M.metastable_distributions\n",
    "membership = M.metastable_memberships  # get PCCA memberships\n",
    "\n",
    "for i in range(n_sets):\n",
    "    sset=np.where(M.metastable_assignments==i)[0]\n",
    "    plt.plot(cc_x[sset],cc_y[sset],label='%d'%i,linewidth=1, marker='o')\n",
    "plt.legend()\n",
    "plt.show()"
   ]
  },
  {
   "cell_type": "code",
   "execution_count": 350,
   "metadata": {},
   "outputs": [
    {
     "data": {
      "image/png": "[encoded data removed]",
      "text/plain": [
       "<Figure size 432x288 with 1 Axes>"
      ]
     },
     "metadata": {},
     "output_type": "display_data"
    }
   ],
   "source": [
    "pcca_traj = np.concatenate([M.metastable_assignments[dtraj]  for dtraj in dtrajs])\n",
    "\n",
    "for i in range(n_sets):\n",
    "    sset=np.where(pcca_traj==i)[0]\n",
    "    plt.plot(sset,0*sset+i,label='%d'%i,linewidth=0, marker='o')\n",
    "plt.legend()\n",
    "plt.axvline(x=data1.shape[0],color='gray')\n",
    "plt.show()"
   ]
  },
  {
   "cell_type": "code",
   "execution_count": 368,
   "metadata": {},
   "outputs": [
    {
     "data": {
      "text/plain": [
       "cluster\n",
       "0    0.218519\n",
       "1    0.541358\n",
       "2    0.118519\n",
       "3    0.121605\n",
       "dtype: float64"
      ]
     },
     "execution_count": 368,
     "metadata": {},
     "output_type": "execute_result"
    }
   ],
   "source": [
    "df=pd.DataFrame({'cluster':pcca_traj})\n",
    "df.groupby('cluster').size()/len(df)"
   ]
  },
  {
   "cell_type": "code",
   "execution_count": 369,
   "metadata": {},
   "outputs": [],
   "source": [
    "pcca_samples = M.sample_by_distributions(pcca_dist, 10)"
   ]
  },
  {
   "cell_type": "code",
   "execution_count": 372,
   "metadata": {},
   "outputs": [],
   "source": [
    "names = [f'interface_cluster{i}.xtc' for i in range(n_sets)]\n",
    "if True:\n",
    "    pyemma.coordinates.save_trajs(inp, pcca_samples, outfiles=names)"
   ]
  },
  {
   "cell_type": "code",
   "execution_count": 371,
   "metadata": {},
   "outputs": [
    {
     "data": {
      "text/plain": [
       "['interface_cluster0.xtc',\n",
       " 'interface_cluster1.xtc',\n",
       " 'interface_cluster2.xtc',\n",
       " 'interface_cluster3.xtc']"
      ]
     },
     "execution_count": 371,
     "metadata": {},
     "output_type": "execute_result"
    }
   ],
   "source": [
    "names"
   ]
  },
  {
   "cell_type": "code",
   "execution_count": null,
   "metadata": {},
   "outputs": [],
   "source": []
  }
 ],
 "metadata": {
  "kernelspec": {
   "display_name": "Python 3",
   "language": "python",
   "name": "python3"
  },
  "language_info": {
   "codemirror_mode": {
    "name": "ipython",
    "version": 3
   },
   "file_extension": ".py",
   "mimetype": "text/x-python",
   "name": "python",
   "nbconvert_exporter": "python",
   "pygments_lexer": "ipython3",
   "version": "3.6.5"
  },
  "toc": {
   "base_numbering": 1,
   "nav_menu": {},
   "number_sections": true,
   "sideBar": true,
   "skip_h1_title": false,
   "title_cell": "Table of Contents",
   "title_sidebar": "Contents",
   "toc_cell": false,
   "toc_position": {},
   "toc_section_display": true,
   "toc_window_display": false
  }
 },
 "nbformat": 4,
 "nbformat_minor": 2
}
