{
 "cells": [
  {
   "cell_type": "code",
   "execution_count": 793,
   "metadata": {
    "collapsed": true
   },
   "outputs": [],
   "source": [
    "import numpy as np\n",
    "import warnings\n",
    "warnings.filterwarnings(\"ignore\")"
   ]
  },
  {
   "cell_type": "code",
   "execution_count": 794,
   "metadata": {
    "collapsed": false
   },
   "outputs": [],
   "source": [
    "def islinspace(a,tol=1e-12): \n",
    "    \"\"\"check that a vector is linearly spaced\"\"\"\n",
    "    diffs = abs(a-np.linspace(min(a),max(a),len(a)))<tol\n",
    "    if not np.all(diffs):\n",
    "            print(a-np.linspace(min(a),max(a),len(a)))\n",
    "    return np.all(diffs)\n",
    "\n",
    "class free_energy(object):\n",
    "    \"\"\"\n",
    "    free-energy for arbirary dimensions\n",
    "    \"\"\"\n",
    "    \n",
    "    def read(self, filename=None, table=None, kT=1):\n",
    "        \"\"\"\n",
    "        reads a file with cv1 cv2 cv3 ... fes\n",
    "        or uses a table in the same format\n",
    "        \"\"\"\n",
    "        ## read file, id dimensions, identify values of colvars \n",
    "        ## check that they conform to standard format\n",
    "        ## reshape fes to array (n1,n2,n3, ...)\n",
    "        assert filename or table\n",
    "        if not filename==None:\n",
    "            tt = np.loadtxt(filename)\n",
    "        elif not table==None:\n",
    "            tt = np.array(table)\n",
    "            \n",
    "        nvars = (tt.shape)[1] - 1\n",
    "        edges_ = [np.unique(tt[:,i]) for i in range(nvars)]\n",
    "        nbins_ = [len(edge) for edge in edges_]\n",
    "\n",
    "        for edge in edges_:\n",
    "            assert islinspace(edge)\n",
    "        fes_ = (tt[:,nvars]).reshape(*nbins_)\n",
    "        bin_sizes = np.array([edge[1]-edge[0] for edge in edges_])\n",
    "        bin_volume = bin_sizes.prod()\n",
    "        \n",
    "        self.dim = nvars\n",
    "        self.fes = fes_\n",
    "        self.volume = bin_volume\n",
    "        self.edges = edges_\n",
    "        #calculates the normalised probability from fes\n",
    "        # note that normalisation is prob.sum()*self.volume = 1\n",
    "        f0 = -(self.fes)/kT\n",
    "        f0max = f0.max()\n",
    "        f1 = f0 - f0max\n",
    "        p0 = (np.exp(f1))\n",
    "        p1 = p0/(p0.sum()*self.volume)\n",
    "        self.prob = p1\n",
    "        self.kT = kT\n",
    "        self.describe()\n",
    "\n",
    "    def describe(self):\n",
    "        print(\"free-energy has %d dimensions\"%self.dim)\n",
    "        print(\"binning of free-energy: %s\"%str(self.fes.shape))\n",
    "        print(\"bin volume: %f\"%self.volume)\n",
    "        nor = (self.prob).sum()*self.volume\n",
    "        print(\"nomalization: %f\"%nor )\n",
    "        assert np.abs(nor-1.0) < 1e-8\n",
    "        \n",
    "    def H(self):\n",
    "        ## mask and calculate entropy\n",
    "        sum1 =  -(np.ma.log(self.prob)*self.prob).sum()\n",
    "        return(sum1*self.volume)\n",
    "    \n",
    "    def marginalise(self,setvars):\n",
    "        \"\"\"\n",
    "        marginal on set of variables\n",
    "        the order of setvars does not count anywhere,\n",
    "        order in original fes is preserved\n",
    "        \"\"\"\n",
    "        setvars.sort()\n",
    "        nvars = len(setvars)\n",
    "        bin_volume = self.volume\n",
    "        new_edges = [self.edges[i] for i in setvars]\n",
    "        old_bin_sizes = np.array([edge[1]-edge[0] for edge in self.edges])\n",
    "        \n",
    "        integration_vars = np.setdiff1d(range(self.dim),setvars)\n",
    "        bin_integration_vol = [old_bin_sizes[i] for i in integration_vars]\n",
    "        bin_integration_vol = np.array(bin_integration_vol).prod()\n",
    "        new_bin_vol = self.volume/bin_integration_vol\n",
    "        prob_ = (self.prob).sum(axis=tuple(integration_vars))*bin_integration_vol\n",
    "        \n",
    "        fes_ = (self.kT)*np.log(prob_)\n",
    "        fmarg = free_energy()\n",
    "        fmarg.dim = nvars\n",
    "        fmarg.fes = fes_\n",
    "        fmarg.prob = prob_\n",
    "        fmarg.volume = new_bin_vol\n",
    "        fmarg.edges = new_edges\n",
    "        return fmarg"
   ]
  },
  {
   "cell_type": "markdown",
   "metadata": {},
   "source": [
    "### define some information measures"
   ]
  },
  {
   "cell_type": "code",
   "execution_count": 808,
   "metadata": {
    "collapsed": true
   },
   "outputs": [],
   "source": [
    "def conditional_entropy(fes, set1, set2):\n",
    "    #H(set1|set2) = H(set1, set2) - H(set2)\n",
    "    #print(set2)\n",
    "    f1 = fes.marginalise(set2)\n",
    "    f2 = fes.marginalise(np.union1d(set1,set2))\n",
    "    centropy = f2.H() - f1.H()\n",
    "    return centropy\n",
    "\n",
    "def MI(fes, set1, set2):\n",
    "    f1=fes.marginalise(set1) \n",
    "    f2=fes.marginalise(set2)\n",
    "    f3 = fes.marginalise(np.union1d(set1,set2))\n",
    "    mi = f1.H() + f2.H() - f3.H()\n",
    "    return mi\n",
    "\n",
    "def CI(fes,set1,set2,set3):\n",
    "    \"\"\"\n",
    "    calculates the 3-body co-infirmation \n",
    "    \"\"\"\n",
    "    # mutual info - conditional mutual info\n",
    "    i2 = MI(fes,set1,set2)\n",
    "    i2c = conditional_entropy(fes, set1, set3) + \\\n",
    "        conditional_entropy(fes, set2, set3) - \\\n",
    "        conditional_entropy(fes, np.union1d(set1,set2), set3) \n",
    "    return i2 - i2c"
   ]
  },
  {
   "cell_type": "markdown",
   "metadata": {},
   "source": [
    "### generate multinormal free-energy for testing"
   ]
  },
  {
   "cell_type": "code",
   "execution_count": 809,
   "metadata": {
    "collapsed": false
   },
   "outputs": [],
   "source": [
    "def multinormal(cov_,nsample_=10000,nbins_=10):\n",
    "    ### generate a sample gaussian multivariate free-energy\n",
    "    #cov_ = np.array([[10,1,1],[4,5,2],[1,2,8]])\n",
    "    mean_ = 0.0*np.diag(cov_)\n",
    "    pts = np.random.multivariate_normal(mean_,cov_,nsample_);\n",
    "    probs, edges = np.histogramdd(pts, bins=nbins_)\n",
    "\n",
    "    # calculate bin volume and normalise prob\n",
    "    bin_sizes = np.array([edge[1]-edge[0] for edge in edges])\n",
    "    bin_volume = bin_sizes.prod()\n",
    "    probs = probs/(probs.sum()*bin_volume)\n",
    "\n",
    "    # calculate free-energy (kT units)\n",
    "    fes_ = ((-1)*np.log(probs))\n",
    "    it = np.nditer(fes_, flags=['multi_index'])\n",
    "    tab = []\n",
    "    while not it.finished:\n",
    "        #print(it.multi_index, fes_[it.multi_index])\n",
    "        ind = it.multi_index\n",
    "        pos = [edge[ind[i]] for i,edge in enumerate(edges)] \n",
    "        tab.append(pos + [fes_[ind]])\n",
    "        it.iternext()\n",
    "    #np.savetxt('fes1',tab)\n",
    "    return tab\n",
    "\n",
    "def gaussian_entropy(cov_):\n",
    "    \"\"\"\n",
    "    calculates gaussian entropy for a given correlation matrix\n",
    "    \"\"\"\n",
    "    if isinstance(cov_,np.ndarray):\n",
    "        det = np.linalg.det(cov_)\n",
    "        k = cov_.shape[0]\n",
    "    else: #for some reason numpy does not calc dets of 1d matrix\n",
    "        det = cov_\n",
    "        k= 1\n",
    "    return(0.5*np.log(det*(2*np.pi*np.exp(1))**k))\n"
   ]
  },
  {
   "cell_type": "markdown",
   "metadata": {},
   "source": [
    "### TEST (1) calculate entropy for a 2D normal and compare with exact value"
   ]
  },
  {
   "cell_type": "code",
   "execution_count": 796,
   "metadata": {
    "collapsed": false
   },
   "outputs": [
    {
     "name": "stdout",
     "output_type": "stream",
     "text": [
      "free-energy has 2 dimensions\n",
      "binning of free-energy: (50, 50)\n",
      "bin volume: 0.143793\n",
      "nomalization: 1.000000\n"
     ]
    }
   ],
   "source": [
    "## genrate sample free-energy for testing\n",
    "cov_ = np.array([[10,0],[0,2]])\n",
    "np.linalg.matrix_rank(cov_)\n",
    "tab1 = multinormal(cov_,nsample_=300000,nbins_=50)\n",
    "\n",
    "f0 =free_energy()\n",
    "f0.read(table=tab1)\n",
    "\n",
    "# or read from file: np.savetxt('fes1',tab1); f0.read('fes1')"
   ]
  },
  {
   "cell_type": "code",
   "execution_count": 797,
   "metadata": {
    "collapsed": false
   },
   "outputs": [
    {
     "name": "stdout",
     "output_type": "stream",
     "text": [
      "numerical entropy: 4.333674\n",
      "theoretical entropy for gaussian 4.335743\n"
     ]
    }
   ],
   "source": [
    "print(\"numerical entropy: %f\"% f0.H())\n",
    "print(\"theoretical entropy for gaussian %f\" % gaussian_entropy(cov_))"
   ]
  },
  {
   "cell_type": "markdown",
   "metadata": {},
   "source": [
    "### TEST (2), calculate marginal distribution and calculate entropy"
   ]
  },
  {
   "cell_type": "code",
   "execution_count": 798,
   "metadata": {
    "collapsed": false
   },
   "outputs": [
    {
     "name": "stdout",
     "output_type": "stream",
     "text": [
      "free-energy has 1 dimensions\n",
      "binning of free-energy: (50,)\n",
      "bin volume: 0.565828\n",
      "nomalization: 1.000000\n"
     ]
    }
   ],
   "source": [
    "## keep only variable 0\n",
    "f1 = f0.marginalise([0])\n",
    "f1.describe()"
   ]
  },
  {
   "cell_type": "code",
   "execution_count": 800,
   "metadata": {
    "collapsed": false
   },
   "outputs": [
    {
     "data": {
      "image/png": "[encoded data removed]",
      "text/plain": [
       "<matplotlib.figure.Figure at 0x7f3f7c2a3cc0>"
      ]
     },
     "metadata": {},
     "output_type": "display_data"
    }
   ],
   "source": [
    "import matplotlib.pyplot as plt\n",
    "plt.plot(f1.edges[0],np.exp(f1.fes),marker='o', label='from fes')\n",
    "plt.plot(f1.edges[0],f1.prob,label='from prob')\n",
    "\n",
    "theo_prob = np.exp(-(f1.edges[0])**2/(2*10))/sum(np.exp(-(f1.edges[0])**2/(2*10)))/f1.volume\n",
    "plt.plot(f1.edges[0], theo_prob,label='teor')\n",
    "plt.legend()\n",
    "plt.grid()\n",
    "plt.show()"
   ]
  },
  {
   "cell_type": "code",
   "execution_count": 801,
   "metadata": {
    "collapsed": false
   },
   "outputs": [
    {
     "name": "stdout",
     "output_type": "stream",
     "text": [
      "theo sum:  2.5701360853\n",
      "theor:     2.5702310797\n",
      "sum:       2.57056375488\n",
      "method:    2.57056375488\n"
     ]
    }
   ],
   "source": [
    "#plt.plot(f1.edges[0], theo_prob*np.log(theo_prob))\n",
    "#plt.plot(f1.edges[0], f1.prob*np.log(f1.prob))\n",
    "#plt.show()\n",
    "\n",
    "print(\"theo sum: \",sum(-theo_prob*np.log(theo_prob))*f1.volume)\n",
    "print(\"theor:    \", gaussian_entropy(cov_[0,0]))\n",
    "print(\"sum:      \", sum(-f1.prob*np.log(f1.prob))*f1.volume)\n",
    "print(\"method:   \",f1.H())\n"
   ]
  },
  {
   "cell_type": "code",
   "execution_count": 802,
   "metadata": {
    "collapsed": false
   },
   "outputs": [
    {
     "data": {
      "text/plain": [
       "0.0029385319146779665"
      ]
     },
     "execution_count": 802,
     "metadata": {},
     "output_type": "execute_result"
    }
   ],
   "source": [
    "## check Mutual information \n",
    "MI(f0,[0],[1])"
   ]
  },
  {
   "cell_type": "markdown",
   "metadata": {},
   "source": [
    "### TEST (3) start from 3D gaussian and marginalise to 1D"
   ]
  },
  {
   "cell_type": "code",
   "execution_count": 803,
   "metadata": {
    "collapsed": false
   },
   "outputs": [],
   "source": [
    "cov2_ = np.array([[10,2,1],[2,5,5],[1,2,4]])\n",
    "tab1 = multinormal(cov2_,nsample_=500000,nbins_=50)"
   ]
  },
  {
   "cell_type": "code",
   "execution_count": 804,
   "metadata": {
    "collapsed": false
   },
   "outputs": [
    {
     "name": "stdout",
     "output_type": "stream",
     "text": [
      "free-energy has 3 dimensions\n",
      "binning of free-energy: (50, 50, 50)\n",
      "bin volume: 0.110069\n",
      "nomalization: 1.000000\n",
      "numer:  6.5076798134\n",
      "theor:  6.52311534619\n"
     ]
    }
   ],
   "source": [
    "f3 = free_energy()\n",
    "f3.read(table=tab1)\n",
    "\n",
    "print(\"numer: \" ,f3.H())\n",
    "print(\"theor: \", gaussian_entropy(cov2_))"
   ]
  },
  {
   "cell_type": "code",
   "execution_count": 805,
   "metadata": {
    "collapsed": false
   },
   "outputs": [
    {
     "name": "stdout",
     "output_type": "stream",
     "text": [
      "numer:  4.01692136252\n",
      "theor:  3.98916961291\n"
     ]
    }
   ],
   "source": [
    "f3_1d= f3.marginalise([1,2])\n",
    "print(\"numer: \", f3_1d.H())\n",
    "print(\"theor: \",gaussian_entropy(cov2_[1:3,1:3]))"
   ]
  },
  {
   "cell_type": "markdown",
   "metadata": {},
   "source": [
    "### TEST (4) calculate conditional entropy"
   ]
  },
  {
   "cell_type": "code",
   "execution_count": 790,
   "metadata": {
    "collapsed": false
   },
   "outputs": [
    {
     "name": "stderr",
     "output_type": "stream",
     "text": [
      "/home/davide/miniconda2/envs/mylab3/lib/python3.5/site-packages/ipykernel/__main__.py:83: RuntimeWarning: divide by zero encountered in log\n"
     ]
    },
    {
     "data": {
      "text/plain": [
       "2.5703550342453321"
      ]
     },
     "execution_count": 790,
     "metadata": {},
     "output_type": "execute_result"
    }
   ],
   "source": [
    "conditional_entropy(f0,[0],[1])"
   ]
  },
  {
   "cell_type": "markdown",
   "metadata": {},
   "source": [
    "### TEST (5) three-body co-information"
   ]
  },
  {
   "cell_type": "code",
   "execution_count": 791,
   "metadata": {
    "collapsed": false
   },
   "outputs": [
    {
     "name": "stdout",
     "output_type": "stream",
     "text": [
      "free-energy has 3 dimensions\n",
      "binning of free-energy: (50, 50, 50)\n",
      "bin volume: 0.101726\n",
      "nomalization: 1.000000\n"
     ]
    }
   ],
   "source": [
    "f3.describe()"
   ]
  },
  {
   "cell_type": "code",
   "execution_count": 792,
   "metadata": {
    "collapsed": false
   },
   "outputs": [
    {
     "name": "stderr",
     "output_type": "stream",
     "text": [
      "/home/davide/miniconda2/envs/mylab3/lib/python3.5/site-packages/ipykernel/__main__.py:83: RuntimeWarning: divide by zero encountered in log\n"
     ]
    },
    {
     "data": {
      "text/plain": [
       "-0.018426517930012487"
      ]
     },
     "execution_count": 792,
     "metadata": {},
     "output_type": "execute_result"
    }
   ],
   "source": [
    "CI(f3,[0],[1],[2])"
   ]
  },
  {
   "cell_type": "code",
   "execution_count": null,
   "metadata": {
    "collapsed": true
   },
   "outputs": [],
   "source": []
  }
 ],
 "metadata": {
  "anaconda-cloud": {},
  "kernelspec": {
   "display_name": "Python [conda env:mylab3]",
   "language": "python",
   "name": "conda-env-mylab3-py"
  },
  "language_info": {
   "codemirror_mode": {
    "name": "ipython",
    "version": 3
   },
   "file_extension": ".py",
   "mimetype": "text/x-python",
   "name": "python",
   "nbconvert_exporter": "python",
   "pygments_lexer": "ipython3",
   "version": "3.5.2"
  }
 },
 "nbformat": 4,
 "nbformat_minor": 1
}
