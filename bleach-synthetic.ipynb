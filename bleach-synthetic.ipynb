{
  "nbformat": 4,
  "nbformat_minor": 0,
  "metadata": {
    "colab": {
      "provenance": []
    },
    "kernelspec": {
      "name": "python3",
      "display_name": "Python 3"
    },
    "language_info": {
      "name": "python"
    }
  },
  "cells": [
    {
      "cell_type": "markdown",
      "source": [
        "# model with bleaching"
      ],
      "metadata": {
        "id": "85l_E4B3jCKp"
      }
    },
    {
      "cell_type": "markdown",
      "source": [
        "To incorporate the effect of dye photobleaching in our model, we consider a transition matrix with an absorbing (bleached) state:\n",
        "$$ G =\n",
        "\\begin{pmatrix}\\Gamma & \\omega \\\\\n",
        "0 & 1\n",
        "\\end{pmatrix} $$\n",
        "where $\\Gamma$ are transitions between the transient states, $\\omega$ is the vector of bleaching probabilities from each state. Note that $\\Gamma$ is not row-stochastic, while $G$ is.\n",
        "\n",
        "We model the distribution of states in the absence of bleaching using the row-stochastic matrix $\\tilde{\\Gamma} = \\Gamma - {\\rm diag}(\\omega)$, corresponding to maintaining the non-diagonal transition probabilities in $\\Gamma$.\n",
        "\n"
      ],
      "metadata": {
        "id": "teFToa7dQoPh"
      }
    },
    {
      "cell_type": "code",
      "source": [
        "import numpy as np\n",
        "from numpy.linalg import eig\n",
        "import pandas as pd\n",
        "import matplotlib.pyplot as plt"
      ],
      "metadata": {
        "id": "pG2yQGMtMgLB"
      },
      "execution_count": null,
      "outputs": []
    },
    {
      "cell_type": "code",
      "source": [
        "import numpy as np\n",
        "from numpy.linalg import eig\n",
        "import pandas as pd\n",
        "import matplotlib.pyplot as plt\n",
        "\n",
        "def get_equil(P):\n",
        "  ev = eig(P.transpose())\n",
        "  eigenvalues = ev[0]\n",
        "  eigenvectors = ev[1]\n",
        "\n",
        "  assert np.min((eigenvalues-1)**2) < 1e-7\n",
        "  #print(ev.eigenvalues)\n",
        "  fv = (eigenvectors[:,np.argmin((eigenvalues-1)**2)])\n",
        "  nfv = fv/fv.sum()\n",
        "\n",
        "  #check\n",
        "  #print(np.matmul(nfv, P))\n",
        "  return nfv\n",
        "\n",
        "  # a simple trace class with an observed value, time, and possibly a state trajectory\n",
        "\n",
        "class trace(object):\n",
        "   def __init__(self, obs, times, states=None):\n",
        "      self.obs = np.array(obs)\n",
        "      self.times = np.array(times)\n",
        "      if states:\n",
        "        self.state = np.array(states)\n",
        "\n",
        "\n",
        "   def average(self,time_resolution):\n",
        "\n",
        "    truncate = int(time_resolution*((self.obs.shape)[0] // time_resolution))\n",
        "    traj_reshaped = (self.obs[0:truncate].reshape((int(truncate/time_resolution),time_resolution)))\n",
        "    times_reshaped = (self.times[0:truncate].reshape((int(truncate/time_resolution),time_resolution)))\n",
        "    new_obs = traj_reshaped.mean(axis=1)\n",
        "    new_times = times_reshaped.min(axis=1)\n",
        "\n",
        "    return trace(obs=new_obs, times=new_times)\n",
        "\n",
        "\n",
        "\n",
        "def gen_trace(P, emissions, length):\n",
        "  #equil = get_equil(P)\n",
        "  #nstates = len(equil)\n",
        "  #state = np.random.choice(range(0,nstates), size=1, p=equil)[0]\n",
        "\n",
        "  nstates = P.shape[0]\n",
        "  state = np.random.choice(range(0,nstates-1), size=1)[0]\n",
        "  states = [state]\n",
        "  def emit(state):\n",
        "    return np.random.normal(loc=emissions[state]['loc'], scale=emissions[state]['scale'], size=1)[0]\n",
        "\n",
        "  obs = [emit(state)]\n",
        "\n",
        "  for i in range(length):\n",
        "    probs = np.array(P[state,:])\n",
        "    state = np.random.choice(range(0,nstates),size=1, p=probs)[0]\n",
        "    states.append(state)\n",
        "    obs.append(emit(state))\n",
        "\n",
        "  times = range(len(obs))\n",
        "  tr = trace(obs, times, states)\n",
        "\n",
        "  return tr\n"
      ],
      "metadata": {
        "id": "o2VsW6ffk5-T"
      },
      "execution_count": null,
      "outputs": []
    },
    {
      "cell_type": "code",
      "source": [
        "N = 3\n",
        "ax=.01;  bx=.005;\n",
        "deatha = 0.01\n",
        "deathb = 0.00\n",
        "\n",
        "Px = np.array([\n",
        "    [1-ax-deatha, ax, deatha],  # 1 to ...\n",
        "    [bx, 1-bx-deathb, deathb],  # 2 to ...\n",
        "    [0, 0, 1]\n",
        "    ])\n",
        "\n",
        "emissionsx = [\n",
        "      {'loc':0.8,  'scale':0.1},\n",
        "      {'loc':0.2 , 'scale':0.1},\n",
        "      {'loc':-1, 'scale':0.00001} ]\n"
      ],
      "metadata": {
        "id": "Sb1ViHVgjCQw"
      },
      "execution_count": null,
      "outputs": []
    },
    {
      "cell_type": "code",
      "source": [
        "numtrc = 100\n",
        "tracesx = [ gen_trace(Px, emissionsx, 500) for i in range(numtrc)]\n",
        "\n"
      ],
      "metadata": {
        "id": "Nek0f2e6kSPe"
      },
      "execution_count": null,
      "outputs": []
    },
    {
      "cell_type": "code",
      "source": [
        "yy = []\n",
        "lenyy = []\n",
        "for trc in tracesx:\n",
        "  if len(np.where(trc.state==2)[0])>0:\n",
        "    obs = trc.obs[0:(np.min(np.where(trc.state==2)[0])+1)]\n",
        "  else:\n",
        "    obs = trc.obs\n",
        "  yy.append(obs)\n",
        "  lenyy.append(len(obs))\n",
        "\n",
        "yyall = np.concatenate(yy)\n"
      ],
      "metadata": {
        "id": "yJzL22G3kogQ"
      },
      "execution_count": null,
      "outputs": []
    },
    {
      "cell_type": "code",
      "source": [
        "np.mean(lenyy)"
      ],
      "metadata": {
        "id": "sfQwXxLtU3oV",
        "outputId": "b09fddde-48d6-4a84-c9a0-2bf21807cd1c",
        "colab": {
          "base_uri": "https://localhost:8080/"
        }
      },
      "execution_count": null,
      "outputs": [
        {
          "output_type": "execute_result",
          "data": {
            "text/plain": [
              "254.35"
            ]
          },
          "metadata": {},
          "execution_count": 125
        }
      ]
    },
    {
      "cell_type": "code",
      "source": [
        "\n",
        "w_johnathan = np.concatenate([np.repeat(1/ll,ll) for ll in lenyy])"
      ],
      "metadata": {
        "id": "9a8loIip0sYE"
      },
      "execution_count": null,
      "outputs": []
    },
    {
      "cell_type": "code",
      "source": [
        "def get_transientP(Q):\n",
        "  P = Q[:,:-1][:-1,:] + np.diag(Px[:,-1][:-1])\n",
        "  deathp = Q[:,-1]\n",
        "  return P\n",
        "\n",
        "def get_quasiequil(Q):\n",
        "  P = get_transientP(Q)\n",
        "  return get_equil(P)\n",
        "\n",
        "\n",
        "get_quasiequil(Px)\n",
        "traces_quasi = [ gen_trace(get_transientP(Px), emissionsx[:-1], 500) for i in range(numtrc)]\n",
        "traces_quasiall = np.concatenate([tr.obs for tr in traces_quasi])\n"
      ],
      "metadata": {
        "id": "xWJnI7jfmawF"
      },
      "execution_count": null,
      "outputs": []
    },
    {
      "cell_type": "code",
      "source": [],
      "metadata": {
        "id": "xvMqEnhN14tw"
      },
      "execution_count": null,
      "outputs": []
    },
    {
      "cell_type": "code",
      "source": [],
      "metadata": {
        "id": "dCLWq3swqgYZ"
      },
      "execution_count": null,
      "outputs": []
    },
    {
      "cell_type": "code",
      "source": [
        "_ = plt.hist(yyall[yyall>-0.5], bins=50, label='no normalisation',alpha=0.4,density=True,\n",
        "             edgecolor=\"gray\", color='gray'\n",
        "             )\n",
        "_ = plt.hist(traces_quasiall, bins=50, label='model with bleach',\n",
        "             color='orange',\n",
        "             alpha=0.5,density=True)\n",
        "_ = plt.hist(yyall[yyall>-0.5], weights=w_johnathan[yyall>-0.5],\n",
        "             bins=50, label='johnath norm',alpha=0.5,density=True, color='green')\n",
        "plt.legend()\n"
      ],
      "metadata": {
        "id": "piL-bX0snxQ_",
        "colab": {
          "base_uri": "https://localhost:8080/",
          "height": 448
        },
        "outputId": "cc5fc9d4-8634-412d-f868-42f73a588e6f"
      },
      "execution_count": null,
      "outputs": [
        {
          "output_type": "execute_result",
          "data": {
            "text/plain": [
              "<matplotlib.legend.Legend at 0x7c535af44e20>"
            ]
          },
          "metadata": {},
          "execution_count": 145
        },
        {
          "output_type": "display_data",
          "data": {
            "text/plain": [
              "<Figure size 640x480 with 1 Axes>"
            ],
            "image/png": "[encoded data removed]"
          },
          "metadata": {}
        }
      ]
    }
  ]
}